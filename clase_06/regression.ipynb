{
 "cells": [
  {
   "cell_type": "markdown",
   "id": "ee813f08",
   "metadata": {},
   "source": [
    "## **Data Science Aplicado a las Finanzas** 🚀\n",
    "### **Sesión 6: Modelos de Regresión**\n",
    "\n",
    "Andrés C. Medina Sanhueza\n",
    "\n",
    "Senior Datascientist Engineer \n",
    "\n",
    "anmedinas@gmail.com"
   ]
  },
  {
   "cell_type": "markdown",
   "id": "9d08710e",
   "metadata": {},
   "source": []
  }
 ],
 "metadata": {
  "language_info": {
   "name": "python"
  }
 },
 "nbformat": 4,
 "nbformat_minor": 5
}
