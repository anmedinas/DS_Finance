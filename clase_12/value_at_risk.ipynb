{
 "cells": [
  {
   "cell_type": "markdown",
   "id": "59141fd6",
   "metadata": {},
   "source": [
    "## **Data Science Aplicado a las Finanzas** 🚀\n",
    "### **Sesión 12: Value at Risk**\n",
    "\n",
    "Andrés C. Medina Sanhueza\n",
    "\n",
    "Senior Data Scientist Engineer \n",
    "\n",
    "anmedinas@gmail.com"
   ]
  }
 ],
 "metadata": {
  "language_info": {
   "name": "python"
  }
 },
 "nbformat": 4,
 "nbformat_minor": 5
}
