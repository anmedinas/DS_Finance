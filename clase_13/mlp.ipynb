{
 "cells": [
  {
   "cell_type": "markdown",
   "id": "7c7cd37a",
   "metadata": {},
   "source": [
    "## **Data Science Aplicado a las Finanzas** 🚀\n",
    "### **Sesión 13: Redes Neuronales**\n",
    "\n",
    "Andrés C. Medina Sanhueza\n",
    "\n",
    "Senior Data Scientist Engineer \n",
    "\n",
    "anmedinas@gmail.com"
   ]
  },
  {
   "cell_type": "markdown",
   "id": "e5d05022",
   "metadata": {},
   "source": [
    "### 🦜 Tipos de Datos\n",
    "\n",
    "Un aspecto fundamental a considerar, tiene relación con los `inputs`. Hasta el momento, hemos estado suponiendo que los `inputs` son valores unidimensionales o escalares, pero en la vida real esto no tiene porque ser asi. Las redes neuronales han ganado popularidad porque resuelven una gran cantidad de problemas, especialmente los complejos, y esta complejidad radica en los datos de entrada de estos modelos. Estos datos de entrada pueden ser datos tabulares, imágenes, audios y videos. \n",
    "\n",
    "La gran particularidad de estos datos, es que pueden ser representados mediante `Tensores`.  \n",
    "\n",
    "<tr>\n",
    "<td><img src = \"inputs.png\" style=\"width: 1000px;\"/> </td>\n",
    "</tr>\n",
    "\n",
    "Un `Tensor` es una generalización de los conceptos clásicos de algebra lineal como lo son escalares, vectores y matrices. Como lo muestra la figura anterior, un `Tensor` es una estructura multidimensional usada para representar datos y operaciones matemáticas en redes neuronales. Por ejemplo, los datos que ingresan a una red neuronal son representados como tensores.\n",
    "\n",
    "* **Imágenes** : Tensor 4D con dimensiones ($N$,$C$, $H$, $W$)\n",
    "  * $N$ : número de imágenes (batches)\n",
    "  * $C$ : Canales de color (RGB o monocromatico)\n",
    "  * $H, W$ : Altura y Ancho de la imagen \n",
    "  \n",
    "* **Texto** : Tensor en 3D con dimensiones ($N$, $L$, $d$)\n",
    "  * $N$: número de ejemplos en el batch\n",
    "  * $L$: longitud de la secuencia (número de palabras o caracteres)\n",
    "  * $d$: dimensión de los vectores de embeddings \n",
    "  \n",
    "Sin embargo, existe una complejidad en las operaciones con tensores relacionado con el tamaño y dimensionalidad que **`Pytorch`** resuelve. \n",
    "\n",
    "**`Pytorch`** es una biblioteca de aprendizaje automático de código abierto que se especializa en cálculo de tensores, diferenciación automática y aceleración de GPU. Por estos motivos, **`Pytorch`** es una de las bibliotecas de aprendizaje profundo más populares y compite tanto con **`Keras`** como con **`Tensorflow`**. **`Pytorch`** tiende a ser especialmente popular entre la comunidad de investigación debido a su naturaleza pitónica y su facilidad de ampliación (es decir, la implementación de tipos de capas personalizadas, arquitecturas de red, etc.). "
   ]
  },
  {
   "cell_type": "markdown",
   "id": "58de8641",
   "metadata": {},
   "source": [
    "#### 🦩 Tensores"
   ]
  },
  {
   "cell_type": "code",
   "execution_count": 1,
   "id": "8299842b",
   "metadata": {},
   "outputs": [],
   "source": [
    "import torch \n",
    "import numpy as np"
   ]
  },
  {
   "cell_type": "code",
   "execution_count": 2,
   "id": "5ed4d0ef",
   "metadata": {},
   "outputs": [
    {
     "name": "stdout",
     "output_type": "stream",
     "text": [
      "tensor(1.)\n"
     ]
    }
   ],
   "source": [
    "# Representacion de un escalar (Tensor Rank-0)\n",
    "a = torch.tensor(1.)\n",
    "print(a)"
   ]
  },
  {
   "cell_type": "code",
   "execution_count": 3,
   "id": "51588d71",
   "metadata": {},
   "outputs": [
    {
     "name": "stdout",
     "output_type": "stream",
     "text": [
      "torch.Size([])\n"
     ]
    }
   ],
   "source": [
    "print(a.shape)"
   ]
  },
  {
   "cell_type": "code",
   "execution_count": 4,
   "id": "ef5275ee",
   "metadata": {},
   "outputs": [
    {
     "name": "stdout",
     "output_type": "stream",
     "text": [
      "tensor([1., 2., 3.])\n"
     ]
    }
   ],
   "source": [
    "# Representacion de un vector (Tensor rank-1)\n",
    "a = torch.tensor([1., 2., 3.])\n",
    "print(a)"
   ]
  },
  {
   "cell_type": "code",
   "execution_count": 5,
   "id": "e8b3a2be",
   "metadata": {},
   "outputs": [
    {
     "name": "stdout",
     "output_type": "stream",
     "text": [
      "torch.Size([3])\n"
     ]
    }
   ],
   "source": [
    "print(a.shape)"
   ]
  },
  {
   "cell_type": "code",
   "execution_count": 6,
   "id": "6f5017e4",
   "metadata": {},
   "outputs": [
    {
     "name": "stdout",
     "output_type": "stream",
     "text": [
      "tensor([[1., 2., 3.],\n",
      "        [4., 5., 6.]])\n"
     ]
    }
   ],
   "source": [
    "# Representacion de un vector (Tensor rank-2)\n",
    "m = torch.tensor([[1., 2., 3.],[4., 5., 6.]])\n",
    "print(m)"
   ]
  },
  {
   "cell_type": "code",
   "execution_count": 7,
   "id": "8e48abd4",
   "metadata": {},
   "outputs": [
    {
     "name": "stdout",
     "output_type": "stream",
     "text": [
      "torch.Size([2, 3])\n"
     ]
    }
   ],
   "source": [
    "print(m.shape)"
   ]
  },
  {
   "cell_type": "code",
   "execution_count": 8,
   "id": "12cb72ba",
   "metadata": {},
   "outputs": [],
   "source": [
    "# # Representacion de un vector 3D (Tensor rank-3)\n",
    "a = torch.tensor([[[1., 2., 3.],\n",
    "                   [2., 3., 4.]],\n",
    "    [[5., 6., 7.],\n",
    "     [8., 9., 10.]]])"
   ]
  },
  {
   "cell_type": "code",
   "execution_count": 9,
   "id": "91831c0e",
   "metadata": {},
   "outputs": [
    {
     "data": {
      "text/plain": [
       "torch.Size([2, 2, 3])"
      ]
     },
     "execution_count": 9,
     "metadata": {},
     "output_type": "execute_result"
    }
   ],
   "source": [
    "a.shape"
   ]
  },
  {
   "cell_type": "code",
   "execution_count": 10,
   "id": "778f3855",
   "metadata": {},
   "outputs": [
    {
     "data": {
      "text/plain": [
       "torch.Size([2, 2, 2, 3])"
      ]
     },
     "execution_count": 10,
     "metadata": {},
     "output_type": "execute_result"
    }
   ],
   "source": [
    "# Representacion de un vector 4D (Tensor rank-4)\n",
    "b = torch.stack((a, a))\n",
    "b.shape"
   ]
  },
  {
   "cell_type": "code",
   "execution_count": 11,
   "id": "37f68acb",
   "metadata": {},
   "outputs": [
    {
     "data": {
      "text/plain": [
       "tensor([[[[ 1.,  2.,  3.],\n",
       "          [ 2.,  3.,  4.]],\n",
       "\n",
       "         [[ 5.,  6.,  7.],\n",
       "          [ 8.,  9., 10.]]],\n",
       "\n",
       "\n",
       "        [[[ 1.,  2.,  3.],\n",
       "          [ 2.,  3.,  4.]],\n",
       "\n",
       "         [[ 5.,  6.,  7.],\n",
       "          [ 8.,  9., 10.]]]])"
      ]
     },
     "execution_count": 11,
     "metadata": {},
     "output_type": "execute_result"
    }
   ],
   "source": [
    "b           "
   ]
  },
  {
   "cell_type": "code",
   "execution_count": 12,
   "id": "38d365b1",
   "metadata": {},
   "outputs": [],
   "source": [
    "# Suma de Tensores \n",
    "a = torch.tensor([1., 2. ,3.])\n",
    "b = torch.tensor([4., 5., 6.])\n",
    "\n",
    "c = a + b  \n",
    "d = a - b "
   ]
  },
  {
   "cell_type": "code",
   "execution_count": 13,
   "id": "8ce8bfe5",
   "metadata": {},
   "outputs": [
    {
     "name": "stdout",
     "output_type": "stream",
     "text": [
      "tensor([5., 7., 9.])\n"
     ]
    }
   ],
   "source": [
    "print(c)"
   ]
  },
  {
   "cell_type": "code",
   "execution_count": 14,
   "id": "e24066c7",
   "metadata": {},
   "outputs": [
    {
     "name": "stdout",
     "output_type": "stream",
     "text": [
      "tensor([-3., -3., -3.])\n"
     ]
    }
   ],
   "source": [
    "print(d)"
   ]
  },
  {
   "cell_type": "code",
   "execution_count": 15,
   "id": "43d614a2",
   "metadata": {},
   "outputs": [
    {
     "name": "stdout",
     "output_type": "stream",
     "text": [
      "tensor([ 4., 10., 18.])\n"
     ]
    }
   ],
   "source": [
    "# Multiplicacion de Tensores\n",
    "e = a*b\n",
    "print(e)"
   ]
  },
  {
   "cell_type": "code",
   "execution_count": 16,
   "id": "b8373714",
   "metadata": {},
   "outputs": [
    {
     "data": {
      "text/plain": [
       "tensor([ 4., 10., 18.])"
      ]
     },
     "execution_count": 16,
     "metadata": {},
     "output_type": "execute_result"
    }
   ],
   "source": [
    "torch.mul(a, b)"
   ]
  },
  {
   "cell_type": "code",
   "execution_count": 17,
   "id": "da1be3c9",
   "metadata": {},
   "outputs": [
    {
     "name": "stdout",
     "output_type": "stream",
     "text": [
      "tensor(32.)\n"
     ]
    }
   ],
   "source": [
    "# Producto Punto\n",
    "v1 = torch.tensor([1.0, 2.0, 3.0])\n",
    "v2 = torch.tensor([4.0, 5.0, 6.0])\n",
    "dot_product = torch.dot(v1, v2)\n",
    "print(dot_product)"
   ]
  },
  {
   "cell_type": "code",
   "execution_count": 18,
   "id": "4eca00fc",
   "metadata": {},
   "outputs": [
    {
     "data": {
      "text/plain": [
       "tensor([ 4., 10., 18.])"
      ]
     },
     "execution_count": 18,
     "metadata": {},
     "output_type": "execute_result"
    }
   ],
   "source": [
    "# Multiplicacion de Matrices  \n",
    "torch.mul(v1, v2)"
   ]
  },
  {
   "cell_type": "code",
   "execution_count": 19,
   "id": "9a4b7842",
   "metadata": {},
   "outputs": [
    {
     "data": {
      "text/plain": [
       "tensor([[19, 22],\n",
       "        [43, 50]])"
      ]
     },
     "execution_count": 19,
     "metadata": {},
     "output_type": "execute_result"
    }
   ],
   "source": [
    "m1 = torch.tensor([[1, 2], [3, 4]])\n",
    "m2 = torch.tensor([[5, 6], [7, 8]])\n",
    "torch.mm(m1, m2)"
   ]
  },
  {
   "cell_type": "code",
   "execution_count": 20,
   "id": "b438333a",
   "metadata": {},
   "outputs": [
    {
     "data": {
      "text/plain": [
       "tensor([[ 0.6000, -0.7000],\n",
       "        [-0.2000,  0.4000]])"
      ]
     },
     "execution_count": 20,
     "metadata": {},
     "output_type": "execute_result"
    }
   ],
   "source": [
    "# Transposicion de Matrices \n",
    "m = torch.tensor([[4.0, 7.0], [2.0, 6.0]])\n",
    "torch.inverse(m)"
   ]
  },
  {
   "cell_type": "code",
   "execution_count": 21,
   "id": "7a2c72d0",
   "metadata": {},
   "outputs": [
    {
     "data": {
      "text/plain": [
       "tensor([[ 0.6000, -0.7000],\n",
       "        [-0.2000,  0.4000]])"
      ]
     },
     "execution_count": 21,
     "metadata": {},
     "output_type": "execute_result"
    }
   ],
   "source": [
    "# Inversa de una Matriz\n",
    "m = torch.tensor([[4.0, 7.0], [2.0, 6.0]])\n",
    "torch.inverse(m)"
   ]
  },
  {
   "cell_type": "code",
   "execution_count": 22,
   "id": "47db897c",
   "metadata": {},
   "outputs": [
    {
     "data": {
      "text/plain": [
       "tensor(5.)"
      ]
     },
     "execution_count": 22,
     "metadata": {},
     "output_type": "execute_result"
    }
   ],
   "source": [
    "# Norma de un Tensor \n",
    "t = torch.tensor([3.0, 4.0])\n",
    "torch.norm(t)"
   ]
  },
  {
   "cell_type": "code",
   "execution_count": 23,
   "id": "4694f823",
   "metadata": {},
   "outputs": [
    {
     "data": {
      "text/plain": [
       "torch.return_types.svd(\n",
       "U=tensor([[-0.4046, -0.9145],\n",
       "        [-0.9145,  0.4046]]),\n",
       "S=tensor([5.4650, 0.3660]),\n",
       "V=tensor([[-0.5760,  0.8174],\n",
       "        [-0.8174, -0.5760]]))"
      ]
     },
     "execution_count": 23,
     "metadata": {},
     "output_type": "execute_result"
    }
   ],
   "source": [
    "# Descomposicion de Valores Singulares \n",
    "m = torch.tensor([[1.0, 2.0], [3.0, 4.0]])\n",
    "torch.svd(m)"
   ]
  },
  {
   "cell_type": "code",
   "execution_count": 24,
   "id": "6a5a0144",
   "metadata": {},
   "outputs": [
    {
     "data": {
      "text/plain": [
       "torch.return_types.linalg_eig(\n",
       "eigenvalues=tensor([3.+0.j, 2.+0.j]),\n",
       "eigenvectors=tensor([[0.8944+0.j, 0.7071+0.j],\n",
       "        [0.4472+0.j, 0.7071+0.j]]))"
      ]
     },
     "execution_count": 24,
     "metadata": {},
     "output_type": "execute_result"
    }
   ],
   "source": [
    "# Valores y Vectores Propios\n",
    "m = torch.tensor([[4.0, -2.0], [1.0, 1.0]])\n",
    "torch.linalg.eig(m)\n"
   ]
  },
  {
   "cell_type": "code",
   "execution_count": 25,
   "id": "40a5b340",
   "metadata": {},
   "outputs": [
    {
     "data": {
      "text/plain": [
       "tensor([-1.1921e-07,  2.5000e+00])"
      ]
     },
     "execution_count": 25,
     "metadata": {},
     "output_type": "execute_result"
    }
   ],
   "source": [
    "# Resolucion de Ecuaciones lineales \n",
    "A = torch.tensor([[3.0, 2.0], [1.0, 2.0]])\n",
    "b = torch.tensor([5.0, 5.0])\n",
    "torch.linalg.solve(A, b)"
   ]
  },
  {
   "cell_type": "code",
   "execution_count": 26,
   "id": "2f61ef8c",
   "metadata": {},
   "outputs": [
    {
     "data": {
      "text/plain": [
       "tensor([0., 0., 1.])"
      ]
     },
     "execution_count": 26,
     "metadata": {},
     "output_type": "execute_result"
    }
   ],
   "source": [
    "# Producto Cruz \n",
    "v1 = torch.tensor([1.0, 0.0, 0.0])\n",
    "v2 = torch.tensor([0.0, 1.0, 0.0])\n",
    "torch.linalg.cross(v1, v2)"
   ]
  },
  {
   "cell_type": "code",
   "execution_count": 27,
   "id": "70c7e19b",
   "metadata": {},
   "outputs": [
    {
     "data": {
      "text/plain": [
       "tensor(3.)"
      ]
     },
     "execution_count": 27,
     "metadata": {},
     "output_type": "execute_result"
    }
   ],
   "source": [
    "# Determinantes \n",
    "a = torch.tensor([[4.0, 2.0, 1.0], [6.0, 3.0, 2.0], [1.0, -1.0, 1.0]])\n",
    "torch.det(a)"
   ]
  },
  {
   "cell_type": "code",
   "execution_count": 28,
   "id": "f3e78644",
   "metadata": {},
   "outputs": [
    {
     "data": {
      "text/plain": [
       "tensor([[0.4970, 0.3441],\n",
       "        [0.2490, 0.6141]], dtype=torch.float64)"
      ]
     },
     "execution_count": 28,
     "metadata": {},
     "output_type": "execute_result"
    }
   ],
   "source": [
    "# Generacion de Tensores Aleatorios\n",
    "torch.tensor(np.random.rand(2,2))"
   ]
  },
  {
   "cell_type": "code",
   "execution_count": 29,
   "id": "990b8bde",
   "metadata": {},
   "outputs": [
    {
     "data": {
      "text/plain": [
       "tensor([[0., 0., 0.],\n",
       "        [0., 0., 0.],\n",
       "        [0., 0., 0.]])"
      ]
     },
     "execution_count": 29,
     "metadata": {},
     "output_type": "execute_result"
    }
   ],
   "source": [
    "# Tensor de Ceros\n",
    "torch.zeros(3,3)"
   ]
  },
  {
   "cell_type": "code",
   "execution_count": 30,
   "id": "8faf76aa",
   "metadata": {},
   "outputs": [
    {
     "data": {
      "text/plain": [
       "tensor([[1., 4.],\n",
       "        [2., 5.],\n",
       "        [3., 6.]])"
      ]
     },
     "execution_count": 30,
     "metadata": {},
     "output_type": "execute_result"
    }
   ],
   "source": [
    "# Transponer un Tensor \n",
    "c = torch.tensor([[1., 2., 3.], [4., 5., 6.]])\n",
    "c.T"
   ]
  },
  {
   "cell_type": "code",
   "execution_count": 31,
   "id": "90ad10c5",
   "metadata": {},
   "outputs": [
    {
     "data": {
      "text/plain": [
       "tensor([[1., 0., 0.],\n",
       "        [0., 1., 0.],\n",
       "        [0., 0., 1.]])"
      ]
     },
     "execution_count": 31,
     "metadata": {},
     "output_type": "execute_result"
    }
   ],
   "source": [
    "# Tensor de Identidad\n",
    "torch.eye(3)"
   ]
  },
  {
   "cell_type": "markdown",
   "id": "7f409334",
   "metadata": {},
   "source": [
    "### 🦉 Red Neuronal\n",
    "\n",
    "#### 🦆 Perceptrón\n",
    "\n",
    "Una red neuronal artificial (RNA), se describe como un modelo matemático que está inspirado en la estructura y funcionamiento del cerebro humano. Formalmente, también se puede definir como un grafo dirigido en el que los nodos, representan neuronas artificiales y las aristas ó arcos, representan conexiones con ponderaciones asociados. Las neuronas del cerebro humano están compuestas por `dendritas`, `soma` y `axón`. Las `dendritas` se encargan de captar los impulsos nerviosos que emiten nuestras neuronas. Estos impulsos se procesan en el `soma` o `núcleo` y se transmiten a través del `axón` que emite un impulso nervioso hacia las neuronas contiguas, tal como lo muestra la figura izquierda. \n",
    "\n",
    "<tr>\n",
    "<td><img src = \"ANR.png\" style=\"width: 1000px;\"/> </td>\n",
    "</tr>"
   ]
  },
  {
   "cell_type": "markdown",
   "id": "c5993ab6",
   "metadata": {},
   "source": [
    "La figura derecha, es una abstracción del funcionamiento de una red neuronal artificial. En este contexto, es una unidad computacional que recibe entradas o `inputs`, realiza una operación matemática sobre estas (generalmente una combinación lineal mediante `linear function` llamada $z$) y luego aplica una función de activación no lineal (`activation function` $f$) para producir una salida u `output`. \n",
    "\n",
    "\n",
    "<tr>\n",
    "<td><img src = \"activacion.webp\" style=\"width: 1000px;\"/> </td>\n",
    "</tr>\n",
    "\n",
    "<tr>\n",
    "<td><img src = \"multilayer.png\" style=\"width: 1000px;\"/> </td>\n",
    "</tr>\n",
    "\n",
    "Por otro lado, las ponderaciones o pesos llamados $w$ , representan la influencia que una entrada tiene sobre la neurona. En redes biológicas, esto puede asemejarse a la fuerza sináptica que define cuánto influye una neurona sobre otra. \n",
    "\n",
    "Estas neuronas están organizadas en :\n",
    "\n",
    "* `Capa de Entrada` recibe datos de entrada (similares a los estimulos sensoriales en el cerebro)\n",
    "  \n",
    "* `Capa de Salida` produce la salida en el modelo\n",
    "\n",
    "* `Capa Oculta` realiza cálculos intermedios para aprender representaciones complejas\n",
    "\n",
    "Por tanto, del mismo modo en que nuestro cerebro está compuesto por neuronas interconectadas entre sí, una red neuronal artificial esta formada por neuronas artificiales conectadas entre sí y agrupadas en diferentes niveles que denominamos `capas` o `layers`. Basicamente, una capa es un conjunto de neuronas cuyas entradas (`input layers`) provienen de una capa anterior (o de los datos de entrada en el caso de la primera capa) cuyas salidas son la entrada de una capa posterior. En el caso de la imagen, esta es una red neuronal de 5 capas. Una capa de entrada, tres capas ocultas y una capa de salida. "
   ]
  },
  {
   "cell_type": "markdown",
   "id": "21c02963",
   "metadata": {},
   "source": [
    "#### 🐞 Perceptrón Multicapa (MLP)\n",
    "\n",
    "Un perceptrón multicapa (MLP) es una red neuronal con una o más capas ocultas. Cada capa oculta tiene múltiples neuronas y aplica una función de activación no lineal. Un MLP puede aprender relaciones más complejas que un perceptrón simple (figura anterior).\n",
    "\n",
    " 📌 **¿Por qué usar un MLP?** un perceptrón simple tiene limitaciones porque solo puede aprender relaciones lineales. Al agregar capas ocultas con funciones de activación no lineales, un MLP puede aprender patrones más complejos.\n",
    "\n"
   ]
  },
  {
   "cell_type": "markdown",
   "id": "a71df08f",
   "metadata": {},
   "source": [
    "### 🐛 Aprendizaje de la red neuronal\n",
    "\n",
    "📌 **¿ Cómo es el proceso de aprendizaje ?**, basicamente esto se logra ajustando sus parámetros o ponderaciones $w$ para minimizar el error entre las predicciones de la red y las etiquetas reales (objetivo). Este aprendizaje se logra mediante un proceso iterativo que incluye los siguientes pasos.\n",
    "\n",
    "* `Forward Propagation` (propagación hacia adelante). El aprendizaje comienza con la propagación de los datos de entrada a traves de una red\n",
    "  * Las entradas $x$ se combinan linealmente con los pesos $w$ y sesgos $b$ de cada neurona, de modo que la función lineal $z$ queda de la siguiente manera : $z = w\\cdot x + b$\n",
    "  * Se aplica la función de activación $f(z)$ para introducir la no linealidad: $a = f(z)$\n",
    "  * Este proceso de aplica capa por capa hasta obtener una salida de la red $y_{\\hbox pred}$\n",
    "\n",
    "* `Loss function` (función de pérdida). La función de pérdida cuantifica el error entre la salida predicha $y_{\\hbox pred}$ y la verdadera $y_{\\hbox real}$. Dependiendo de la naturaleza del problema (regresión o clasificación), las funciones de pérdida clásicas son:\n",
    "  \n",
    "  * `Regresión` (MSE) : $ L = \\frac{1}{N}\\sum_{i = 1}^{N}(y_{real,i} - y_{pred, i})^2$\n",
    "* \n",
    "  * `Clasificación` (Entropía Cruzada) : $ L = -\\frac{1}{N}\\sum_{i = 1}^{N}\\sum_{j = 1}^{C} y_{real,ij}\\log{y_{pred,ij}}$\n",
    "\n",
    "* `Backward Propagation` (retropropagación). Este, es el paso en el que las neuronas aprenden. Esto, consiste en ajustar los pesos $w$ y sesgos $b$ minimizando el error calculado.\n",
    "  * `Gradiente del Error`. Se calcula cómo cambia la función de perdida $L$ respecto a cada peso $w$ y sesgo $w$, es decir $\\frac{\\partial L}{\\partial w}$ y $\\frac{\\partial L}{\\partial b}$, esto se hace utilizando la regla de la cadena, propagando hacia atrás desde la salida hasta la entrada.\n",
    "  * `Propagación inversa por capas`. Para cada capa, se calcula el gradiente de la función de pérdida respecto a sus parámetros. Los gradientes se propagan hacia atrás utilizando las derivadas parciales de la función de activación y operaciones lineales. \n",
    "\n",
    "* `Update` (actualización de parámetros). Una vez calculados los gradientes, los pesos y sesgos, se actualizan para reducir el error. \n",
    "  * Los parámetros se ajustan en la dirección opuesta al gradiente \n",
    "    \n",
    "    \\begin{equation*}\n",
    "      \\begin{aligned}\n",
    "      w &\\longleftarrow w - \\eta\\frac{\\partial L}{\\partial w} \\\\\n",
    "      b &\\longleftarrow b - \\eta\\frac{\\partial L}{\\partial b}\n",
    "      \\end{aligned}\n",
    "    \\end{equation*}\n",
    "     \n",
    "\n",
    "    Donde $\\eta$ es la tasa de aprendizaje que controla la magnitud de los cambios.\n",
    "\n",
    "* `Optimización`. Optimizadores como `Adam`, `RMSProp` y `SGD con momentum` mejoran el proceso de aprendizaje ajustando dinamicamente los pasos de actualización (veremos en detalle posteriormente). \n",
    "\n",
    "* `Repetición` Este ciclo (propagación hacia adelante, cálculo de pérdida, retropropagación y actualización de parámetros) se repite para múltiples épocas (iteraciones sobre los datos de entrenamiento) en donde en cada iteración, la red aprende a producir salidas más precisas."
   ]
  },
  {
   "cell_type": "markdown",
   "id": "ffe58d45",
   "metadata": {},
   "source": [
    "Todo este proceso, se puede ver claramente en la siguiente animación. \n",
    "\n",
    "<tr>\n",
    "<td><img src = \"process.gif\" style=\"width: 1000px;\"/> </td>\n",
    "</tr>"
   ]
  },
  {
   "cell_type": "markdown",
   "id": "054eb95a",
   "metadata": {},
   "source": [
    "### 🎯 Implementaciones Computacionales"
   ]
  },
  {
   "cell_type": "code",
   "execution_count": 32,
   "id": "df69ac04",
   "metadata": {},
   "outputs": [],
   "source": [
    "from sklearn.datasets import load_digits\n",
    "import matplotlib.pyplot as plt\n",
    "import seaborn as sns\n",
    "import pandas as pd\n",
    "\n",
    "sns.set_style('dark')"
   ]
  },
  {
   "cell_type": "code",
   "execution_count": 33,
   "id": "48826602",
   "metadata": {},
   "outputs": [],
   "source": [
    "digits = load_digits()\n",
    "\n",
    "X = digits.data\n",
    "y = digits.target"
   ]
  },
  {
   "cell_type": "code",
   "execution_count": 34,
   "id": "386ea490",
   "metadata": {},
   "outputs": [
    {
     "name": "stdout",
     "output_type": "stream",
     "text": [
      "Dimensiones de los datos: (1797, 64)\n",
      "Etiquetas disponibles: {np.int64(0), np.int64(1), np.int64(2), np.int64(3), np.int64(4), np.int64(5), np.int64(6), np.int64(7), np.int64(8), np.int64(9)}\n"
     ]
    }
   ],
   "source": [
    "print(f\"Dimensiones de los datos: {X.shape}\")\n",
    "print(f\"Etiquetas disponibles: {set(y)}\")"
   ]
  },
  {
   "cell_type": "code",
   "execution_count": 35,
   "id": "10c11c10",
   "metadata": {},
   "outputs": [
    {
     "data": {
      "text/html": [
       "<div>\n",
       "<style scoped>\n",
       "    .dataframe tbody tr th:only-of-type {\n",
       "        vertical-align: middle;\n",
       "    }\n",
       "\n",
       "    .dataframe tbody tr th {\n",
       "        vertical-align: top;\n",
       "    }\n",
       "\n",
       "    .dataframe thead th {\n",
       "        text-align: right;\n",
       "    }\n",
       "</style>\n",
       "<table border=\"1\" class=\"dataframe\">\n",
       "  <thead>\n",
       "    <tr style=\"text-align: right;\">\n",
       "      <th></th>\n",
       "      <th>Pixel_1</th>\n",
       "      <th>Pixel_2</th>\n",
       "      <th>Pixel_3</th>\n",
       "      <th>Pixel_4</th>\n",
       "      <th>Pixel_5</th>\n",
       "      <th>Pixel_6</th>\n",
       "      <th>Pixel_7</th>\n",
       "      <th>Pixel_8</th>\n",
       "      <th>Pixel_9</th>\n",
       "      <th>Pixel_10</th>\n",
       "      <th>...</th>\n",
       "      <th>Pixel_56</th>\n",
       "      <th>Pixel_57</th>\n",
       "      <th>Pixel_58</th>\n",
       "      <th>Pixel_59</th>\n",
       "      <th>Pixel_60</th>\n",
       "      <th>Pixel_61</th>\n",
       "      <th>Pixel_62</th>\n",
       "      <th>Pixel_63</th>\n",
       "      <th>Pixel_64</th>\n",
       "      <th>Label</th>\n",
       "    </tr>\n",
       "  </thead>\n",
       "  <tbody>\n",
       "    <tr>\n",
       "      <th>0</th>\n",
       "      <td>0.0</td>\n",
       "      <td>0.0</td>\n",
       "      <td>5.0</td>\n",
       "      <td>13.0</td>\n",
       "      <td>9.0</td>\n",
       "      <td>1.0</td>\n",
       "      <td>0.0</td>\n",
       "      <td>0.0</td>\n",
       "      <td>0.0</td>\n",
       "      <td>0.0</td>\n",
       "      <td>...</td>\n",
       "      <td>0.0</td>\n",
       "      <td>0.0</td>\n",
       "      <td>0.0</td>\n",
       "      <td>6.0</td>\n",
       "      <td>13.0</td>\n",
       "      <td>10.0</td>\n",
       "      <td>0.0</td>\n",
       "      <td>0.0</td>\n",
       "      <td>0.0</td>\n",
       "      <td>0</td>\n",
       "    </tr>\n",
       "    <tr>\n",
       "      <th>1</th>\n",
       "      <td>0.0</td>\n",
       "      <td>0.0</td>\n",
       "      <td>0.0</td>\n",
       "      <td>12.0</td>\n",
       "      <td>13.0</td>\n",
       "      <td>5.0</td>\n",
       "      <td>0.0</td>\n",
       "      <td>0.0</td>\n",
       "      <td>0.0</td>\n",
       "      <td>0.0</td>\n",
       "      <td>...</td>\n",
       "      <td>0.0</td>\n",
       "      <td>0.0</td>\n",
       "      <td>0.0</td>\n",
       "      <td>0.0</td>\n",
       "      <td>11.0</td>\n",
       "      <td>16.0</td>\n",
       "      <td>10.0</td>\n",
       "      <td>0.0</td>\n",
       "      <td>0.0</td>\n",
       "      <td>1</td>\n",
       "    </tr>\n",
       "    <tr>\n",
       "      <th>2</th>\n",
       "      <td>0.0</td>\n",
       "      <td>0.0</td>\n",
       "      <td>0.0</td>\n",
       "      <td>4.0</td>\n",
       "      <td>15.0</td>\n",
       "      <td>12.0</td>\n",
       "      <td>0.0</td>\n",
       "      <td>0.0</td>\n",
       "      <td>0.0</td>\n",
       "      <td>0.0</td>\n",
       "      <td>...</td>\n",
       "      <td>0.0</td>\n",
       "      <td>0.0</td>\n",
       "      <td>0.0</td>\n",
       "      <td>0.0</td>\n",
       "      <td>3.0</td>\n",
       "      <td>11.0</td>\n",
       "      <td>16.0</td>\n",
       "      <td>9.0</td>\n",
       "      <td>0.0</td>\n",
       "      <td>2</td>\n",
       "    </tr>\n",
       "    <tr>\n",
       "      <th>3</th>\n",
       "      <td>0.0</td>\n",
       "      <td>0.0</td>\n",
       "      <td>7.0</td>\n",
       "      <td>15.0</td>\n",
       "      <td>13.0</td>\n",
       "      <td>1.0</td>\n",
       "      <td>0.0</td>\n",
       "      <td>0.0</td>\n",
       "      <td>0.0</td>\n",
       "      <td>8.0</td>\n",
       "      <td>...</td>\n",
       "      <td>0.0</td>\n",
       "      <td>0.0</td>\n",
       "      <td>0.0</td>\n",
       "      <td>7.0</td>\n",
       "      <td>13.0</td>\n",
       "      <td>13.0</td>\n",
       "      <td>9.0</td>\n",
       "      <td>0.0</td>\n",
       "      <td>0.0</td>\n",
       "      <td>3</td>\n",
       "    </tr>\n",
       "    <tr>\n",
       "      <th>4</th>\n",
       "      <td>0.0</td>\n",
       "      <td>0.0</td>\n",
       "      <td>0.0</td>\n",
       "      <td>1.0</td>\n",
       "      <td>11.0</td>\n",
       "      <td>0.0</td>\n",
       "      <td>0.0</td>\n",
       "      <td>0.0</td>\n",
       "      <td>0.0</td>\n",
       "      <td>0.0</td>\n",
       "      <td>...</td>\n",
       "      <td>0.0</td>\n",
       "      <td>0.0</td>\n",
       "      <td>0.0</td>\n",
       "      <td>0.0</td>\n",
       "      <td>2.0</td>\n",
       "      <td>16.0</td>\n",
       "      <td>4.0</td>\n",
       "      <td>0.0</td>\n",
       "      <td>0.0</td>\n",
       "      <td>4</td>\n",
       "    </tr>\n",
       "  </tbody>\n",
       "</table>\n",
       "<p>5 rows × 65 columns</p>\n",
       "</div>"
      ],
      "text/plain": [
       "   Pixel_1  Pixel_2  Pixel_3  Pixel_4  Pixel_5  Pixel_6  Pixel_7  Pixel_8  \\\n",
       "0      0.0      0.0      5.0     13.0      9.0      1.0      0.0      0.0   \n",
       "1      0.0      0.0      0.0     12.0     13.0      5.0      0.0      0.0   \n",
       "2      0.0      0.0      0.0      4.0     15.0     12.0      0.0      0.0   \n",
       "3      0.0      0.0      7.0     15.0     13.0      1.0      0.0      0.0   \n",
       "4      0.0      0.0      0.0      1.0     11.0      0.0      0.0      0.0   \n",
       "\n",
       "   Pixel_9  Pixel_10  ...  Pixel_56  Pixel_57  Pixel_58  Pixel_59  Pixel_60  \\\n",
       "0      0.0       0.0  ...       0.0       0.0       0.0       6.0      13.0   \n",
       "1      0.0       0.0  ...       0.0       0.0       0.0       0.0      11.0   \n",
       "2      0.0       0.0  ...       0.0       0.0       0.0       0.0       3.0   \n",
       "3      0.0       8.0  ...       0.0       0.0       0.0       7.0      13.0   \n",
       "4      0.0       0.0  ...       0.0       0.0       0.0       0.0       2.0   \n",
       "\n",
       "   Pixel_61  Pixel_62  Pixel_63  Pixel_64  Label  \n",
       "0      10.0       0.0       0.0       0.0      0  \n",
       "1      16.0      10.0       0.0       0.0      1  \n",
       "2      11.0      16.0       9.0       0.0      2  \n",
       "3      13.0       9.0       0.0       0.0      3  \n",
       "4      16.0       4.0       0.0       0.0      4  \n",
       "\n",
       "[5 rows x 65 columns]"
      ]
     },
     "execution_count": 35,
     "metadata": {},
     "output_type": "execute_result"
    }
   ],
   "source": [
    "df = pd.DataFrame(X, columns = [f'Pixel_{i+1}' for i in range(X.shape[1])])\n",
    "df['Label'] = y\n",
    "df.head()"
   ]
  },
  {
   "cell_type": "code",
   "execution_count": 36,
   "id": "6de29b80",
   "metadata": {},
   "outputs": [
    {
     "data": {
      "image/png": "[encoded data removed]",
      "text/plain": [
       "<Figure size 1000x500 with 10 Axes>"
      ]
     },
     "metadata": {},
     "output_type": "display_data"
    }
   ],
   "source": [
    "fig, axes = plt.subplots(2, 5, figsize = (10, 5))\n",
    "for i, ax in enumerate(axes.flat):\n",
    "    ax.imshow(digits.images[i], cmap = 'gray')\n",
    "    ax.axis('off')\n",
    "    ax.set_title(f\"Label: {df['Label'][i]}\")\n",
    "plt.tight_layout()\n",
    "plt.show()"
   ]
  },
  {
   "cell_type": "code",
   "execution_count": 37,
   "id": "bbad787c",
   "metadata": {},
   "outputs": [
    {
     "name": "stdout",
     "output_type": "stream",
     "text": [
      "Conjunto de entrenamiento: (1077, 64)\n",
      "Conjunto de validación: (360, 64)\n",
      "Conjunto de prueba: (360, 64)\n"
     ]
    }
   ],
   "source": [
    "from sklearn.model_selection import train_test_split\n",
    "from sklearn.preprocessing import StandardScaler\n",
    "\n",
    "# Dividir los datos en entrenamiento (60%), validación (20%) y prueba (20%)\n",
    "X_train_full, X_test, y_train_full, y_test = train_test_split(\n",
    "    X, y, test_size=0.2, random_state=42, stratify=y\n",
    ")\n",
    "\n",
    "X_train, X_val, y_train, y_val = train_test_split(\n",
    "    X_train_full, y_train_full, test_size=0.25, random_state=42, stratify=y_train_full\n",
    ")\n",
    "\n",
    "# Verificar tamaños\n",
    "print(f\"Conjunto de entrenamiento: {X_train.shape}\")\n",
    "print(f\"Conjunto de validación: {X_val.shape}\")\n",
    "print(f\"Conjunto de prueba: {X_test.shape}\")"
   ]
  },
  {
   "cell_type": "code",
   "execution_count": 38,
   "id": "c2f5ba47",
   "metadata": {},
   "outputs": [],
   "source": [
    "scaler = StandardScaler()\n",
    "X_train = scaler.fit_transform(X_train)\n",
    "X_val = scaler.transform(X_val)\n",
    "X_test = scaler.transform(X_test)"
   ]
  },
  {
   "cell_type": "markdown",
   "id": "000755d7",
   "metadata": {},
   "source": [
    "#### 🎖️ MLPClassifier de `Sklearn`\n",
    "\n",
    "`MLPClassifier` es una clase de `sklearn` que implementa una red neuronal para clasificación. Los parámetros más importantes son:\n",
    "\n",
    "- `hidden_layer_sizes`: la cantidad de capas ocultas y la cantidad de neuronas en cada capa.\n",
    "- `activation`: la función de activación para la capa oculta. Las opciones son `logistic`, `tanh` y `relu`.\n",
    "- `alpha`: parámetro de regularización para controlar el sobreajuste.\n",
    "- `learning_rate`: la tasa de aprendizaje en la actualización de pesos. Mientras más pequeño, más lento es el aprendizaje, pero evita que se salte los mínimos locales que buscamos.\n",
    "- `max_iter`: el número máximo de iteraciones.\n",
    "- `random_state`: la semilla para la inicialización de pesos."
   ]
  },
  {
   "cell_type": "code",
   "execution_count": 39,
   "id": "0609933d",
   "metadata": {},
   "outputs": [
    {
     "name": "stdout",
     "output_type": "stream",
     "text": [
      "Reporte de clasificación en el conjunto de validación:\n",
      "              precision    recall  f1-score   support\n",
      "\n",
      "           0       0.97      1.00      0.99        36\n",
      "           1       0.95      0.95      0.95        37\n",
      "           2       1.00      0.94      0.97        35\n",
      "           3       1.00      1.00      1.00        37\n",
      "           4       0.97      0.94      0.96        36\n",
      "           5       1.00      0.94      0.97        36\n",
      "           6       1.00      0.94      0.97        36\n",
      "           7       0.95      1.00      0.97        36\n",
      "           8       0.92      0.94      0.93        35\n",
      "           9       0.90      0.97      0.93        36\n",
      "\n",
      "    accuracy                           0.96       360\n",
      "   macro avg       0.97      0.96      0.96       360\n",
      "weighted avg       0.97      0.96      0.96       360\n",
      "\n"
     ]
    }
   ],
   "source": [
    "from sklearn.neural_network import MLPClassifier\n",
    "from sklearn.metrics import classification_report\n",
    "\n",
    "mlp = MLPClassifier(\n",
    "    # Tamaño de las capas ocultas\n",
    "    hidden_layer_sizes = (28, 20),\n",
    "    activation = 'relu',\n",
    "    max_iter = 500,\n",
    "    random_state = 42\n",
    ")\n",
    "\n",
    "mlp.fit(X_train, y_train)\n",
    "\n",
    "# Evaluar en el conjunto de validación\n",
    "y_pred = mlp.predict(X_val)\n",
    "print(\"Reporte de clasificación en el conjunto de validación:\")\n",
    "print(classification_report(y_val, y_pred))"
   ]
  },
  {
   "cell_type": "code",
   "execution_count": 40,
   "id": "e1654c61",
   "metadata": {},
   "outputs": [
    {
     "name": "stdout",
     "output_type": "stream",
     "text": [
      "Reporte de clasificación en el conjunto de validación:\n",
      "              precision    recall  f1-score   support\n",
      "\n",
      "           0       1.00      1.00      1.00        36\n",
      "           1       0.97      1.00      0.99        37\n",
      "           2       0.97      1.00      0.99        35\n",
      "           3       0.97      1.00      0.99        37\n",
      "           4       0.95      0.97      0.96        36\n",
      "           5       0.97      0.94      0.96        36\n",
      "           6       1.00      1.00      1.00        36\n",
      "           7       1.00      1.00      1.00        36\n",
      "           8       1.00      0.91      0.96        35\n",
      "           9       1.00      1.00      1.00        36\n",
      "\n",
      "    accuracy                           0.98       360\n",
      "   macro avg       0.98      0.98      0.98       360\n",
      "weighted avg       0.98      0.98      0.98       360\n",
      "\n"
     ]
    }
   ],
   "source": [
    "mlp_tuned = MLPClassifier(\n",
    "    hidden_layer_sizes = (128, 64),\n",
    "    activation = 'relu',\n",
    "    max_iter = 500,\n",
    "    random_state = 42\n",
    ")\n",
    "mlp_tuned.fit(X_train, y_train)\n",
    "\n",
    "# Evaluar en validación\n",
    "y_pred = mlp_tuned.predict(X_val)\n",
    "print(\"Reporte de clasificación en el conjunto de validación:\")\n",
    "print(classification_report(y_val, y_pred))"
   ]
  },
  {
   "cell_type": "code",
   "execution_count": 41,
   "id": "766a0b6b",
   "metadata": {},
   "outputs": [
    {
     "name": "stdout",
     "output_type": "stream",
     "text": [
      "Reporte de clasificación en el conjunto de prueba:\n",
      "              precision    recall  f1-score   support\n",
      "\n",
      "           0       1.00      0.94      0.97        36\n",
      "           1       0.89      0.94      0.92        36\n",
      "           2       0.95      1.00      0.97        35\n",
      "           3       1.00      1.00      1.00        37\n",
      "           4       0.97      0.97      0.97        36\n",
      "           5       0.97      1.00      0.99        37\n",
      "           6       1.00      1.00      1.00        36\n",
      "           7       0.97      1.00      0.99        36\n",
      "           8       0.97      0.86      0.91        35\n",
      "           9       1.00      1.00      1.00        36\n",
      "\n",
      "    accuracy                           0.97       360\n",
      "   macro avg       0.97      0.97      0.97       360\n",
      "weighted avg       0.97      0.97      0.97       360\n",
      "\n"
     ]
    }
   ],
   "source": [
    "y_pred = mlp_tuned.predict(X_test)\n",
    "print(\"Reporte de clasificación en el conjunto de prueba:\")\n",
    "print(classification_report(y_test, y_pred))"
   ]
  },
  {
   "cell_type": "markdown",
   "id": "c9ca9c0d",
   "metadata": {},
   "source": [
    "##### ✂️ Errores\n",
    "\n",
    "Para entender mejor el rendimiento del modelo, podemos visualizar los errores cometidos por el modelo. Para esto, mostramos las imágenes mal clasificadas y las etiquetas reales y predichas."
   ]
  },
  {
   "cell_type": "code",
   "execution_count": 42,
   "id": "74105d3e",
   "metadata": {},
   "outputs": [
    {
     "data": {
      "text/plain": [
       "<sklearn.metrics._plot.confusion_matrix.ConfusionMatrixDisplay at 0x1372b3310>"
      ]
     },
     "execution_count": 42,
     "metadata": {},
     "output_type": "execute_result"
    },
    {
     "data": {
      "image/png": "[encoded data removed]",
      "text/plain": [
       "<Figure size 640x480 with 2 Axes>"
      ]
     },
     "metadata": {},
     "output_type": "display_data"
    }
   ],
   "source": [
    "from sklearn.metrics import confusion_matrix, ConfusionMatrixDisplay\n",
    "\n",
    "conf_matrix = confusion_matrix(y_test, y_pred)\n",
    "ConfusionMatrixDisplay(conf_matrix, display_labels = digits.target_names).plot()"
   ]
  },
  {
   "cell_type": "code",
   "execution_count": 43,
   "id": "624f11b0",
   "metadata": {},
   "outputs": [
    {
     "name": "stdout",
     "output_type": "stream",
     "text": [
      "Cantidad de errores: 10\n"
     ]
    },
    {
     "data": {
      "image/png": "[encoded data removed]",
      "text/plain": [
       "<Figure size 1000x500 with 10 Axes>"
      ]
     },
     "metadata": {},
     "output_type": "display_data"
    }
   ],
   "source": [
    "errors = X_test[y_test != y_pred]\n",
    "errors_labels = y_pred[y_test != y_pred]\n",
    "\n",
    "print(f\"Cantidad de errores: {errors.shape[0]}\")\n",
    "\n",
    "fig, axes = plt.subplots(1, errors.shape[0], figsize=(10, 5))\n",
    "for i, ax in enumerate(axes.flat):\n",
    "    ax.imshow(errors[i].reshape(8, 8), cmap='gray')\n",
    "    ax.axis('off')\n",
    "    ax.set_title(f'Real: {y_test[i]}\\nPred: {errors_labels[i]}')"
   ]
  },
  {
   "cell_type": "markdown",
   "id": "7831c2cd",
   "metadata": {},
   "source": [
    "#### 🔫 Pytorch \n",
    "\n",
    "`PyTorch` es una biblioteca de aprendizaje profundo de código abierto desarrollada por Facebook. Es una de las bibliotecas más populares para la investigación en aprendizaje profundo y se utiliza ampliamente en la industria.\n",
    "\n",
    "En esta sección, aprenderemos a construir redes neuronales desde cero utilizando PyTorch. Comenzaremos con un modelo simple: un **perceptrón** (la unidad más básica de una red neuronal) para resolver problemas de clasificación. Luego, extenderemos nuestro modelo a un perceptrón multicapa (MLP) para mejorar el rendimiento."
   ]
  },
  {
   "cell_type": "markdown",
   "id": "b27d785f",
   "metadata": {},
   "source": [
    "##### 🧶 Preparación de Datos\n",
    "\n",
    "Lo primero a realizar con pytorch, es pasar los datos a tensores:\n",
    "\n",
    "- **Tensores**: son similares a los arreglos de NumPy, pero con algunas diferencias clave. Los tensores se pueden utilizar en GPU para acelerar los cálculos, lo que los hace significativamente más rápidos que los arreglos de NumPy para tareas de aprendizaje profundo.\n",
    "\n",
    "Puedes considerar que siguen siendo simplemente un arreglo de números, pero más rápido y eficiente."
   ]
  },
  {
   "cell_type": "code",
   "execution_count": 44,
   "id": "679a46b7",
   "metadata": {},
   "outputs": [],
   "source": [
    "import torch\n",
    "\n",
    "# Convertir los datos en tensores\n",
    "X_train_tensor  = torch.tensor(X_train, dtype = torch.float32)\n",
    "y_train_tensor  = torch.tensor(y_train, dtype = torch.long)\n",
    "X_val_tensor    = torch.tensor(X_val, dtype = torch.float32)\n",
    "y_val_tensor    = torch.tensor(y_val, dtype = torch.long)\n",
    "X_test_tensor   = torch.tensor(X_test, dtype = torch.float32)\n",
    "y_test_tensor   = torch.tensor(y_test, dtype = torch.long)"
   ]
  },
  {
   "cell_type": "markdown",
   "id": "6222ce80",
   "metadata": {},
   "source": [
    "Luego creamos los DataLoaders.\n",
    "\n",
    "- **DataLoaders**: son objetos que se utilizan para dividir los datos en lotes y mezclarlos. Son útiles para cargar y procesar grandes conjuntos de datos de manera eficiente."
   ]
  },
  {
   "cell_type": "code",
   "execution_count": 45,
   "id": "dfe776b5",
   "metadata": {},
   "outputs": [],
   "source": [
    "from torch.utils.data import DataLoader, TensorDataset\n",
    "\n",
    "# Crear DataLoaders\n",
    "train_dataset = TensorDataset(X_train_tensor, y_train_tensor)\n",
    "val_dataset = TensorDataset(X_val_tensor, y_val_tensor)\n",
    "test_dataset = TensorDataset(X_test_tensor, y_test_tensor)\n",
    "\n",
    "train_loader = DataLoader(train_dataset, batch_size=32, shuffle=True)\n",
    "val_loader = DataLoader(val_dataset, batch_size=32)\n",
    "test_loader = DataLoader(test_dataset, batch_size=32)"
   ]
  },
  {
   "cell_type": "markdown",
   "id": "26b09339",
   "metadata": {},
   "source": [
    "##### 🍬 Creación de un Perceptrón"
   ]
  },
  {
   "cell_type": "markdown",
   "id": "f6de5a56",
   "metadata": {},
   "source": [
    "Para definir un MLP en PyTorch, necesitamos extender la clase `nn.Module` y definir los métodos `__init__` y `forward`. En el método `__init__`, definimos las capas de la red y en el método `forward`, definimos cómo se calcula la salida.\n",
    "\n",
    "Para definir una capa en `__init__`, usamos `nn.Linear` para una capa completamente conectada y `nn.ReLU` para la función de activación ReLU, lo que se ve algo asi por cada capa:\n",
    "\n",
    "```python\n",
    "self.capa = nn.Linear(input_layer_size, output_layer_size)\n",
    "self.relu = nn.ReLU()\n",
    "```\n",
    "\n",
    "donde `input_layer_size` y `output_layer_size` son las dimensiones de entrada y de salida de la capa. En caso de ser la primera capa, `input_layer_size` es el tamaño de la entrada y `output_layer_size` es el tamaño de la primera capa oculta. En caso de ser la última capa, `output_layer_size` es el tamaño de la salida, osea, la cantidad de clases."
   ]
  },
  {
   "cell_type": "code",
   "execution_count": 46,
   "id": "1df23a32",
   "metadata": {},
   "outputs": [],
   "source": [
    "import torch.nn as nn\n",
    "\n",
    "# Crear un modelo de Perceptrón Simple\n",
    "class Perceptron(nn.Module):\n",
    "    def __init__(self, input_size, num_classes):\n",
    "        super(Perceptron, self).__init__()\n",
    "        self.linear = nn.Linear(input_size, num_classes)\n",
    "\n",
    "    def forward(self, x):\n",
    "        return self.linear(x)\n",
    "\n",
    "# Inicializar el modelo\n",
    "perceptron = Perceptron(input_size=64, num_classes=10)"
   ]
  },
  {
   "cell_type": "markdown",
   "id": "aeff1bdd",
   "metadata": {},
   "source": [
    "##### 🥇 Entrenamiento de un Perceptrón"
   ]
  },
  {
   "cell_type": "code",
   "execution_count": 47,
   "id": "b7f31f98",
   "metadata": {},
   "outputs": [],
   "source": [
    "def train_model(model, train_loader, val_loader, criterion, optimizer, epochs, device='cpu'):\n",
    "    \"\"\"\n",
    "    Función general para entrenar modelos en PyTorch, con seguimiento de pérdidas y métricas.\n",
    "\n",
    "    Args:\n",
    "        model: Modelo de PyTorch a entrenar.\n",
    "        train_loader: DataLoader para los datos de entrenamiento.\n",
    "        val_loader: DataLoader para los datos de validación.\n",
    "        criterion: Función de pérdida.\n",
    "        optimizer: Optimizador para el modelo.\n",
    "        epochs: Número de épocas a entrenar.\n",
    "        device: CPU o GPU.\n",
    "\n",
    "    Returns:\n",
    "        metrics: Diccionario con las pérdidas y métricas de validación.\n",
    "    \"\"\"\n",
    "    model.to(device)\n",
    "    train_losses = []\n",
    "    val_losses = []\n",
    "    val_accuracies = []\n",
    "\n",
    "    for epoch in range(epochs):\n",
    "        # Modo de entrenamiento\n",
    "        model.train()\n",
    "        total_train_loss = 0\n",
    "\n",
    "        for X_batch, y_batch in train_loader:\n",
    "            X_batch, y_batch = X_batch.to(device), y_batch.to(device)\n",
    "            optimizer.zero_grad()\n",
    "            outputs = model(X_batch)\n",
    "            loss = criterion(outputs, y_batch)\n",
    "            loss.backward()\n",
    "            optimizer.step()\n",
    "            total_train_loss += loss.item()\n",
    "\n",
    "        # Promediar la pérdida de entrenamiento\n",
    "        avg_train_loss = total_train_loss / len(train_loader)\n",
    "        train_losses.append(avg_train_loss)\n",
    "\n",
    "        # Modo de evaluación\n",
    "        model.eval()\n",
    "        total_val_loss = 0\n",
    "        correct = 0\n",
    "        total = 0\n",
    "        with torch.no_grad():\n",
    "            for X_val_batch, y_val_batch in val_loader:\n",
    "                X_val_batch, y_val_batch = X_val_batch.to(device), y_val_batch.to(device)\n",
    "                val_outputs = model(X_val_batch)\n",
    "                val_loss = criterion(val_outputs, y_val_batch)\n",
    "                total_val_loss += val_loss.item()\n",
    "\n",
    "                _, predicted = torch.max(val_outputs, 1)\n",
    "                correct += (predicted == y_val_batch).sum().item()\n",
    "                total += y_val_batch.size(0)\n",
    "\n",
    "        avg_val_loss = total_val_loss / len(val_loader)\n",
    "        val_losses.append(avg_val_loss)\n",
    "\n",
    "        val_accuracy = correct / total\n",
    "        val_accuracies.append(val_accuracy)\n",
    "\n",
    "        print(f\"Epoch {epoch+1}/{epochs}, Training Loss: {avg_train_loss:.4f}, Validation Loss: {avg_val_loss:.4f}, Validation Accuracy: {val_accuracy:.4f}\")\n",
    "\n",
    "    # Graficar las pérdidas\n",
    "    plt.figure(figsize=(10, 6))\n",
    "    plt.plot(range(1, epochs+1), train_losses, label='Training Loss')\n",
    "    plt.plot(range(1, epochs+1), val_losses, label='Validation Loss', linestyle='--')\n",
    "    plt.xlabel('Epochs')\n",
    "    plt.ylabel('Loss')\n",
    "    plt.title('Loss Evolution During Training')\n",
    "    plt.legend()\n",
    "    plt.show()\n",
    "\n",
    "    return {'train_loss': train_losses, 'val_loss': val_losses, 'val_accuracy': val_accuracies}\n"
   ]
  },
  {
   "cell_type": "code",
   "execution_count": 48,
   "id": "1acf00bf",
   "metadata": {},
   "outputs": [
    {
     "name": "stdout",
     "output_type": "stream",
     "text": [
      "Epoch 1/20, Training Loss: 1.0317, Validation Loss: 0.4377, Validation Accuracy: 0.8944\n",
      "Epoch 2/20, Training Loss: 0.3026, Validation Loss: 0.2827, Validation Accuracy: 0.9361\n",
      "Epoch 3/20, Training Loss: 0.2077, Validation Loss: 0.2297, Validation Accuracy: 0.9472\n",
      "Epoch 4/20, Training Loss: 0.1629, Validation Loss: 0.1968, Validation Accuracy: 0.9500\n",
      "Epoch 5/20, Training Loss: 0.1349, Validation Loss: 0.1752, Validation Accuracy: 0.9556\n",
      "Epoch 6/20, Training Loss: 0.1148, Validation Loss: 0.1636, Validation Accuracy: 0.9556\n",
      "Epoch 7/20, Training Loss: 0.0994, Validation Loss: 0.1535, Validation Accuracy: 0.9556\n",
      "Epoch 8/20, Training Loss: 0.0884, Validation Loss: 0.1425, Validation Accuracy: 0.9583\n",
      "Epoch 9/20, Training Loss: 0.0798, Validation Loss: 0.1357, Validation Accuracy: 0.9639\n",
      "Epoch 10/20, Training Loss: 0.0715, Validation Loss: 0.1329, Validation Accuracy: 0.9667\n",
      "Epoch 11/20, Training Loss: 0.0665, Validation Loss: 0.1231, Validation Accuracy: 0.9667\n",
      "Epoch 12/20, Training Loss: 0.0599, Validation Loss: 0.1202, Validation Accuracy: 0.9694\n",
      "Epoch 13/20, Training Loss: 0.0549, Validation Loss: 0.1205, Validation Accuracy: 0.9639\n",
      "Epoch 14/20, Training Loss: 0.0519, Validation Loss: 0.1150, Validation Accuracy: 0.9722\n",
      "Epoch 15/20, Training Loss: 0.0480, Validation Loss: 0.1136, Validation Accuracy: 0.9694\n",
      "Epoch 16/20, Training Loss: 0.0455, Validation Loss: 0.1106, Validation Accuracy: 0.9722\n",
      "Epoch 17/20, Training Loss: 0.0415, Validation Loss: 0.1094, Validation Accuracy: 0.9750\n",
      "Epoch 18/20, Training Loss: 0.0399, Validation Loss: 0.1053, Validation Accuracy: 0.9750\n",
      "Epoch 19/20, Training Loss: 0.0373, Validation Loss: 0.1064, Validation Accuracy: 0.9750\n",
      "Epoch 20/20, Training Loss: 0.0351, Validation Loss: 0.1055, Validation Accuracy: 0.9722\n"
     ]
    },
    {
     "data": {
      "image/png": "[encoded data removed]",
      "text/plain": [
       "<Figure size 1000x600 with 1 Axes>"
      ]
     },
     "metadata": {},
     "output_type": "display_data"
    }
   ],
   "source": [
    "import torch.optim as optim\n",
    "\n",
    "# Definir la función de pérdida\n",
    "criterion = nn.CrossEntropyLoss()\n",
    "\n",
    "# Definir el optimizador\n",
    "optimizer = optim.Adam(perceptron.parameters(), lr = 0.01)\n",
    "\n",
    "# Inicializar el perceptrón\n",
    "perceptron = Perceptron(input_size=64, num_classes = 10)\n",
    "\n",
    "# Usar la función para entrenar el modelo\n",
    "metrics_perceptron = train_model(\n",
    "    model = perceptron,\n",
    "    train_loader = train_loader,\n",
    "    val_loader = val_loader,\n",
    "    criterion = nn.CrossEntropyLoss(),\n",
    "    optimizer = optim.Adam(perceptron.parameters(), lr = 0.01),\n",
    "    epochs = 20\n",
    ")"
   ]
  },
  {
   "cell_type": "code",
   "execution_count": 49,
   "id": "12f7a9c4",
   "metadata": {},
   "outputs": [
    {
     "data": {
      "image/png": "[encoded data removed]",
      "text/plain": [
       "<Figure size 1200x600 with 10 Axes>"
      ]
     },
     "metadata": {},
     "output_type": "display_data"
    }
   ],
   "source": [
    "import matplotlib.pyplot as plt\n",
    "\n",
    "# Obtener los pesos del modelo\n",
    "weights = perceptron.linear.weight.data.numpy()\n",
    "\n",
    "# Visualizar los pesos como imágenes\n",
    "fig, axes = plt.subplots(2, 5, figsize=(12, 6))\n",
    "for i, ax in enumerate(axes.flat):\n",
    "    ax.imshow(weights[i].reshape(8, 8), cmap='coolwarm')\n",
    "    ax.set_title(f'Class {i}')\n",
    "    ax.axis('off')\n",
    "plt.tight_layout()\n",
    "plt.show()"
   ]
  },
  {
   "cell_type": "markdown",
   "id": "4ab47e3c",
   "metadata": {},
   "source": [
    "##### 🏓 Extensión a un perceptrón Multicapa (MLP)"
   ]
  },
  {
   "cell_type": "code",
   "execution_count": 50,
   "id": "1a2118c2",
   "metadata": {},
   "outputs": [],
   "source": [
    "# Crear un Perceptrón Multicapa (MLP) para clasificación\n",
    "class MLP(nn.Module):\n",
    "    # Input size: Cantidad de features\n",
    "    # Hidden size: Cantidad de neuronas en la capa oculta\n",
    "    # Num classes: Cantidad de clases a predecir\n",
    "    def __init__(self, input_size=64, hidden_size=128, num_classes=10):\n",
    "        super(MLP, self).__init__()\n",
    "\n",
    "        # No se define, pero la capa de input es en realidad el X que se recibe\n",
    "\n",
    "        # Esta representa la capa oculta que tiene como entrada el input_size y como salida el hidden_size\n",
    "        self.capa_oculta = nn.Linear(input_size, hidden_size)\n",
    "\n",
    "        # self.capa_output representa la capa de salida que tiene como entrada el hidden_size y como salida el num_classes\n",
    "        self.capa_output = nn.Linear(hidden_size, num_classes)\n",
    "\n",
    "        # ReLU es la función de activación que se aplica a la capa oculta\n",
    "        self.relu = nn.ReLU()\n",
    "\n",
    "    def forward(self, x):\n",
    "        # Pasamos x por la capa oculta\n",
    "        salida_capa_oculta = self.capa_oculta(x)\n",
    "\n",
    "        # Aplicamos la función de activación a la salida de la capa oculta\n",
    "        salida_fun_activacion_capa_oculta = self.relu(salida_capa_oculta)\n",
    "\n",
    "        # Pasamos x por la capa de salida\n",
    "        output = self.capa_output(salida_fun_activacion_capa_oculta)\n",
    "\n",
    "        return output\n",
    "\n",
    "# Inicializar el modelo\n",
    "mlp = MLP()"
   ]
  },
  {
   "cell_type": "code",
   "execution_count": 51,
   "id": "1f16a788",
   "metadata": {},
   "outputs": [
    {
     "name": "stdout",
     "output_type": "stream",
     "text": [
      "Epoch 1/20, Training Loss: 1.8644, Validation Loss: 1.3758, Validation Accuracy: 0.8167\n",
      "Epoch 2/20, Training Loss: 1.0110, Validation Loss: 0.7221, Validation Accuracy: 0.8694\n",
      "Epoch 3/20, Training Loss: 0.5443, Validation Loss: 0.4397, Validation Accuracy: 0.9278\n",
      "Epoch 4/20, Training Loss: 0.3388, Validation Loss: 0.3089, Validation Accuracy: 0.9472\n",
      "Epoch 5/20, Training Loss: 0.2405, Validation Loss: 0.2423, Validation Accuracy: 0.9556\n",
      "Epoch 6/20, Training Loss: 0.1840, Validation Loss: 0.1991, Validation Accuracy: 0.9611\n",
      "Epoch 7/20, Training Loss: 0.1463, Validation Loss: 0.1736, Validation Accuracy: 0.9639\n",
      "Epoch 8/20, Training Loss: 0.1199, Validation Loss: 0.1527, Validation Accuracy: 0.9639\n",
      "Epoch 9/20, Training Loss: 0.1001, Validation Loss: 0.1384, Validation Accuracy: 0.9639\n",
      "Epoch 10/20, Training Loss: 0.0851, Validation Loss: 0.1275, Validation Accuracy: 0.9694\n",
      "Epoch 11/20, Training Loss: 0.0721, Validation Loss: 0.1164, Validation Accuracy: 0.9694\n",
      "Epoch 12/20, Training Loss: 0.0637, Validation Loss: 0.1091, Validation Accuracy: 0.9694\n",
      "Epoch 13/20, Training Loss: 0.0542, Validation Loss: 0.1024, Validation Accuracy: 0.9694\n",
      "Epoch 14/20, Training Loss: 0.0479, Validation Loss: 0.0988, Validation Accuracy: 0.9694\n",
      "Epoch 15/20, Training Loss: 0.0422, Validation Loss: 0.0929, Validation Accuracy: 0.9694\n",
      "Epoch 16/20, Training Loss: 0.0373, Validation Loss: 0.0884, Validation Accuracy: 0.9722\n",
      "Epoch 17/20, Training Loss: 0.0334, Validation Loss: 0.0851, Validation Accuracy: 0.9694\n",
      "Epoch 18/20, Training Loss: 0.0299, Validation Loss: 0.0824, Validation Accuracy: 0.9722\n",
      "Epoch 19/20, Training Loss: 0.0269, Validation Loss: 0.0789, Validation Accuracy: 0.9722\n",
      "Epoch 20/20, Training Loss: 0.0242, Validation Loss: 0.0761, Validation Accuracy: 0.9694\n"
     ]
    },
    {
     "data": {
      "image/png": "[encoded data removed]",
      "text/plain": [
       "<Figure size 1000x600 with 1 Axes>"
      ]
     },
     "metadata": {},
     "output_type": "display_data"
    }
   ],
   "source": [
    "# Usar la función para entrenar el modelo\n",
    "metrics_mlp = train_model(\n",
    "    model=mlp,\n",
    "    train_loader=train_loader,\n",
    "    val_loader=val_loader,\n",
    "    criterion=nn.CrossEntropyLoss(),\n",
    "    optimizer=optim.Adam(mlp.parameters(), lr=0.001, weight_decay=0.0001),\n",
    "    epochs=20)"
   ]
  },
  {
   "cell_type": "markdown",
   "id": "ac7932f3",
   "metadata": {},
   "source": [
    "📌 **¿Qué están aprendiendo las capas del MLP?**\n",
    "\n",
    "Podemos visualizar los pesos de las primeras capas del MLP para entender cómo se transforman las entradas. Los pesos de la primera capa suelen representar patrones básicos, mientras que las capas más profundas capturan características más abstractas."
   ]
  },
  {
   "cell_type": "code",
   "execution_count": 52,
   "id": "fe1768fb",
   "metadata": {},
   "outputs": [
    {
     "data": {
      "image/png": "[encoded data removed]",
      "text/plain": [
       "<Figure size 1200x600 with 32 Axes>"
      ]
     },
     "metadata": {},
     "output_type": "display_data"
    }
   ],
   "source": [
    "# Obtener los pesos de la primera capa\n",
    "weights_capa_oculta = mlp.capa_oculta.weight.data.numpy()\n",
    "\n",
    "# Visualizar los pesos como imágenes\n",
    "fig, axes = plt.subplots(4, 8, figsize=(12, 6))\n",
    "for i, ax in enumerate(axes.flat):\n",
    "    ax.imshow(weights_capa_oculta[i].reshape(8, 8), cmap='coolwarm')\n",
    "    ax.axis('off')\n",
    "plt.tight_layout()\n",
    "plt.show()"
   ]
  },
  {
   "cell_type": "code",
   "execution_count": 53,
   "id": "60a4a755",
   "metadata": {},
   "outputs": [
    {
     "data": {
      "image/png": "[encoded data removed]",
      "text/plain": [
       "<Figure size 800x500 with 1 Axes>"
      ]
     },
     "metadata": {},
     "output_type": "display_data"
    }
   ],
   "source": [
    "# Comparar las métricas de validación entre Perceptrón y MLP\n",
    "plt.figure(figsize=(8, 5))\n",
    "plt.plot(range(1, 21), metrics_perceptron['val_accuracy'], label='Perceptron')\n",
    "plt.plot(range(1, 21), metrics_mlp['val_accuracy'], label='MLP')\n",
    "plt.xlabel('Epochs')\n",
    "plt.ylabel('Validation Accuracy')\n",
    "plt.title('Validation Accuracy Comparison')\n",
    "plt.legend()\n",
    "plt.show()"
   ]
  },
  {
   "cell_type": "code",
   "execution_count": 54,
   "id": "22107d95",
   "metadata": {},
   "outputs": [],
   "source": [
    "def test_model(model, test_loader, criterion, device='cpu'):\n",
    "    \"\"\"\n",
    "    Evalúa el modelo en un conjunto de test.\n",
    "\n",
    "    Args:\n",
    "        model: Modelo entrenado.\n",
    "        test_loader: DataLoader para los datos de test.\n",
    "        criterion: Función de pérdida.\n",
    "        device: CPU o GPU.\n",
    "\n",
    "    Returns:\n",
    "        metrics: Diccionario con la pérdida y precisión en el conjunto de test.\n",
    "    \"\"\"\n",
    "    model.eval()\n",
    "    model.to(device)\n",
    "    test_loss = 0\n",
    "    correct = 0\n",
    "    total = 0\n",
    "\n",
    "    with torch.no_grad():\n",
    "        for X_test_batch, y_test_batch in test_loader:\n",
    "            X_test_batch, y_test_batch = X_test_batch.to(device), y_test_batch.to(device)\n",
    "            outputs = model(X_test_batch)\n",
    "            loss = criterion(outputs, y_test_batch)\n",
    "            test_loss += loss.item()\n",
    "\n",
    "            _, predicted = torch.max(outputs, 1)\n",
    "            correct += (predicted == y_test_batch).sum().item()\n",
    "            total += y_test_batch.size(0)\n",
    "\n",
    "    avg_test_loss = test_loss / len(test_loader)\n",
    "    test_accuracy = correct / total\n",
    "    print(f\"Test Loss: {avg_test_loss:.4f}, Test Accuracy: {test_accuracy:.4f}\")\n",
    "\n",
    "    return {'test_loss': avg_test_loss, 'test_accuracy': test_accuracy}"
   ]
  },
  {
   "cell_type": "code",
   "execution_count": 55,
   "id": "9d4fabd3",
   "metadata": {},
   "outputs": [
    {
     "name": "stdout",
     "output_type": "stream",
     "text": [
      "Perceptrón:\n",
      "Test Loss: 0.1375, Test Accuracy: 0.9667\n",
      "\n",
      "MLP:\n",
      "Test Loss: 0.0948, Test Accuracy: 0.9639\n",
      "\n"
     ]
    }
   ],
   "source": [
    "print(\"Perceptrón:\")\n",
    "test_model(perceptron, test_loader, nn.CrossEntropyLoss())\n",
    "print()\n",
    "print(\"MLP:\")\n",
    "test_model(mlp, test_loader, nn.CrossEntropyLoss())\n",
    "print()"
   ]
  }
 ],
 "metadata": {
  "kernelspec": {
   "display_name": "env_ds_finance (3.10.18)",
   "language": "python",
   "name": "python3"
  },
  "language_info": {
   "codemirror_mode": {
    "name": "ipython",
    "version": 3
   },
   "file_extension": ".py",
   "mimetype": "text/x-python",
   "name": "python",
   "nbconvert_exporter": "python",
   "pygments_lexer": "ipython3",
   "version": "3.10.18"
  }
 },
 "nbformat": 4,
 "nbformat_minor": 5
}
