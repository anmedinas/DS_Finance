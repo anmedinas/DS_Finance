{
 "cells": [
  {
   "cell_type": "markdown",
   "id": "2acb2c18",
   "metadata": {},
   "source": [
    "## **Data Science Aplicado a las Finanzas** 🚀\n",
    "### **Sesión 7: Series de Tiempo**\n",
    "\n",
    "Andrés C. Medina Sanhueza\n",
    "\n",
    "Senior Data Scientist Engineer \n",
    "\n",
    "anmedinas@gmail.com"
   ]
  },
  {
   "cell_type": "markdown",
   "id": "f297de3e",
   "metadata": {},
   "source": []
  }
 ],
 "metadata": {
  "language_info": {
   "name": "python"
  }
 },
 "nbformat": 4,
 "nbformat_minor": 5
}
