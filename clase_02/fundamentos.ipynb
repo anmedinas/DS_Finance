{
  "cells": [
    {
      "cell_type": "markdown",
      "metadata": {
        "id": "xJdVfDLenlFB"
      },
      "source": [
        "## **Data Science Aplicado a las Finanzas** 🚀\n",
        "### **Sesión 2:  Introducción a la Ciencia de Datos Financieros**\n",
        "\n",
        "\n",
        "Andrés C. Medina Sanhueza\n",
        "\n",
        "Senior Datascientist Engineer \n",
        "\n",
        "anmedinas@gmail.com\n"
      ]
    },
    {
      "cell_type": "markdown",
      "metadata": {
        "id": "YK8T_qL8F2gl"
      },
      "source": [
        "**Tópicos** ✏️\n",
        "1. **Sesión 2**\n",
        "  * Fundamentos de Python.\n",
        "  * Operaciones, funciones y tipos de datos.\n",
        "  * Variables y Operadores.\n",
        "  * Strings.\n",
        "  * Listas.\n",
        "  * Diccionarios.\n",
        "  * If-elif-else\n",
        "  * Loops\n",
        "  * While\n",
        "  * Creacion de funciones y funciones con modulos\n",
        "  * Numpy"
      ]
    },
    {
      "cell_type": "markdown",
      "metadata": {
        "id": "T7F9pfihDedi"
      },
      "source": [
        "\n",
        "\n",
        "---\n",
        "\n"
      ]
    },
    {
      "cell_type": "markdown",
      "metadata": {
        "id": "woUW-rLa75fL"
      },
      "source": [
        "# **Fundamentos de Python** 🐍"
      ]
    },
    {
      "cell_type": "markdown",
      "metadata": {
        "id": "YUjz6lKj5XM6"
      },
      "source": [
        "El intérprete de Python tiene una serie de funciones y tipos incluidos en él que están siempre disponibles. Están listados aquí en orden alfabético."
      ]
    },
    {
      "cell_type": "markdown",
      "metadata": {
        "id": "gR-zu_i11dRv"
      },
      "source": [
        "<tr>\n",
        "<td><img src=\"../figs/funciones_built.png\" align=\"middle\" style=\"width: 1000px;\"/> </td>\n",
        "</tr>"
      ]
    },
    {
      "cell_type": "markdown",
      "metadata": {
        "id": "z7wdLggm6GTr"
      },
      "source": [
        "Para mayor información de cada función , revisar la [documentación de python](https://docs.python.org/es/3.8/library/functions.html)\n",
        "\n"
      ]
    },
    {
      "cell_type": "markdown",
      "metadata": {
        "id": "ZzMZTKKCAsh-"
      },
      "source": [
        "En caso en que se desea tener una ayuda en relación a cualquiera de las funciones consideradas como *Built-in* ó las funciones que están en cada módulo, la función indicada es ``help()``."
      ]
    },
    {
      "cell_type": "code",
      "execution_count": 1,
      "metadata": {
        "colab": {
          "base_uri": "https://localhost:8080/"
        },
        "id": "15RgQLJu0C1C",
        "outputId": "87378323-ac2c-4817-cf75-8431190d01e5"
      },
      "outputs": [
        {
          "name": "stdout",
          "output_type": "stream",
          "text": [
            "\n",
            "Welcome to Python 3.10's help utility!\n",
            "\n",
            "If this is your first time using Python, you should definitely check out\n",
            "the tutorial on the internet at https://docs.python.org/3.10/tutorial/.\n",
            "\n",
            "Enter the name of any module, keyword, or topic to get help on writing\n",
            "Python programs and using Python modules.  To quit this help utility and\n",
            "return to the interpreter, just type \"quit\".\n",
            "\n",
            "To get a list of available modules, keywords, symbols, or topics, type\n",
            "\"modules\", \"keywords\", \"symbols\", or \"topics\".  Each module also comes\n",
            "with a one-line summary of what it does; to list the modules whose name\n",
            "or summary contain a given string such as \"spam\", type \"modules spam\".\n",
            "\n",
            "\n",
            "You are now leaving help and returning to the Python interpreter.\n",
            "If you want to ask for help on a particular object directly from the\n",
            "interpreter, you can type \"help(object)\".  Executing \"help('string')\"\n",
            "has the same effect as typing a particular string at the help> prompt.\n"
          ]
        }
      ],
      "source": [
        "help()"
      ]
    },
    {
      "cell_type": "markdown",
      "metadata": {
        "id": "naTj_PHBH5fS"
      },
      "source": [
        "La función ``Globals()``retorna un diccionario que representa la tabla global de símbolos. Es siempre el diccionario del módulo actual (dentro de una función o método, este es el módulo donde está definida, no el módulo desde el que es llamada)."
      ]
    },
    {
      "cell_type": "code",
      "execution_count": 2,
      "metadata": {
        "colab": {
          "base_uri": "https://localhost:8080/"
        },
        "id": "9wt_NaSIzE68",
        "outputId": "d26a19a4-a6a2-44c4-f79c-bca72267f2ad"
      },
      "outputs": [
        {
          "data": {
            "text/plain": [
              "{'__name__': '__main__',\n",
              " '__doc__': 'Automatically created module for IPython interactive environment',\n",
              " '__package__': None,\n",
              " '__loader__': None,\n",
              " '__spec__': None,\n",
              " '__builtin__': <module 'builtins' (built-in)>,\n",
              " '__builtins__': <module 'builtins' (built-in)>,\n",
              " '_ih': ['', 'help()', 'globals()'],\n",
              " '_oh': {},\n",
              " '_dh': [PosixPath('/Users/anmedinas/Personales/Docencia/USACH/Master/DS_Finance/clase_02')],\n",
              " 'In': ['', 'help()', 'globals()'],\n",
              " 'Out': {},\n",
              " 'get_ipython': <bound method InteractiveShell.get_ipython of <ipykernel.zmqshell.ZMQInteractiveShell object at 0x103e3f970>>,\n",
              " 'exit': <IPython.core.autocall.ZMQExitAutocall at 0x103e80700>,\n",
              " 'quit': <IPython.core.autocall.ZMQExitAutocall at 0x103e80700>,\n",
              " 'open': <function io.open(file, mode='r', buffering=-1, encoding=None, errors=None, newline=None, closefd=True, opener=None)>,\n",
              " '_': '',\n",
              " '__': '',\n",
              " '___': '',\n",
              " '__vsc_ipynb_file__': '/Users/anmedinas/Personales/Docencia/USACH/Master/DS_Finance/clase_02/fundamentos.ipynb',\n",
              " '_i': 'help()',\n",
              " '_ii': '',\n",
              " '_iii': '',\n",
              " '_i1': 'help()',\n",
              " '_i2': 'globals()'}"
            ]
          },
          "execution_count": 2,
          "metadata": {},
          "output_type": "execute_result"
        }
      ],
      "source": [
        "globals()"
      ]
    },
    {
      "cell_type": "markdown",
      "metadata": {
        "id": "9_byd1wxxMHg"
      },
      "source": [
        "La función ``dir()`` sin argumentos, retorna la lista de nombres en el ámbito local. Con un argumento, intenta retornar una lista de atributos válidos para ese objeto."
      ]
    },
    {
      "cell_type": "code",
      "execution_count": 3,
      "metadata": {
        "colab": {
          "base_uri": "https://localhost:8080/"
        },
        "id": "fUMesI6ew0vO",
        "outputId": "5129bc78-5633-4a56-984b-9a5621f2b602"
      },
      "outputs": [
        {
          "data": {
            "text/plain": [
              "['In',\n",
              " 'Out',\n",
              " '_',\n",
              " '_2',\n",
              " '__',\n",
              " '___',\n",
              " '__builtin__',\n",
              " '__builtins__',\n",
              " '__doc__',\n",
              " '__loader__',\n",
              " '__name__',\n",
              " '__package__',\n",
              " '__spec__',\n",
              " '__vsc_ipynb_file__',\n",
              " '_dh',\n",
              " '_i',\n",
              " '_i1',\n",
              " '_i2',\n",
              " '_i3',\n",
              " '_ih',\n",
              " '_ii',\n",
              " '_iii',\n",
              " '_oh',\n",
              " 'exit',\n",
              " 'get_ipython',\n",
              " 'open',\n",
              " 'quit']"
            ]
          },
          "execution_count": 3,
          "metadata": {},
          "output_type": "execute_result"
        }
      ],
      "source": [
        "dir()"
      ]
    },
    {
      "cell_type": "markdown",
      "metadata": {
        "id": "H2H3eVJTyI-F"
      },
      "source": [
        "De lo contrario, al usarse con un un argumento, devuelve una lista alfabética de nombres que comprende (alguno(s) de) los atributos de un objeto dato, y de los atributos legibles desde este."
      ]
    },
    {
      "cell_type": "code",
      "execution_count": 4,
      "metadata": {
        "colab": {
          "base_uri": "https://localhost:8080/"
        },
        "id": "MV4CGyIzyJ7b",
        "outputId": "d24a22fd-a940-488a-8a03-68d76ed897dc"
      },
      "outputs": [
        {
          "data": {
            "text/plain": [
              "['ArithmeticError',\n",
              " 'AssertionError',\n",
              " 'AttributeError',\n",
              " 'BaseException',\n",
              " 'BlockingIOError',\n",
              " 'BrokenPipeError',\n",
              " 'BufferError',\n",
              " 'BytesWarning',\n",
              " 'ChildProcessError',\n",
              " 'ConnectionAbortedError',\n",
              " 'ConnectionError',\n",
              " 'ConnectionRefusedError',\n",
              " 'ConnectionResetError',\n",
              " 'DeprecationWarning',\n",
              " 'EOFError',\n",
              " 'Ellipsis',\n",
              " 'EncodingWarning',\n",
              " 'EnvironmentError',\n",
              " 'Exception',\n",
              " 'False',\n",
              " 'FileExistsError',\n",
              " 'FileNotFoundError',\n",
              " 'FloatingPointError',\n",
              " 'FutureWarning',\n",
              " 'GeneratorExit',\n",
              " 'IOError',\n",
              " 'ImportError',\n",
              " 'ImportWarning',\n",
              " 'IndentationError',\n",
              " 'IndexError',\n",
              " 'InterruptedError',\n",
              " 'IsADirectoryError',\n",
              " 'KeyError',\n",
              " 'KeyboardInterrupt',\n",
              " 'LookupError',\n",
              " 'MemoryError',\n",
              " 'ModuleNotFoundError',\n",
              " 'NameError',\n",
              " 'None',\n",
              " 'NotADirectoryError',\n",
              " 'NotImplemented',\n",
              " 'NotImplementedError',\n",
              " 'OSError',\n",
              " 'OverflowError',\n",
              " 'PendingDeprecationWarning',\n",
              " 'PermissionError',\n",
              " 'ProcessLookupError',\n",
              " 'RecursionError',\n",
              " 'ReferenceError',\n",
              " 'ResourceWarning',\n",
              " 'RuntimeError',\n",
              " 'RuntimeWarning',\n",
              " 'StopAsyncIteration',\n",
              " 'StopIteration',\n",
              " 'SyntaxError',\n",
              " 'SyntaxWarning',\n",
              " 'SystemError',\n",
              " 'SystemExit',\n",
              " 'TabError',\n",
              " 'TimeoutError',\n",
              " 'True',\n",
              " 'TypeError',\n",
              " 'UnboundLocalError',\n",
              " 'UnicodeDecodeError',\n",
              " 'UnicodeEncodeError',\n",
              " 'UnicodeError',\n",
              " 'UnicodeTranslateError',\n",
              " 'UnicodeWarning',\n",
              " 'UserWarning',\n",
              " 'ValueError',\n",
              " 'Warning',\n",
              " 'ZeroDivisionError',\n",
              " '__IPYTHON__',\n",
              " '__build_class__',\n",
              " '__debug__',\n",
              " '__doc__',\n",
              " '__import__',\n",
              " '__loader__',\n",
              " '__name__',\n",
              " '__package__',\n",
              " '__spec__',\n",
              " 'abs',\n",
              " 'aiter',\n",
              " 'all',\n",
              " 'anext',\n",
              " 'any',\n",
              " 'ascii',\n",
              " 'bin',\n",
              " 'bool',\n",
              " 'breakpoint',\n",
              " 'bytearray',\n",
              " 'bytes',\n",
              " 'callable',\n",
              " 'chr',\n",
              " 'classmethod',\n",
              " 'compile',\n",
              " 'complex',\n",
              " 'copyright',\n",
              " 'credits',\n",
              " 'delattr',\n",
              " 'dict',\n",
              " 'dir',\n",
              " 'display',\n",
              " 'divmod',\n",
              " 'enumerate',\n",
              " 'eval',\n",
              " 'exec',\n",
              " 'execfile',\n",
              " 'filter',\n",
              " 'float',\n",
              " 'format',\n",
              " 'frozenset',\n",
              " 'get_ipython',\n",
              " 'getattr',\n",
              " 'globals',\n",
              " 'hasattr',\n",
              " 'hash',\n",
              " 'help',\n",
              " 'hex',\n",
              " 'id',\n",
              " 'input',\n",
              " 'int',\n",
              " 'isinstance',\n",
              " 'issubclass',\n",
              " 'iter',\n",
              " 'len',\n",
              " 'license',\n",
              " 'list',\n",
              " 'locals',\n",
              " 'map',\n",
              " 'max',\n",
              " 'memoryview',\n",
              " 'min',\n",
              " 'next',\n",
              " 'object',\n",
              " 'oct',\n",
              " 'open',\n",
              " 'ord',\n",
              " 'pow',\n",
              " 'print',\n",
              " 'property',\n",
              " 'range',\n",
              " 'repr',\n",
              " 'reversed',\n",
              " 'round',\n",
              " 'runfile',\n",
              " 'set',\n",
              " 'setattr',\n",
              " 'slice',\n",
              " 'sorted',\n",
              " 'staticmethod',\n",
              " 'str',\n",
              " 'sum',\n",
              " 'super',\n",
              " 'tuple',\n",
              " 'type',\n",
              " 'vars',\n",
              " 'zip']"
            ]
          },
          "execution_count": 4,
          "metadata": {},
          "output_type": "execute_result"
        }
      ],
      "source": [
        "dir(__builtins__)"
      ]
    },
    {
      "cell_type": "markdown",
      "metadata": {
        "id": "BF36Aa5as4ni"
      },
      "source": [
        "**Palabras Reservadas**\n",
        "\n",
        "Se trata de una pequeña guía con el objetivo de dar a conocer las palabras reservadas o **keyword** de Python, aquellos nombres que incorpora el lenguaje los cuales no pueden ser reemplazados por un valor determinado (funciones, clases, variables) o alterar su funcionamiento.\n",
        "\n",
        "El módulo **keyword** se distribuye junto con la librería estándar de Python. Es generado automáticamente a partir del archivo graminit.c, perteneciente al código de fuente del intérprete. Incorpora una lista que contiene el conjunto de palabras resevadas, y una simple función que determina la existencia de un keyword a partir de una cadena.\n"
      ]
    },
    {
      "cell_type": "code",
      "execution_count": 5,
      "metadata": {
        "colab": {
          "base_uri": "https://localhost:8080/"
        },
        "id": "1LNCQrx_tXSU",
        "outputId": "d35133bc-e8de-405d-f1a8-6cd294f39c61"
      },
      "outputs": [
        {
          "data": {
            "text/plain": [
              "['False',\n",
              " 'None',\n",
              " 'True',\n",
              " 'and',\n",
              " 'as',\n",
              " 'assert',\n",
              " 'async',\n",
              " 'await',\n",
              " 'break',\n",
              " 'class',\n",
              " 'continue',\n",
              " 'def',\n",
              " 'del',\n",
              " 'elif',\n",
              " 'else',\n",
              " 'except',\n",
              " 'finally',\n",
              " 'for',\n",
              " 'from',\n",
              " 'global',\n",
              " 'if',\n",
              " 'import',\n",
              " 'in',\n",
              " 'is',\n",
              " 'lambda',\n",
              " 'nonlocal',\n",
              " 'not',\n",
              " 'or',\n",
              " 'pass',\n",
              " 'raise',\n",
              " 'return',\n",
              " 'try',\n",
              " 'while',\n",
              " 'with',\n",
              " 'yield']"
            ]
          },
          "execution_count": 5,
          "metadata": {},
          "output_type": "execute_result"
        }
      ],
      "source": [
        "from keyword import iskeyword, kwlist\n",
        "kwlist"
      ]
    },
    {
      "cell_type": "markdown",
      "metadata": {
        "id": "n4AtXH9ypOA4"
      },
      "source": [
        "## **1.Operaciones, Funciones, Tipos de Datos** 🦊"
      ]
    },
    {
      "cell_type": "markdown",
      "metadata": {
        "id": "ffN_nPsaEn6z"
      },
      "source": [
        "### **1.1 Operaciones Básicas**"
      ]
    },
    {
      "cell_type": "markdown",
      "metadata": {
        "id": "7X211Qs3s3XX"
      },
      "source": [
        "<tr>\n",
        "<td><img src=\"../figs/basic-operators.png\" style=\"width: 1000px;\"/> </td>\n",
        "</tr>"
      ]
    },
    {
      "cell_type": "code",
      "execution_count": 6,
      "metadata": {
        "colab": {
          "base_uri": "https://localhost:8080/"
        },
        "id": "s16bE77nExlP",
        "outputId": "e9e92fdd-5c31-41be-ddbe-93e798826e02"
      },
      "outputs": [
        {
          "data": {
            "text/plain": [
              "9"
            ]
          },
          "execution_count": 6,
          "metadata": {},
          "output_type": "execute_result"
        }
      ],
      "source": [
        "# Suma de dos numeros cualesquiera\n",
        "4 + 5"
      ]
    },
    {
      "cell_type": "code",
      "execution_count": 7,
      "metadata": {
        "colab": {
          "base_uri": "https://localhost:8080/"
        },
        "id": "JNfTRdu0F7uZ",
        "outputId": "573320b9-9e0f-45da-a512-533bce22f72b"
      },
      "outputs": [
        {
          "data": {
            "text/plain": [
              "-2"
            ]
          },
          "execution_count": 7,
          "metadata": {},
          "output_type": "execute_result"
        }
      ],
      "source": [
        "# Resta de dos numeros cualesquiera\n",
        "1 - 3"
      ]
    },
    {
      "cell_type": "code",
      "execution_count": 8,
      "metadata": {
        "colab": {
          "base_uri": "https://localhost:8080/"
        },
        "id": "3SR-OLj0GDCx",
        "outputId": "08d1bfdf-1488-45b1-aa7e-f3646d73d34e"
      },
      "outputs": [
        {
          "data": {
            "text/plain": [
              "40"
            ]
          },
          "execution_count": 8,
          "metadata": {},
          "output_type": "execute_result"
        }
      ],
      "source": [
        "# Multiplicacion de dos numeros cualesquiera\n",
        "5 * 8"
      ]
    },
    {
      "cell_type": "code",
      "execution_count": 9,
      "metadata": {
        "colab": {
          "base_uri": "https://localhost:8080/"
        },
        "id": "UfYOhsHfGJZu",
        "outputId": "5795b107-5401-4fea-a807-fd3828047f1c"
      },
      "outputs": [
        {
          "data": {
            "text/plain": [
              "1.5"
            ]
          },
          "execution_count": 9,
          "metadata": {},
          "output_type": "execute_result"
        }
      ],
      "source": [
        "# Division de dos numeros cualesquiera\n",
        "3 / 2"
      ]
    },
    {
      "cell_type": "code",
      "execution_count": 10,
      "metadata": {
        "colab": {
          "base_uri": "https://localhost:8080/"
        },
        "id": "rjW8WBRMGR2V",
        "outputId": "f491645f-9cb4-4bf5-b419-61cc04ec82a5"
      },
      "outputs": [
        {
          "data": {
            "text/plain": [
              "256"
            ]
          },
          "execution_count": 10,
          "metadata": {},
          "output_type": "execute_result"
        }
      ],
      "source": [
        "# Potencia de un numero\n",
        "2**8"
      ]
    },
    {
      "cell_type": "code",
      "execution_count": 11,
      "metadata": {
        "colab": {
          "base_uri": "https://localhost:8080/"
        },
        "id": "3OAsHTVFHGjJ",
        "outputId": "fab78f88-8b41-41b8-be24-bca7e62175ca"
      },
      "outputs": [
        {
          "data": {
            "text/plain": [
              "1"
            ]
          },
          "execution_count": 11,
          "metadata": {},
          "output_type": "execute_result"
        }
      ],
      "source": [
        "# Modulo de un numero\n",
        "10 % 3"
      ]
    },
    {
      "cell_type": "markdown",
      "metadata": {
        "id": "_KIhdFNh2IVu"
      },
      "source": [
        "**Observación:** También existe la posibilidad de ingresar datos por terminal o consola utilizando la función ``input``. Ejemplo:"
      ]
    },
    {
      "cell_type": "code",
      "execution_count": 12,
      "metadata": {
        "colab": {
          "base_uri": "https://localhost:8080/"
        },
        "id": "vflgrweR2Hnw",
        "outputId": "524af98a-0101-478e-cde3-16d2c1a96bff"
      },
      "outputs": [],
      "source": [
        "nota = input('Que dia es hoy? : ')"
      ]
    },
    {
      "cell_type": "markdown",
      "metadata": {
        "id": "8yfGm-fTICYg"
      },
      "source": [
        "### **1.2. Tipos de Datos**"
      ]
    },
    {
      "cell_type": "markdown",
      "metadata": {
        "id": "-VgAz07arR4d"
      },
      "source": [
        "<tr>\n",
        "<td><img src=\"../figs/types_var.png\" style=\"width: 1000px;\"/> </td>\n",
        "</tr>"
      ]
    },
    {
      "cell_type": "code",
      "execution_count": 13,
      "metadata": {
        "colab": {
          "base_uri": "https://localhost:8080/"
        },
        "id": "Ho0IlcVtIgN-",
        "outputId": "d728f07c-a408-4973-93b6-fcf48e527f39"
      },
      "outputs": [
        {
          "data": {
            "text/plain": [
              "int"
            ]
          },
          "execution_count": 13,
          "metadata": {},
          "output_type": "execute_result"
        }
      ],
      "source": [
        "type(5)"
      ]
    },
    {
      "cell_type": "code",
      "execution_count": 14,
      "metadata": {
        "colab": {
          "base_uri": "https://localhost:8080/"
        },
        "id": "lV_It9dVIhge",
        "outputId": "e4430b51-56f6-47bd-abd8-112f8db4395d"
      },
      "outputs": [
        {
          "data": {
            "text/plain": [
              "float"
            ]
          },
          "execution_count": 14,
          "metadata": {},
          "output_type": "execute_result"
        }
      ],
      "source": [
        "type(0.5)"
      ]
    },
    {
      "cell_type": "code",
      "execution_count": 15,
      "metadata": {
        "colab": {
          "base_uri": "https://localhost:8080/"
        },
        "id": "oFN6PW8XIjyR",
        "outputId": "ae47a815-6daf-42d5-c2e1-014a4182d22a"
      },
      "outputs": [
        {
          "data": {
            "text/plain": [
              "str"
            ]
          },
          "execution_count": 15,
          "metadata": {},
          "output_type": "execute_result"
        }
      ],
      "source": [
        "a = \"Hola a todos\"\n",
        "type(a)"
      ]
    },
    {
      "cell_type": "code",
      "execution_count": 16,
      "metadata": {
        "colab": {
          "base_uri": "https://localhost:8080/"
        },
        "id": "A9c27z3Wsba9",
        "outputId": "54adaea4-ed13-4cb9-ec42-415769d6d5f2"
      },
      "outputs": [
        {
          "data": {
            "text/plain": [
              "bool"
            ]
          },
          "execution_count": 16,
          "metadata": {},
          "output_type": "execute_result"
        }
      ],
      "source": [
        "type(False)"
      ]
    },
    {
      "cell_type": "code",
      "execution_count": 17,
      "metadata": {
        "colab": {
          "base_uri": "https://localhost:8080/"
        },
        "id": "yF0HUObwsgae",
        "outputId": "29cc2a55-8d2c-4289-92ed-324a83f37c36"
      },
      "outputs": [
        {
          "data": {
            "text/plain": [
              "dict"
            ]
          },
          "execution_count": 17,
          "metadata": {},
          "output_type": "execute_result"
        }
      ],
      "source": [
        "type({\"Uno\":1, \"dos\":2})"
      ]
    },
    {
      "cell_type": "code",
      "execution_count": 18,
      "metadata": {
        "colab": {
          "base_uri": "https://localhost:8080/"
        },
        "id": "zuumLqfMsvU4",
        "outputId": "8265d7c9-2b03-4d1a-f3f4-3bca39ea90e7"
      },
      "outputs": [
        {
          "data": {
            "text/plain": [
              "list"
            ]
          },
          "execution_count": 18,
          "metadata": {},
          "output_type": "execute_result"
        }
      ],
      "source": [
        "type([1,2,3,4,5])"
      ]
    },
    {
      "cell_type": "markdown",
      "metadata": {
        "id": "GzXQavuvJEA-"
      },
      "source": [
        "### **1.3. Operaciones con números flotantes**"
      ]
    },
    {
      "cell_type": "code",
      "execution_count": 19,
      "metadata": {
        "colab": {
          "base_uri": "https://localhost:8080/"
        },
        "id": "hHv7Ja5gJL0z",
        "outputId": "855593bb-a8bd-4c19-941b-66bb5d7a6c66"
      },
      "outputs": [
        {
          "data": {
            "text/plain": [
              "6.1"
            ]
          },
          "execution_count": 19,
          "metadata": {},
          "output_type": "execute_result"
        }
      ],
      "source": [
        "2.5 + 3.6"
      ]
    },
    {
      "cell_type": "code",
      "execution_count": 20,
      "metadata": {
        "colab": {
          "base_uri": "https://localhost:8080/"
        },
        "id": "sG_inX4MJPDl",
        "outputId": "cb533dcb-1d22-4a78-8c48-01995c35d07e"
      },
      "outputs": [
        {
          "data": {
            "text/plain": [
              "60.4"
            ]
          },
          "execution_count": 20,
          "metadata": {},
          "output_type": "execute_result"
        }
      ],
      "source": [
        "4 + 56.4"
      ]
    },
    {
      "cell_type": "code",
      "execution_count": 21,
      "metadata": {
        "colab": {
          "base_uri": "https://localhost:8080/"
        },
        "id": "GqYRhVjmJSdP",
        "outputId": "17aa6335-01c2-452c-a399-a94778cadecf"
      },
      "outputs": [
        {
          "data": {
            "text/plain": [
              "13"
            ]
          },
          "execution_count": 21,
          "metadata": {},
          "output_type": "execute_result"
        }
      ],
      "source": [
        "5 + 8"
      ]
    },
    {
      "cell_type": "code",
      "execution_count": 22,
      "metadata": {
        "colab": {
          "base_uri": "https://localhost:8080/"
        },
        "id": "4J95AyR3JVxg",
        "outputId": "c6f9eb4b-fcad-4f45-ec70-1c84f6f370e0"
      },
      "outputs": [
        {
          "data": {
            "text/plain": [
              "2.0"
            ]
          },
          "execution_count": 22,
          "metadata": {},
          "output_type": "execute_result"
        }
      ],
      "source": [
        "# Resultado un numero flotante\n",
        "4 / 2"
      ]
    },
    {
      "cell_type": "code",
      "execution_count": 23,
      "metadata": {
        "colab": {
          "base_uri": "https://localhost:8080/"
        },
        "id": "tm31xhQZJc02",
        "outputId": "90815d3d-7db3-4063-c8bb-dd6bb46e1536"
      },
      "outputs": [
        {
          "data": {
            "text/plain": [
              "2"
            ]
          },
          "execution_count": 23,
          "metadata": {},
          "output_type": "execute_result"
        }
      ],
      "source": [
        "# Resultado un numero entero\n",
        "4 // 2"
      ]
    },
    {
      "cell_type": "code",
      "execution_count": 24,
      "metadata": {
        "colab": {
          "base_uri": "https://localhost:8080/"
        },
        "id": "Y04ipIWRJiR2",
        "outputId": "b38036fb-c7c1-49ae-d7ff-51462a51dcb2"
      },
      "outputs": [
        {
          "data": {
            "text/plain": [
              "1.3333333333333333"
            ]
          },
          "execution_count": 24,
          "metadata": {},
          "output_type": "execute_result"
        }
      ],
      "source": [
        "4 / 3.0"
      ]
    },
    {
      "cell_type": "code",
      "execution_count": 25,
      "metadata": {
        "colab": {
          "base_uri": "https://localhost:8080/"
        },
        "id": "75n37R7HJksC",
        "outputId": "2e338c9c-b188-4534-c88d-1906f9098b73"
      },
      "outputs": [
        {
          "data": {
            "text/plain": [
              "1.0"
            ]
          },
          "execution_count": 25,
          "metadata": {},
          "output_type": "execute_result"
        }
      ],
      "source": [
        "4 // 3.0"
      ]
    },
    {
      "cell_type": "markdown",
      "metadata": {
        "id": "51OrcIUmoE7l"
      },
      "source": [
        "### **1.4. Conversión**"
      ]
    },
    {
      "cell_type": "code",
      "execution_count": 26,
      "metadata": {
        "colab": {
          "base_uri": "https://localhost:8080/"
        },
        "id": "SjDpH91eoKs_",
        "outputId": "08668ee1-d5eb-4e63-fdcc-837b9700f08e"
      },
      "outputs": [
        {
          "data": {
            "text/plain": [
              "9.0"
            ]
          },
          "execution_count": 26,
          "metadata": {},
          "output_type": "execute_result"
        }
      ],
      "source": [
        "float(9)"
      ]
    },
    {
      "cell_type": "code",
      "execution_count": 27,
      "metadata": {
        "colab": {
          "base_uri": "https://localhost:8080/"
        },
        "id": "-zhbzKAboNcf",
        "outputId": "937a9c98-233b-4b89-8991-821ec71c8430"
      },
      "outputs": [
        {
          "data": {
            "text/plain": [
              "9"
            ]
          },
          "execution_count": 27,
          "metadata": {},
          "output_type": "execute_result"
        }
      ],
      "source": [
        "int(9.0)"
      ]
    },
    {
      "cell_type": "code",
      "execution_count": 28,
      "metadata": {
        "colab": {
          "base_uri": "https://localhost:8080/"
        },
        "id": "ANE8UCHQoP0g",
        "outputId": "b7b82761-7c89-45f4-c756-2c033aff9431"
      },
      "outputs": [
        {
          "data": {
            "text/plain": [
              "6"
            ]
          },
          "execution_count": 28,
          "metadata": {},
          "output_type": "execute_result"
        }
      ],
      "source": [
        "int(6.5)"
      ]
    },
    {
      "cell_type": "markdown",
      "metadata": {
        "id": "B_S9ivDzoYoR"
      },
      "source": [
        "### **1.5. Función abs, round y pow**"
      ]
    },
    {
      "cell_type": "code",
      "execution_count": 29,
      "metadata": {
        "colab": {
          "base_uri": "https://localhost:8080/"
        },
        "id": "OzsxXnguohUJ",
        "outputId": "fdac58d5-e650-4452-b6d4-bfc2011e7621"
      },
      "outputs": [
        {
          "data": {
            "text/plain": [
              "3"
            ]
          },
          "execution_count": 29,
          "metadata": {},
          "output_type": "execute_result"
        }
      ],
      "source": [
        "abs(-3)"
      ]
    },
    {
      "cell_type": "code",
      "execution_count": 30,
      "metadata": {
        "colab": {
          "base_uri": "https://localhost:8080/"
        },
        "id": "qgip0HIiol5w",
        "outputId": "8479256d-cc2f-416f-c0ee-4e698dd419c2"
      },
      "outputs": [
        {
          "data": {
            "text/plain": [
              "3"
            ]
          },
          "execution_count": 30,
          "metadata": {},
          "output_type": "execute_result"
        }
      ],
      "source": [
        "abs(3)"
      ]
    },
    {
      "cell_type": "code",
      "execution_count": 31,
      "metadata": {
        "colab": {
          "base_uri": "https://localhost:8080/"
        },
        "id": "xVwDYcXKom9k",
        "outputId": "f0f0fde6-f8d9-44d4-8ff8-50bf41cb2e16"
      },
      "outputs": [
        {
          "data": {
            "text/plain": [
              "3.14"
            ]
          },
          "execution_count": 31,
          "metadata": {},
          "output_type": "execute_result"
        }
      ],
      "source": [
        "round(3.14151932,2)"
      ]
    },
    {
      "cell_type": "code",
      "execution_count": 32,
      "metadata": {
        "colab": {
          "base_uri": "https://localhost:8080/"
        },
        "id": "yFd1piiSom1j",
        "outputId": "8f684618-308b-4d07-daa8-d403b19d8b0c"
      },
      "outputs": [
        {
          "data": {
            "text/plain": [
              "16"
            ]
          },
          "execution_count": 32,
          "metadata": {},
          "output_type": "execute_result"
        }
      ],
      "source": [
        "# 4 elevado a 2\n",
        "pow(4,2)"
      ]
    },
    {
      "cell_type": "code",
      "execution_count": 33,
      "metadata": {
        "colab": {
          "base_uri": "https://localhost:8080/"
        },
        "id": "m8fS-x-dowxc",
        "outputId": "dd81293d-9965-4278-d507-fc5da833801e"
      },
      "outputs": [
        {
          "data": {
            "text/plain": [
              "125"
            ]
          },
          "execution_count": 33,
          "metadata": {},
          "output_type": "execute_result"
        }
      ],
      "source": [
        "# 5 elevado a 3\n",
        "pow(5,3)"
      ]
    },
    {
      "cell_type": "markdown",
      "metadata": {
        "id": "4een0CBppiPt"
      },
      "source": [
        "## **2. Variables y Operadores** 🦜"
      ]
    },
    {
      "cell_type": "markdown",
      "metadata": {
        "id": "nAeCk4CsqOgX"
      },
      "source": [
        "### **2.1 Variables**"
      ]
    },
    {
      "cell_type": "code",
      "execution_count": 34,
      "metadata": {
        "id": "GosdGaiZpv7R"
      },
      "outputs": [],
      "source": [
        "# Asigno un numero a una variable\n",
        "variable_1 = 2"
      ]
    },
    {
      "cell_type": "code",
      "execution_count": 35,
      "metadata": {
        "colab": {
          "base_uri": "https://localhost:8080/"
        },
        "id": "SCQqpDQSp2im",
        "outputId": "2115cbae-a8db-457b-e84f-92355ccdac66"
      },
      "outputs": [
        {
          "data": {
            "text/plain": [
              "2"
            ]
          },
          "execution_count": 35,
          "metadata": {},
          "output_type": "execute_result"
        }
      ],
      "source": [
        "variable_1"
      ]
    },
    {
      "cell_type": "code",
      "execution_count": 36,
      "metadata": {
        "colab": {
          "base_uri": "https://localhost:8080/"
        },
        "id": "U2ZcPEKIp4lo",
        "outputId": "6533f833-e93a-4517-80ba-7f06cb6d0a8c"
      },
      "outputs": [
        {
          "name": "stdout",
          "output_type": "stream",
          "text": [
            "2\n"
          ]
        }
      ],
      "source": [
        "print(variable_1)"
      ]
    },
    {
      "cell_type": "code",
      "execution_count": 37,
      "metadata": {
        "colab": {
          "base_uri": "https://localhost:8080/"
        },
        "id": "qK7Hz9hlp8tg",
        "outputId": "8d626966-ab80-48a0-d063-67987bbfdf5f"
      },
      "outputs": [
        {
          "data": {
            "text/plain": [
              "int"
            ]
          },
          "execution_count": 37,
          "metadata": {},
          "output_type": "execute_result"
        }
      ],
      "source": [
        "type(variable_1)"
      ]
    },
    {
      "cell_type": "code",
      "execution_count": 38,
      "metadata": {
        "id": "ItD3z8vSqBCE"
      },
      "outputs": [],
      "source": [
        "variable_2 = 3.141516"
      ]
    },
    {
      "cell_type": "code",
      "execution_count": 39,
      "metadata": {
        "colab": {
          "base_uri": "https://localhost:8080/"
        },
        "id": "VJPA1mbSqDZ3",
        "outputId": "8c55ccd8-c2a9-4e46-bb72-2fb2922e2dc0"
      },
      "outputs": [
        {
          "data": {
            "text/plain": [
              "float"
            ]
          },
          "execution_count": 39,
          "metadata": {},
          "output_type": "execute_result"
        }
      ],
      "source": [
        "type(variable_2)"
      ]
    },
    {
      "cell_type": "code",
      "execution_count": 40,
      "metadata": {
        "id": "L7ZbUaj50nyE"
      },
      "outputs": [],
      "source": [
        "largo = 2\n",
        "alto  = 4"
      ]
    },
    {
      "cell_type": "code",
      "execution_count": 41,
      "metadata": {
        "colab": {
          "base_uri": "https://localhost:8080/"
        },
        "id": "xESBOBpx0sG8",
        "outputId": "c7c6e144-4b2e-4db8-e0b8-a833381662dc"
      },
      "outputs": [
        {
          "data": {
            "text/plain": [
              "8"
            ]
          },
          "execution_count": 41,
          "metadata": {},
          "output_type": "execute_result"
        }
      ],
      "source": [
        "area = largo * alto\n",
        "area"
      ]
    },
    {
      "cell_type": "code",
      "execution_count": 42,
      "metadata": {
        "colab": {
          "base_uri": "https://localhost:8080/"
        },
        "id": "HWUcT8A_0xYe",
        "outputId": "f474105b-eacf-42fc-81ee-56577aafb82c"
      },
      "outputs": [
        {
          "data": {
            "text/plain": [
              "12"
            ]
          },
          "execution_count": 42,
          "metadata": {},
          "output_type": "execute_result"
        }
      ],
      "source": [
        "perimetro = 2 * largo  + 2 * alto\n",
        "perimetro"
      ]
    },
    {
      "cell_type": "code",
      "execution_count": 43,
      "metadata": {
        "id": "aJtPF21i09Yh"
      },
      "outputs": [],
      "source": [
        "id1 = 25\n",
        "id2 = 35"
      ]
    },
    {
      "cell_type": "code",
      "execution_count": 44,
      "metadata": {
        "colab": {
          "base_uri": "https://localhost:8080/"
        },
        "id": "0xndBGNJ1CoC",
        "outputId": "c6376ae6-e79f-4ec9-8c3d-3b5f3a79f702"
      },
      "outputs": [
        {
          "data": {
            "text/plain": [
              "60"
            ]
          },
          "execution_count": 44,
          "metadata": {},
          "output_type": "execute_result"
        }
      ],
      "source": [
        "id1 + id2"
      ]
    },
    {
      "cell_type": "code",
      "execution_count": 45,
      "metadata": {
        "colab": {
          "base_uri": "https://localhost:8080/"
        },
        "id": "0RsEIEFg1E9z",
        "outputId": "fe9763ca-2b3d-4a47-db00-9e0c40eff42d"
      },
      "outputs": [
        {
          "data": {
            "text/plain": [
              "-10"
            ]
          },
          "execution_count": 45,
          "metadata": {},
          "output_type": "execute_result"
        }
      ],
      "source": [
        "id1 - id2"
      ]
    },
    {
      "cell_type": "code",
      "execution_count": 46,
      "metadata": {
        "colab": {
          "base_uri": "https://localhost:8080/"
        },
        "id": "dOTKTN6b1HcF",
        "outputId": "5a11de1e-a03b-4ebe-b652-9ec0ff3b9ee5"
      },
      "outputs": [
        {
          "data": {
            "text/plain": [
              "875"
            ]
          },
          "execution_count": 46,
          "metadata": {},
          "output_type": "execute_result"
        }
      ],
      "source": [
        "id1 * id2"
      ]
    },
    {
      "cell_type": "code",
      "execution_count": 47,
      "metadata": {
        "colab": {
          "base_uri": "https://localhost:8080/"
        },
        "id": "yGljc3_C1JVn",
        "outputId": "50498250-a299-4ccb-a58d-0ca2efda5cc2"
      },
      "outputs": [
        {
          "data": {
            "text/plain": [
              "0.7142857142857143"
            ]
          },
          "execution_count": 47,
          "metadata": {},
          "output_type": "execute_result"
        }
      ],
      "source": [
        "id1 / id2"
      ]
    },
    {
      "cell_type": "code",
      "execution_count": 48,
      "metadata": {
        "colab": {
          "base_uri": "https://localhost:8080/"
        },
        "id": "kvmmKiKL1M4V",
        "outputId": "554cebec-51be-4e5c-b7fc-3d7fb3925adf"
      },
      "outputs": [
        {
          "data": {
            "text/plain": [
              "10"
            ]
          },
          "execution_count": 48,
          "metadata": {},
          "output_type": "execute_result"
        }
      ],
      "source": [
        "id2 % id1"
      ]
    },
    {
      "cell_type": "code",
      "execution_count": 49,
      "metadata": {
        "colab": {
          "base_uri": "https://localhost:8080/"
        },
        "id": "rrOrGA2c1TlQ",
        "outputId": "4114a599-8732-4072-9be5-96f01553b12c"
      },
      "outputs": [
        {
          "name": "stdout",
          "output_type": "stream",
          "text": [
            "Elon Musk\n"
          ]
        }
      ],
      "source": [
        "# Concatenacion de Variables\n",
        "nombre = \"Elon\"\n",
        "apellido = \"Musk\"\n",
        "nombre_completo = nombre + \" \" + apellido\n",
        "print(nombre_completo)"
      ]
    },
    {
      "cell_type": "markdown",
      "metadata": {
        "id": "L1YwQ9bzqTmZ"
      },
      "source": [
        "### **2.2. Declaración Múltiple**"
      ]
    },
    {
      "cell_type": "code",
      "execution_count": 50,
      "metadata": {
        "id": "_OUncHUWqXS1"
      },
      "outputs": [],
      "source": [
        "persona_1, persona_2, persona_3 = \"Carlos\", \"Cecilia\", \"Luis\""
      ]
    },
    {
      "cell_type": "code",
      "execution_count": 51,
      "metadata": {
        "colab": {
          "base_uri": "https://localhost:8080/",
          "height": 35
        },
        "id": "cNWe_LFOqzuR",
        "outputId": "69a43eba-dbc7-4c51-a0c3-b68df9bde93a"
      },
      "outputs": [
        {
          "data": {
            "text/plain": [
              "'Carlos'"
            ]
          },
          "execution_count": 51,
          "metadata": {},
          "output_type": "execute_result"
        }
      ],
      "source": [
        "persona_1"
      ]
    },
    {
      "cell_type": "code",
      "execution_count": 52,
      "metadata": {
        "colab": {
          "base_uri": "https://localhost:8080/",
          "height": 35
        },
        "id": "INiX8wgXq1cW",
        "outputId": "696c24fe-8569-4f31-c797-f4552b0312a9"
      },
      "outputs": [
        {
          "data": {
            "text/plain": [
              "'Cecilia'"
            ]
          },
          "execution_count": 52,
          "metadata": {},
          "output_type": "execute_result"
        }
      ],
      "source": [
        "persona_2"
      ]
    },
    {
      "cell_type": "code",
      "execution_count": 53,
      "metadata": {
        "colab": {
          "base_uri": "https://localhost:8080/",
          "height": 35
        },
        "id": "8hyaMFExq21d",
        "outputId": "075af9c0-8085-40fa-faf4-15a931b6816c"
      },
      "outputs": [
        {
          "data": {
            "text/plain": [
              "'Luis'"
            ]
          },
          "execution_count": 53,
          "metadata": {},
          "output_type": "execute_result"
        }
      ],
      "source": [
        "persona_3"
      ]
    },
    {
      "cell_type": "code",
      "execution_count": 54,
      "metadata": {
        "id": "XQzz0yhtrahA"
      },
      "outputs": [],
      "source": [
        "fruta_1  = fruta_2 =  fruta_3 = \"naranja\""
      ]
    },
    {
      "cell_type": "code",
      "execution_count": 55,
      "metadata": {
        "colab": {
          "base_uri": "https://localhost:8080/",
          "height": 35
        },
        "id": "zXShn89erklT",
        "outputId": "bbe364f7-0e02-40b9-cb6e-e4662fb85010"
      },
      "outputs": [
        {
          "data": {
            "text/plain": [
              "'naranja'"
            ]
          },
          "execution_count": 55,
          "metadata": {},
          "output_type": "execute_result"
        }
      ],
      "source": [
        "fruta_1"
      ]
    },
    {
      "cell_type": "markdown",
      "metadata": {
        "id": "1VmjMzjcr2vl"
      },
      "source": [
        "Python, es sensible al uso de mayúsculas en las variables."
      ]
    },
    {
      "cell_type": "code",
      "execution_count": 56,
      "metadata": {
        "colab": {
          "base_uri": "https://localhost:8080/",
          "height": 139
        },
        "id": "icimHup3rzX3",
        "outputId": "401cab60-1cf4-4329-e6af-233d26094c0e"
      },
      "outputs": [
        {
          "ename": "NameError",
          "evalue": "name 'Fruta_1' is not defined",
          "output_type": "error",
          "traceback": [
            "\u001b[0;31m---------------------------------------------------------------------------\u001b[0m",
            "\u001b[0;31mNameError\u001b[0m                                 Traceback (most recent call last)",
            "Cell \u001b[0;32mIn[56], line 1\u001b[0m\n\u001b[0;32m----> 1\u001b[0m \u001b[43mFruta_1\u001b[49m\n",
            "\u001b[0;31mNameError\u001b[0m: name 'Fruta_1' is not defined"
          ]
        }
      ],
      "source": [
        "Fruta_1"
      ]
    },
    {
      "cell_type": "markdown",
      "metadata": {
        "id": "_2ko3uqVsEi1"
      },
      "source": [
        "En Python, se pueden usar variables que comienzen con letras y después un número, **pero no al revés**. **No se pueden crear variables que comiencen con un número**. Ejemplo:"
      ]
    },
    {
      "cell_type": "code",
      "execution_count": 57,
      "metadata": {
        "id": "UUvhwEYasPv6"
      },
      "outputs": [],
      "source": [
        "z1 = 20"
      ]
    },
    {
      "cell_type": "code",
      "execution_count": 58,
      "metadata": {
        "colab": {
          "base_uri": "https://localhost:8080/",
          "height": 105
        },
        "id": "CGQfRgPrsSVP",
        "outputId": "ce1baf52-e103-488f-becb-1a026021bc8f"
      },
      "outputs": [
        {
          "ename": "SyntaxError",
          "evalue": "invalid decimal literal (1732046872.py, line 1)",
          "output_type": "error",
          "traceback": [
            "\u001b[0;36m  Cell \u001b[0;32mIn[58], line 1\u001b[0;36m\u001b[0m\n\u001b[0;31m    1z\u001b[0m\n\u001b[0m    ^\u001b[0m\n\u001b[0;31mSyntaxError\u001b[0m\u001b[0;31m:\u001b[0m invalid decimal literal\n"
          ]
        }
      ],
      "source": [
        "1z"
      ]
    },
    {
      "cell_type": "markdown",
      "metadata": {
        "id": "WxdfBWKq2Vjz"
      },
      "source": [
        "## **3. Strings** 🐝"
      ]
    },
    {
      "cell_type": "markdown",
      "metadata": {
        "id": "H4UQesm29RaI"
      },
      "source": [
        "### **3.1 Creando Strings**"
      ]
    },
    {
      "cell_type": "code",
      "execution_count": 59,
      "metadata": {
        "colab": {
          "base_uri": "https://localhost:8080/",
          "height": 35
        },
        "id": "RqETHYxh4o1n",
        "outputId": "751f8eb8-a105-4f0c-8041-c5d6089f9832"
      },
      "outputs": [
        {
          "data": {
            "text/plain": [
              "'Hola'"
            ]
          },
          "execution_count": 59,
          "metadata": {},
          "output_type": "execute_result"
        }
      ],
      "source": [
        "# Una palabra\n",
        "\"Hola\""
      ]
    },
    {
      "cell_type": "code",
      "execution_count": 60,
      "metadata": {
        "colab": {
          "base_uri": "https://localhost:8080/",
          "height": 35
        },
        "id": "_QPhehZ44vat",
        "outputId": "11629852-9a2b-4db9-c4e4-a4e6c41cb34e"
      },
      "outputs": [
        {
          "data": {
            "text/plain": [
              "'Creando strings en python'"
            ]
          },
          "execution_count": 60,
          "metadata": {},
          "output_type": "execute_result"
        }
      ],
      "source": [
        "# Una frase\n",
        "\"Creando strings en python\""
      ]
    },
    {
      "cell_type": "code",
      "execution_count": 61,
      "metadata": {
        "colab": {
          "base_uri": "https://localhost:8080/",
          "height": 35
        },
        "id": "wXyWzlR48dkt",
        "outputId": "210e4242-edc0-4e94-b63b-33e6bf12c55f"
      },
      "outputs": [
        {
          "data": {
            "text/plain": [
              "\"Creando strings en 'python'\""
            ]
          },
          "execution_count": 61,
          "metadata": {},
          "output_type": "execute_result"
        }
      ],
      "source": [
        "# Podemos crear strings con comillas simples\n",
        "\"Creando strings en 'python'\""
      ]
    },
    {
      "cell_type": "code",
      "execution_count": 62,
      "metadata": {
        "colab": {
          "base_uri": "https://localhost:8080/"
        },
        "id": "pMc9_u_09YKf",
        "outputId": "34c2a69c-a040-4070-9a06-339a9aa02341"
      },
      "outputs": [
        {
          "name": "stdout",
          "output_type": "stream",
          "text": [
            "Creando strings en python\n"
          ]
        }
      ],
      "source": [
        "print(\"Creando strings en python\")"
      ]
    },
    {
      "cell_type": "code",
      "execution_count": 63,
      "metadata": {
        "colab": {
          "base_uri": "https://localhost:8080/"
        },
        "id": "0hm4xcCT9cEZ",
        "outputId": "527d2ce4-62de-4c8a-e166-0a1a450cf7ed"
      },
      "outputs": [
        {
          "name": "stdout",
          "output_type": "stream",
          "text": [
            "Creando \n",
            "Strings \n",
            "en \n",
            "Python\n"
          ]
        }
      ],
      "source": [
        "print('Creando \\nStrings \\nen \\nPython')"
      ]
    },
    {
      "cell_type": "markdown",
      "metadata": {
        "id": "jJ-aH-ZO9VXp"
      },
      "source": [
        "### **3.2 Indexando Strings**"
      ]
    },
    {
      "cell_type": "markdown",
      "metadata": {
        "id": "cTpZ17ECtlah"
      },
      "source": [
        "<tr>\n",
        "<td><img src=\"../figs/index_string.png\" style=\"width: 1000px;\"/> </td>\n",
        "</tr>"
      ]
    },
    {
      "cell_type": "code",
      "execution_count": 64,
      "metadata": {
        "colab": {
          "base_uri": "https://localhost:8080/"
        },
        "id": "lEKEhWEC9Go6",
        "outputId": "a596ed2a-c394-460b-b41f-ac6025029d69"
      },
      "outputs": [
        {
          "name": "stdout",
          "output_type": "stream",
          "text": [
            "Creando strings en python\n"
          ]
        }
      ],
      "source": [
        "s = \"Creando strings en python\"\n",
        "print(s)"
      ]
    },
    {
      "cell_type": "code",
      "execution_count": 65,
      "metadata": {
        "colab": {
          "base_uri": "https://localhost:8080/",
          "height": 35
        },
        "id": "asTqevxh-Z8B",
        "outputId": "e252e453-ec45-41c2-a0cc-5e6d54c7ac3e"
      },
      "outputs": [
        {
          "data": {
            "text/plain": [
              "'C'"
            ]
          },
          "execution_count": 65,
          "metadata": {},
          "output_type": "execute_result"
        }
      ],
      "source": [
        "s[0]"
      ]
    },
    {
      "cell_type": "code",
      "execution_count": 66,
      "metadata": {
        "colab": {
          "base_uri": "https://localhost:8080/",
          "height": 35
        },
        "id": "HVsQnjcD-c4u",
        "outputId": "52daf49e-4918-4fb3-c904-5832518e88c7"
      },
      "outputs": [
        {
          "data": {
            "text/plain": [
              "'r'"
            ]
          },
          "execution_count": 66,
          "metadata": {},
          "output_type": "execute_result"
        }
      ],
      "source": [
        "s[1]"
      ]
    },
    {
      "cell_type": "code",
      "execution_count": 67,
      "metadata": {
        "colab": {
          "base_uri": "https://localhost:8080/",
          "height": 35
        },
        "id": "fZ2FwiyJ-eeb",
        "outputId": "656fb72a-255b-4919-8f48-de686902fb3b"
      },
      "outputs": [
        {
          "data": {
            "text/plain": [
              "'e'"
            ]
          },
          "execution_count": 67,
          "metadata": {},
          "output_type": "execute_result"
        }
      ],
      "source": [
        "s[2]"
      ]
    },
    {
      "cell_type": "code",
      "execution_count": 68,
      "metadata": {
        "colab": {
          "base_uri": "https://localhost:8080/",
          "height": 35
        },
        "id": "XDcuSWL9_SML",
        "outputId": "77720805-33a4-4965-e3b9-064c8a3f9549"
      },
      "outputs": [
        {
          "data": {
            "text/plain": [
              "'reando strings en python'"
            ]
          },
          "execution_count": 68,
          "metadata": {},
          "output_type": "execute_result"
        }
      ],
      "source": [
        "# Para retornar todos los elementos de un string a partir\n",
        "# de cierta posicion, solo basta con poner :\n",
        "s[1:]"
      ]
    },
    {
      "cell_type": "code",
      "execution_count": 69,
      "metadata": {
        "colab": {
          "base_uri": "https://localhost:8080/",
          "height": 35
        },
        "id": "dvO39mdm_j3V",
        "outputId": "31ab2945-d6c4-48a5-ed07-40fdb3a66d44"
      },
      "outputs": [
        {
          "data": {
            "text/plain": [
              "'n'"
            ]
          },
          "execution_count": 69,
          "metadata": {},
          "output_type": "execute_result"
        }
      ],
      "source": [
        "# Retornar el ultimo caracter del string\n",
        "s[-1]"
      ]
    },
    {
      "cell_type": "code",
      "execution_count": 70,
      "metadata": {
        "colab": {
          "base_uri": "https://localhost:8080/",
          "height": 35
        },
        "id": "wjpqDoKa_0AN",
        "outputId": "23668f63-94ad-4fc1-a7ad-30038cd9a0d2"
      },
      "outputs": [
        {
          "data": {
            "text/plain": [
              "'Creando strings en pytho'"
            ]
          },
          "execution_count": 70,
          "metadata": {},
          "output_type": "execute_result"
        }
      ],
      "source": [
        "# Retornar el string a partir del ultimo caracter\n",
        "s[:-1]"
      ]
    },
    {
      "cell_type": "code",
      "execution_count": 71,
      "metadata": {
        "colab": {
          "base_uri": "https://localhost:8080/",
          "height": 35
        },
        "id": "yveZ7oGoBUFb",
        "outputId": "47795ee7-dd9c-45ae-abf5-a11e4211ff99"
      },
      "outputs": [
        {
          "data": {
            "text/plain": [
              "'Creando strings en python'"
            ]
          },
          "execution_count": 71,
          "metadata": {},
          "output_type": "execute_result"
        }
      ],
      "source": [
        "s[::1]"
      ]
    },
    {
      "cell_type": "code",
      "execution_count": 72,
      "metadata": {
        "colab": {
          "base_uri": "https://localhost:8080/",
          "height": 35
        },
        "id": "FgZHwvZiBWrg",
        "outputId": "51ebf075-526e-44d3-e935-a52df86fab81"
      },
      "outputs": [
        {
          "data": {
            "text/plain": [
              "'Cenosrnse yhn'"
            ]
          },
          "execution_count": 72,
          "metadata": {},
          "output_type": "execute_result"
        }
      ],
      "source": [
        "s[::2]"
      ]
    },
    {
      "cell_type": "code",
      "execution_count": 73,
      "metadata": {
        "colab": {
          "base_uri": "https://localhost:8080/",
          "height": 35
        },
        "id": "d28Wn6DFBkqe",
        "outputId": "002b1e44-14a5-4f88-af8b-a69c1fbfe8d7"
      },
      "outputs": [
        {
          "data": {
            "text/plain": [
              "'nohtyp ne sgnirts odnaerC'"
            ]
          },
          "execution_count": 73,
          "metadata": {},
          "output_type": "execute_result"
        }
      ],
      "source": [
        "s[::-1]"
      ]
    },
    {
      "cell_type": "code",
      "execution_count": 74,
      "metadata": {
        "colab": {
          "base_uri": "https://localhost:8080/",
          "height": 156
        },
        "id": "OrNP7eKqBrOr",
        "outputId": "f68e14cc-b00e-4e73-deee-e748c063742c"
      },
      "outputs": [
        {
          "ename": "TypeError",
          "evalue": "'str' object does not support item assignment",
          "output_type": "error",
          "traceback": [
            "\u001b[0;31m---------------------------------------------------------------------------\u001b[0m",
            "\u001b[0;31mTypeError\u001b[0m                                 Traceback (most recent call last)",
            "Cell \u001b[0;32mIn[74], line 2\u001b[0m\n\u001b[1;32m      1\u001b[0m \u001b[38;5;66;03m# No se puede alterar un caracter\u001b[39;00m\n\u001b[0;32m----> 2\u001b[0m \u001b[43ms\u001b[49m\u001b[43m[\u001b[49m\u001b[38;5;241;43m0\u001b[39;49m\u001b[43m]\u001b[49m \u001b[38;5;241m=\u001b[39m \u001b[38;5;124m'\u001b[39m\u001b[38;5;124mK\u001b[39m\u001b[38;5;124m'\u001b[39m\n",
            "\u001b[0;31mTypeError\u001b[0m: 'str' object does not support item assignment"
          ]
        }
      ],
      "source": [
        "# No se puede alterar un caracter\n",
        "s[0] = 'K'"
      ]
    },
    {
      "cell_type": "code",
      "execution_count": 75,
      "metadata": {
        "colab": {
          "base_uri": "https://localhost:8080/",
          "height": 35
        },
        "id": "_lKOsxgYBx6H",
        "outputId": "934f4793-f96f-465e-e6f1-2e66d7c909d3"
      },
      "outputs": [
        {
          "data": {
            "text/plain": [
              "'Creando strings en python es muy aburrido'"
            ]
          },
          "execution_count": 75,
          "metadata": {},
          "output_type": "execute_result"
        }
      ],
      "source": [
        "# Concatenacion de Strings\n",
        "s + ' es muy aburrido'"
      ]
    },
    {
      "cell_type": "code",
      "execution_count": 76,
      "metadata": {
        "colab": {
          "base_uri": "https://localhost:8080/"
        },
        "id": "CeRb3RzZB-2E",
        "outputId": "e0268437-75bd-4281-ffa7-4a3af8349bd7"
      },
      "outputs": [
        {
          "name": "stdout",
          "output_type": "stream",
          "text": [
            "Creando strings en python es muy aburrido\n"
          ]
        }
      ],
      "source": [
        "s = s + ' es muy aburrido'\n",
        "print(s)"
      ]
    },
    {
      "cell_type": "markdown",
      "metadata": {
        "id": "gOMB8KA_CcXz"
      },
      "source": [
        "### **3.3 Funciones Built-in de Strings (funciones integradas)**"
      ]
    },
    {
      "cell_type": "code",
      "execution_count": 77,
      "metadata": {
        "colab": {
          "base_uri": "https://localhost:8080/",
          "height": 35
        },
        "id": "YTKWi9GYCH9_",
        "outputId": "1ac9c9dc-2ef8-48c1-f9de-1ef0310ebe27"
      },
      "outputs": [
        {
          "data": {
            "text/plain": [
              "'Creando strings en python es muy aburrido'"
            ]
          },
          "execution_count": 77,
          "metadata": {},
          "output_type": "execute_result"
        }
      ],
      "source": [
        "s"
      ]
    },
    {
      "cell_type": "code",
      "execution_count": 78,
      "metadata": {
        "colab": {
          "base_uri": "https://localhost:8080/",
          "height": 35
        },
        "id": "93YKfrqyDQMK",
        "outputId": "67939de3-47b1-4b0c-d2dd-23e45ee3a1e5"
      },
      "outputs": [
        {
          "data": {
            "text/plain": [
              "'CREANDO STRINGS EN PYTHON ES MUY ABURRIDO'"
            ]
          },
          "execution_count": 78,
          "metadata": {},
          "output_type": "execute_result"
        }
      ],
      "source": [
        "# Convierte a mayuscula el strings\n",
        "s.upper()"
      ]
    },
    {
      "cell_type": "code",
      "execution_count": 79,
      "metadata": {
        "colab": {
          "base_uri": "https://localhost:8080/",
          "height": 35
        },
        "id": "BSq59C49DYs6",
        "outputId": "2238dfdf-2179-4643-a88a-98022dfff946"
      },
      "outputs": [
        {
          "data": {
            "text/plain": [
              "'creando strings en python es muy aburrido'"
            ]
          },
          "execution_count": 79,
          "metadata": {},
          "output_type": "execute_result"
        }
      ],
      "source": [
        "# convierte a minuscula el string\n",
        "s.lower()"
      ]
    },
    {
      "cell_type": "code",
      "execution_count": 80,
      "metadata": {
        "colab": {
          "base_uri": "https://localhost:8080/"
        },
        "id": "HjkvzI3yDdKc",
        "outputId": "29dffd7b-a27b-44b3-88cf-5c897d436c4d"
      },
      "outputs": [
        {
          "data": {
            "text/plain": [
              "['Creando', 'strings', 'en', 'python', 'es', 'muy', 'aburrido']"
            ]
          },
          "execution_count": 80,
          "metadata": {},
          "output_type": "execute_result"
        }
      ],
      "source": [
        "# Particiona el strings en caracteres (Textmining se conoce como tokenizacion)\n",
        "s.split()"
      ]
    },
    {
      "cell_type": "code",
      "execution_count": 81,
      "metadata": {
        "colab": {
          "base_uri": "https://localhost:8080/"
        },
        "id": "w2s8Zgy8Dris",
        "outputId": "fa1f0abc-3290-4fb9-d363-1ddb83fced77"
      },
      "outputs": [
        {
          "data": {
            "text/plain": [
              "['Creando ', 'tring', ' en python e', ' muy aburrido']"
            ]
          },
          "execution_count": 81,
          "metadata": {},
          "output_type": "execute_result"
        }
      ],
      "source": [
        "# Divie el string en un caracter en especifico\n",
        "s.split('s')"
      ]
    },
    {
      "cell_type": "code",
      "execution_count": 82,
      "metadata": {
        "colab": {
          "base_uri": "https://localhost:8080/",
          "height": 35
        },
        "id": "RuJXX4dMD4Oc",
        "outputId": "bf50558c-2ca8-413a-9328-9ac30b8e0331"
      },
      "outputs": [
        {
          "data": {
            "text/plain": [
              "'Creando strings en python es muy aburrido'"
            ]
          },
          "execution_count": 82,
          "metadata": {},
          "output_type": "execute_result"
        }
      ],
      "source": [
        "# Genera una copia del string y convierte la primera letra a mayuscula (uppercase)\n",
        "s.capitalize()"
      ]
    },
    {
      "cell_type": "code",
      "execution_count": 83,
      "metadata": {
        "colab": {
          "base_uri": "https://localhost:8080/"
        },
        "id": "wWMOUoqrFCTF",
        "outputId": "d5eb8ccb-9343-433b-8794-97efd7abe674"
      },
      "outputs": [
        {
          "data": {
            "text/plain": [
              "3"
            ]
          },
          "execution_count": 83,
          "metadata": {},
          "output_type": "execute_result"
        }
      ],
      "source": [
        "# Cuenta cuantas 'e' hay en el string\n",
        "s.count('e')"
      ]
    },
    {
      "cell_type": "code",
      "execution_count": 84,
      "metadata": {
        "colab": {
          "base_uri": "https://localhost:8080/"
        },
        "id": "s1yKHz1_FOH_",
        "outputId": "280c528d-266d-4013-8adf-9de9eb6ffa9f"
      },
      "outputs": [
        {
          "data": {
            "text/plain": [
              "13"
            ]
          },
          "execution_count": 84,
          "metadata": {},
          "output_type": "execute_result"
        }
      ],
      "source": [
        "# Encuentra la posicion indexada de la letra g\n",
        "s.find('g')"
      ]
    },
    {
      "cell_type": "markdown",
      "metadata": {
        "id": "fKXhIuN1uHMc"
      },
      "source": [
        "## **4. Listas** 🐛"
      ]
    },
    {
      "cell_type": "markdown",
      "metadata": {
        "id": "kS39Z_rK0R13"
      },
      "source": [
        "Una lista es una estructura de datos y un tipo de dato en python con características especiales. Lo especial de las listas en Python es que nos permiten almacenar cualquier tipo de valor como enteros, cadenas y hasta otras funciones; por ejemplo"
      ]
    },
    {
      "cell_type": "code",
      "execution_count": 85,
      "metadata": {
        "id": "e1kracv2vP5N"
      },
      "outputs": [],
      "source": [
        "lista = [1, 2.9, 'nombre', [5 , 6], 4]"
      ]
    },
    {
      "cell_type": "code",
      "execution_count": 86,
      "metadata": {
        "colab": {
          "base_uri": "https://localhost:8080/"
        },
        "id": "5BqfwPzu0k0I",
        "outputId": "4612b716-5268-40d5-e9e8-afb47d480cbe"
      },
      "outputs": [
        {
          "name": "stdout",
          "output_type": "stream",
          "text": [
            "1\n",
            "2.9\n",
            "nombre\n",
            "[5, 6]\n",
            "5\n",
            "6\n",
            "[2.9, 'nombre']\n",
            "[2.9, 'nombre', [5, 6], 4]\n"
          ]
        }
      ],
      "source": [
        "print(lista[0]) # 1\n",
        "print(lista[1]) # 2.9\n",
        "print(lista[2]) # nombre\n",
        "print(lista[3]) # [5,6]\n",
        "print(lista[3][0]) # 5\n",
        "print(lista[3][1]) # 6\n",
        "print(lista[1:3]) # [2.9, 'nombre']\n",
        "print(lista[1:6]) # [2.9, 'nombre', [5, 6], 4]"
      ]
    },
    {
      "cell_type": "markdown",
      "metadata": {
        "id": "opDmeRly1W9d"
      },
      "source": [
        "Como pueden darse cuenta podemos hasta insertar una lista dentro de otra lista."
      ]
    },
    {
      "cell_type": "code",
      "execution_count": 87,
      "metadata": {
        "id": "IlUI91Op-E53"
      },
      "outputs": [],
      "source": [
        "# Algunas operaciones con listas\n",
        "listas = [[1,2,3], [10,15,14], [10.1,8.7,2.3]]"
      ]
    },
    {
      "cell_type": "code",
      "execution_count": 88,
      "metadata": {
        "colab": {
          "base_uri": "https://localhost:8080/"
        },
        "id": "udvgqFJv-NXr",
        "outputId": "1620a866-1486-4131-d5ac-32ae61ca1e66"
      },
      "outputs": [
        {
          "data": {
            "text/plain": [
              "3"
            ]
          },
          "execution_count": 88,
          "metadata": {},
          "output_type": "execute_result"
        }
      ],
      "source": [
        "listas[0][0] # El indice 0 de la lista entrega el indice 0 de la lista [1,2,3]\n",
        "listas[1][2] # El indice 1 de la lista entrega el indice 2 de la lista [10,15,14]\n",
        "listas[0][2] # El indice 0 de la lista entrega el indice 2 de la lista [1,2,3]"
      ]
    },
    {
      "cell_type": "code",
      "execution_count": 89,
      "metadata": {
        "colab": {
          "base_uri": "https://localhost:8080/"
        },
        "id": "PP1vapS_-r-1",
        "outputId": "2f5580f3-c93b-47ed-9659-aa40777a6a70"
      },
      "outputs": [
        {
          "data": {
            "text/plain": [
              "13"
            ]
          },
          "execution_count": 89,
          "metadata": {},
          "output_type": "execute_result"
        }
      ],
      "source": [
        "# Al resultado de la lista entregada por lista[0][2] le sumo 10\n",
        "listas[0][2] + 10"
      ]
    },
    {
      "cell_type": "code",
      "execution_count": 90,
      "metadata": {
        "colab": {
          "base_uri": "https://localhost:8080/"
        },
        "id": "qEDndi4i--ui",
        "outputId": "cb708f18-4b72-4b94-e026-068fdb4cfd5d"
      },
      "outputs": [
        {
          "data": {
            "text/plain": [
              "15"
            ]
          },
          "execution_count": 90,
          "metadata": {},
          "output_type": "execute_result"
        }
      ],
      "source": [
        "# Al resultado de la lista entregada por lista[0][2] multiplico por 5\n",
        "listas[0][2] * 5"
      ]
    },
    {
      "cell_type": "code",
      "execution_count": 91,
      "metadata": {
        "colab": {
          "base_uri": "https://localhost:8080/"
        },
        "id": "B_XJOnJ4_ESS",
        "outputId": "03c3794d-8208-4c7f-e2f2-ccb8eda04851"
      },
      "outputs": [
        {
          "data": {
            "text/plain": [
              "int"
            ]
          },
          "execution_count": 91,
          "metadata": {},
          "output_type": "execute_result"
        }
      ],
      "source": [
        "type(listas[0][2])"
      ]
    },
    {
      "cell_type": "code",
      "execution_count": 92,
      "metadata": {
        "id": "bz-kR1oo_5Lx"
      },
      "outputs": [],
      "source": [
        "lista_2 = [100, 2, -5, 3.4]"
      ]
    },
    {
      "cell_type": "code",
      "execution_count": 93,
      "metadata": {
        "colab": {
          "base_uri": "https://localhost:8080/"
        },
        "id": "uotyLxfa_9Jg",
        "outputId": "8677b098-e73e-417f-b1a2-44c2b3f5d94f"
      },
      "outputs": [
        {
          "data": {
            "text/plain": [
              "-5"
            ]
          },
          "execution_count": 93,
          "metadata": {},
          "output_type": "execute_result"
        }
      ],
      "source": [
        "max(lista_2) # 100\n",
        "min(lista_2) # -5"
      ]
    },
    {
      "cell_type": "markdown",
      "metadata": {
        "id": "hCtX7w6U1lwt"
      },
      "source": [
        "### **4.1 Append()**"
      ]
    },
    {
      "cell_type": "markdown",
      "metadata": {
        "id": "BwnZPwIo1pT1"
      },
      "source": [
        "Este método nos permite agregar nuevos elementos a una lista."
      ]
    },
    {
      "cell_type": "code",
      "execution_count": 94,
      "metadata": {
        "id": "2onKhLR61rd5"
      },
      "outputs": [],
      "source": [
        "lista_1 = [1,  9.6, \"listas\", [1,2,3,4,5,6]]"
      ]
    },
    {
      "cell_type": "code",
      "execution_count": 95,
      "metadata": {
        "colab": {
          "base_uri": "https://localhost:8080/"
        },
        "id": "ofAME_wz4MFk",
        "outputId": "33f9247e-2e77-4013-c3c3-6aed515c5c75"
      },
      "outputs": [
        {
          "name": "stdout",
          "output_type": "stream",
          "text": [
            "[1, 9.6, 'listas', [1, 2, 3, 4, 5, 6], 10]\n"
          ]
        }
      ],
      "source": [
        "lista_1.append(10)\n",
        "print(lista_1)"
      ]
    },
    {
      "cell_type": "code",
      "execution_count": 96,
      "metadata": {
        "colab": {
          "base_uri": "https://localhost:8080/"
        },
        "id": "5vXo9NCl4USr",
        "outputId": "be5c3437-ce7f-4a1b-cc36-8482a994ad0b"
      },
      "outputs": [
        {
          "name": "stdout",
          "output_type": "stream",
          "text": [
            "[1, 9.6, 'listas', [1, 2, 3, 4, 5, 6], 10, 'nombres']\n"
          ]
        }
      ],
      "source": [
        "lista_1.append(\"nombres\")\n",
        "print(lista_1)"
      ]
    },
    {
      "cell_type": "markdown",
      "metadata": {
        "id": "N0UKOyLi4eLq"
      },
      "source": [
        "Podemos agregar cualquier tipo de elemento a una lista, pero tengan en cuenta lo que pasa cuando agregamos una lista dentro de otra, esta lista se agrega como uno y solo un elemento."
      ]
    },
    {
      "cell_type": "markdown",
      "metadata": {
        "id": "9qaYcGpf4wtY"
      },
      "source": [
        "### **4.2 Extend()**"
      ]
    },
    {
      "cell_type": "markdown",
      "metadata": {
        "id": "LqfqGKib5obh"
      },
      "source": [
        "Extend también nos permite agregar elementos dentro de una lista, pero a diferencia de append al momento de agregar una lista, cada elemento de esta lista se agrega como un elemento más dentro de la otra lista."
      ]
    },
    {
      "cell_type": "code",
      "execution_count": 97,
      "metadata": {
        "colab": {
          "base_uri": "https://localhost:8080/"
        },
        "id": "d0y8WY2d5qjv",
        "outputId": "de7d2b46-cc9a-4fb6-95c1-2a91a79df12b"
      },
      "outputs": [
        {
          "name": "stdout",
          "output_type": "stream",
          "text": [
            "[1, 9.6, 'listas', [1, 2, 3, 4, 5, 6], 10, 'nombres', 2, 5]\n"
          ]
        }
      ],
      "source": [
        "lista_1.extend([2,5])\n",
        "print(lista_1)"
      ]
    },
    {
      "cell_type": "markdown",
      "metadata": {
        "id": "HYr8D9zG4033"
      },
      "source": [
        "### **4.3 Remove()**"
      ]
    },
    {
      "cell_type": "markdown",
      "metadata": {
        "id": "p9xfVmNL5GUy"
      },
      "source": [
        "El método remove va a remover un elemento que se le pase como parámentro de la lista a donde se le esté aplicando."
      ]
    },
    {
      "cell_type": "code",
      "execution_count": 98,
      "metadata": {
        "colab": {
          "base_uri": "https://localhost:8080/"
        },
        "id": "N581-Ojh5IQ_",
        "outputId": "222f1fad-028e-4fda-d127-978e2807cbf1"
      },
      "outputs": [
        {
          "data": {
            "text/plain": [
              "list"
            ]
          },
          "execution_count": 98,
          "metadata": {},
          "output_type": "execute_result"
        }
      ],
      "source": [
        "type(lista_1)"
      ]
    },
    {
      "cell_type": "code",
      "execution_count": 99,
      "metadata": {
        "colab": {
          "base_uri": "https://localhost:8080/"
        },
        "id": "qs94d1nf5WF2",
        "outputId": "5e224a5a-8d24-4e99-c13a-fbdedcb91bbd"
      },
      "outputs": [
        {
          "name": "stdout",
          "output_type": "stream",
          "text": [
            "[1, 9.6, 'listas', [1, 2, 3, 4, 5, 6], 10, 2, 5]\n"
          ]
        }
      ],
      "source": [
        "lista_1.remove('nombres')\n",
        "print(lista_1)"
      ]
    },
    {
      "cell_type": "code",
      "execution_count": 100,
      "metadata": {
        "colab": {
          "base_uri": "https://localhost:8080/"
        },
        "id": "G-xfciJN9sDi",
        "outputId": "ebb93c9f-6126-4676-dcc5-aa2ce7d5814b"
      },
      "outputs": [
        {
          "data": {
            "text/plain": [
              "7"
            ]
          },
          "execution_count": 100,
          "metadata": {},
          "output_type": "execute_result"
        }
      ],
      "source": [
        "len(lista_1)"
      ]
    },
    {
      "cell_type": "markdown",
      "metadata": {
        "id": "dEnxnKoN93J3"
      },
      "source": [
        "También se puede eliminar elementos de la lista con la instrucción ``del``"
      ]
    },
    {
      "cell_type": "code",
      "execution_count": 101,
      "metadata": {
        "id": "mZTakiMW9nZt"
      },
      "outputs": [],
      "source": [
        "del lista_1[6]"
      ]
    },
    {
      "cell_type": "code",
      "execution_count": 102,
      "metadata": {
        "colab": {
          "base_uri": "https://localhost:8080/"
        },
        "id": "1l7xCh0s90P5",
        "outputId": "9cd10647-4760-4408-bfc9-91a64f050279"
      },
      "outputs": [
        {
          "data": {
            "text/plain": [
              "[1, 9.6, 'listas', [1, 2, 3, 4, 5, 6], 10, 2]"
            ]
          },
          "execution_count": 102,
          "metadata": {},
          "output_type": "execute_result"
        }
      ],
      "source": [
        "lista_1"
      ]
    },
    {
      "cell_type": "markdown",
      "metadata": {
        "id": "zniaxS2w6IgN"
      },
      "source": [
        "### **4.4 Reverse()**"
      ]
    },
    {
      "cell_type": "markdown",
      "metadata": {
        "id": "pjcV0u-L9D0w"
      },
      "source": [
        "También podemos invertir los elementos  de una lista."
      ]
    },
    {
      "cell_type": "code",
      "execution_count": 103,
      "metadata": {
        "colab": {
          "base_uri": "https://localhost:8080/"
        },
        "id": "GpqY6GUH9GAJ",
        "outputId": "81392934-50e0-4aa2-ef8a-a4ea190b4938"
      },
      "outputs": [
        {
          "name": "stdout",
          "output_type": "stream",
          "text": [
            "[2, 10, [1, 2, 3, 4, 5, 6], 'listas', 9.6, 1]\n"
          ]
        }
      ],
      "source": [
        "lista_1.reverse()\n",
        "print(lista_1)"
      ]
    },
    {
      "cell_type": "markdown",
      "metadata": {
        "id": "I2UF2xDbEE7I"
      },
      "source": [
        "## **5. Diccionarios** 🐞"
      ]
    },
    {
      "cell_type": "code",
      "execution_count": 104,
      "metadata": {
        "colab": {
          "base_uri": "https://localhost:8080/"
        },
        "id": "yRtOscLAwGxu",
        "outputId": "82941642-8b75-4813-b3d1-3cdaefaae95b"
      },
      "outputs": [
        {
          "data": {
            "text/plain": [
              "['Mateo', 24, 'Fernanda', 22, 'Carlos', 26, 'Cristina', 25]"
            ]
          },
          "execution_count": 104,
          "metadata": {},
          "output_type": "execute_result"
        }
      ],
      "source": [
        "# Creacion de una Lista\n",
        "estudiantes = [\"Mateo\", 24, \"Fernanda\", 22, \"Carlos\", 26, \"Cristina\", 25]\n",
        "estudiantes"
      ]
    },
    {
      "cell_type": "code",
      "execution_count": 105,
      "metadata": {
        "colab": {
          "base_uri": "https://localhost:8080/"
        },
        "id": "yaTIUdwuwjWV",
        "outputId": "9ca67687-c2ea-4f38-87f3-d9fc65bc566c"
      },
      "outputs": [
        {
          "data": {
            "text/plain": [
              "{'Mateo': 24, 'Fernanda': 22, 'Carlos': 26, 'Cristina': 25}"
            ]
          },
          "execution_count": 105,
          "metadata": {},
          "output_type": "execute_result"
        }
      ],
      "source": [
        "# Creacion de un diccionario\n",
        "estudiantes_dict = {\"Mateo\":24, \"Fernanda\":22, \"Carlos\":26, \"Cristina\":25}\n",
        "estudiantes_dict"
      ]
    },
    {
      "cell_type": "code",
      "execution_count": 106,
      "metadata": {
        "colab": {
          "base_uri": "https://localhost:8080/"
        },
        "id": "psdqoeXhw00u",
        "outputId": "e14ea3dd-75e1-4d7d-d09b-e27ad7cdf6fa"
      },
      "outputs": [
        {
          "data": {
            "text/plain": [
              "24"
            ]
          },
          "execution_count": 106,
          "metadata": {},
          "output_type": "execute_result"
        }
      ],
      "source": [
        "estudiantes_dict[\"Mateo\"]"
      ]
    },
    {
      "cell_type": "code",
      "execution_count": 107,
      "metadata": {
        "colab": {
          "base_uri": "https://localhost:8080/"
        },
        "id": "u9q2tGItxGsA",
        "outputId": "0df7a7e7-1b25-428d-864d-4b03c107be0d"
      },
      "outputs": [
        {
          "data": {
            "text/plain": [
              "{'Mateo': 24, 'Fernanda': 22, 'Carlos': 26, 'Cristina': 25, 'Pedro': 28}"
            ]
          },
          "execution_count": 107,
          "metadata": {},
          "output_type": "execute_result"
        }
      ],
      "source": [
        "# Si quiero agregar un nuevo item al diccionario\n",
        "estudiantes_dict[\"Pedro\"] = 28\n",
        "estudiantes_dict"
      ]
    },
    {
      "cell_type": "code",
      "execution_count": 108,
      "metadata": {
        "colab": {
          "base_uri": "https://localhost:8080/"
        },
        "id": "GNBhCPj_xYv0",
        "outputId": "036fbb99-7580-4937-f7ec-be751fe4d30c"
      },
      "outputs": [
        {
          "data": {
            "text/plain": [
              "5"
            ]
          },
          "execution_count": 108,
          "metadata": {},
          "output_type": "execute_result"
        }
      ],
      "source": [
        "# largo del diccionario\n",
        "len(estudiantes_dict)"
      ]
    },
    {
      "cell_type": "code",
      "execution_count": 109,
      "metadata": {
        "colab": {
          "base_uri": "https://localhost:8080/"
        },
        "id": "kFjHIC7bxjUV",
        "outputId": "2a14caa6-0cd5-4a99-f203-cd8289f26761"
      },
      "outputs": [
        {
          "data": {
            "text/plain": [
              "dict_keys(['Mateo', 'Fernanda', 'Carlos', 'Cristina', 'Pedro'])"
            ]
          },
          "execution_count": 109,
          "metadata": {},
          "output_type": "execute_result"
        }
      ],
      "source": [
        "# Acceso a el key del diccionario\n",
        "estudiantes_dict.keys()"
      ]
    },
    {
      "cell_type": "code",
      "execution_count": 110,
      "metadata": {
        "colab": {
          "base_uri": "https://localhost:8080/"
        },
        "id": "bjBW2F7xxwFr",
        "outputId": "194bd210-4461-4007-9692-5d0b90dd6b66"
      },
      "outputs": [
        {
          "data": {
            "text/plain": [
              "dict_values([24, 22, 26, 25, 28])"
            ]
          },
          "execution_count": 110,
          "metadata": {},
          "output_type": "execute_result"
        }
      ],
      "source": [
        "# Acceso a los valores de los keys\n",
        "estudiantes_dict.values()"
      ]
    },
    {
      "cell_type": "code",
      "execution_count": 111,
      "metadata": {
        "colab": {
          "base_uri": "https://localhost:8080/"
        },
        "id": "vkItaTzTx9MH",
        "outputId": "095b6e24-852a-42a1-c955-99b89581ec3c"
      },
      "outputs": [
        {
          "data": {
            "text/plain": [
              "dict_items([('Mateo', 24), ('Fernanda', 22), ('Carlos', 26), ('Cristina', 25), ('Pedro', 28)])"
            ]
          },
          "execution_count": 111,
          "metadata": {},
          "output_type": "execute_result"
        }
      ],
      "source": [
        "# Diccionario visto como pares o items\n",
        "estudiantes_dict.items()"
      ]
    },
    {
      "cell_type": "code",
      "execution_count": 112,
      "metadata": {
        "colab": {
          "base_uri": "https://localhost:8080/"
        },
        "id": "UtGY3OfUyEVf",
        "outputId": "48bf7210-afd8-4c5a-da56-844fff2582ad"
      },
      "outputs": [
        {
          "data": {
            "text/plain": [
              "{'Mateo': 24,\n",
              " 'Fernanda': 22,\n",
              " 'Carlos': 26,\n",
              " 'Cristina': 25,\n",
              " 'Pedro': 28,\n",
              " 'Jessica': 26,\n",
              " 'Andres': 27,\n",
              " 'Dayana': 28}"
            ]
          },
          "execution_count": 112,
          "metadata": {},
          "output_type": "execute_result"
        }
      ],
      "source": [
        "# Creo nuevo diccionario y actulizo el antiguo con el nuevo\n",
        "estudiantes_2_dict = {\"Jessica\":26, \"Andres\": 27, \"Dayana\":28}\n",
        "estudiantes_dict.update(estudiantes_2_dict)\n",
        "estudiantes_dict"
      ]
    },
    {
      "cell_type": "code",
      "execution_count": 113,
      "metadata": {
        "colab": {
          "base_uri": "https://localhost:8080/"
        },
        "id": "ZsuiVrMDysBl",
        "outputId": "25a6e7d8-7bea-43e1-be20-71d8a0d11ffc"
      },
      "outputs": [
        {
          "data": {
            "text/plain": [
              "{'Uno': 1, 'Dos': 2, 'Tres': 2.8, 'Cuatro': 'Python', 5: [22, 25, 26]}"
            ]
          },
          "execution_count": 113,
          "metadata": {},
          "output_type": "execute_result"
        }
      ],
      "source": [
        "# Creo diccionario vacio y lo lleno con distintos tipos de datos\n",
        "dic1 = {}\n",
        "dic1[\"Uno\"] = 1\n",
        "dic1[\"Dos\"] = 2\n",
        "dic1[\"Tres\"] = 2.8\n",
        "dic1[\"Cuatro\"] = \"Python\"\n",
        "dic1[5] = [22,25,26]\n",
        "dic1"
      ]
    },
    {
      "cell_type": "code",
      "execution_count": 114,
      "metadata": {
        "colab": {
          "base_uri": "https://localhost:8080/"
        },
        "id": "ijeCDgR7xPDG",
        "outputId": "e5ff444d-ac6e-4657-aead-b70e8dfe8eb9"
      },
      "outputs": [
        {
          "data": {
            "text/plain": [
              "{}"
            ]
          },
          "execution_count": 114,
          "metadata": {},
          "output_type": "execute_result"
        }
      ],
      "source": [
        "# Si quiero limpiar el diccionario\n",
        "estudiantes_dict.clear()\n",
        "estudiantes_dict"
      ]
    },
    {
      "cell_type": "markdown",
      "metadata": {
        "id": "OtNrMDjO_Pv9"
      },
      "source": [
        "## **6. if-elif-else** 🪲"
      ]
    },
    {
      "cell_type": "markdown",
      "metadata": {
        "id": "8b7848jpLwoq"
      },
      "source": [
        "### **6.1. If Condicional**"
      ]
    },
    {
      "cell_type": "code",
      "execution_count": 115,
      "metadata": {
        "colab": {
          "base_uri": "https://localhost:8080/"
        },
        "id": "Ckv1LXs4Ifj5",
        "outputId": "61c5a333-c105-466a-d6c7-b45d76a3819f"
      },
      "outputs": [
        {
          "data": {
            "text/plain": [
              "True"
            ]
          },
          "execution_count": 115,
          "metadata": {},
          "output_type": "execute_result"
        }
      ],
      "source": [
        "6 > 3"
      ]
    },
    {
      "cell_type": "code",
      "execution_count": 116,
      "metadata": {
        "colab": {
          "base_uri": "https://localhost:8080/"
        },
        "id": "Z8yVKg5dIhRB",
        "outputId": "4be2eba6-9a8f-4932-d51a-6a0e4666c0d9"
      },
      "outputs": [
        {
          "data": {
            "text/plain": [
              "False"
            ]
          },
          "execution_count": 116,
          "metadata": {},
          "output_type": "execute_result"
        }
      ],
      "source": [
        "3 > 7"
      ]
    },
    {
      "cell_type": "code",
      "execution_count": 117,
      "metadata": {
        "colab": {
          "base_uri": "https://localhost:8080/"
        },
        "id": "d7-R3ASsIjZt",
        "outputId": "cfc82eb7-48ee-4f28-83c7-b70b3a92add1"
      },
      "outputs": [
        {
          "data": {
            "text/plain": [
              "True"
            ]
          },
          "execution_count": 117,
          "metadata": {},
          "output_type": "execute_result"
        }
      ],
      "source": [
        "4 < 8"
      ]
    },
    {
      "cell_type": "code",
      "execution_count": 118,
      "metadata": {
        "colab": {
          "base_uri": "https://localhost:8080/"
        },
        "id": "TqWnsaiGHcBN",
        "outputId": "e4c86ede-4f41-4e2a-8b0a-1bc3cc978ee3"
      },
      "outputs": [
        {
          "name": "stdout",
          "output_type": "stream",
          "text": [
            "Es cierto!!! \n"
          ]
        }
      ],
      "source": [
        "if 5 > 2 :\n",
        "  print(\"Es cierto!!! \")"
      ]
    },
    {
      "cell_type": "code",
      "execution_count": 119,
      "metadata": {
        "colab": {
          "base_uri": "https://localhost:8080/"
        },
        "id": "0yzZ30wqIK40",
        "outputId": "96f8f17d-1d0f-46c2-dc92-9d57204bc6f2"
      },
      "outputs": [
        {
          "name": "stdout",
          "output_type": "stream",
          "text": [
            "Algo esta fallando!!!\n"
          ]
        }
      ],
      "source": [
        "if 5 < 2 :\n",
        "  print(\"Es cierto!!! \")\n",
        "else:\n",
        "  print(\"Algo esta fallando!!!\")"
      ]
    },
    {
      "cell_type": "code",
      "execution_count": 120,
      "metadata": {
        "colab": {
          "base_uri": "https://localhost:8080/"
        },
        "id": "yH05xki-KNoA",
        "outputId": "976da6c7-6f45-4a50-fcb8-351ab344bb61"
      },
      "outputs": [
        {
          "name": "stdout",
          "output_type": "stream",
          "text": [
            " Si, 5 es identico a 5\n"
          ]
        }
      ],
      "source": [
        "if 5 == 5 :\n",
        "  print(\" Si, 5 es identico a 5\")"
      ]
    },
    {
      "cell_type": "code",
      "execution_count": 121,
      "metadata": {
        "colab": {
          "base_uri": "https://localhost:8080/"
        },
        "id": "VlpE0qrCK5UH",
        "outputId": "403cddef-a445-458d-e5b8-dcb1af022869"
      },
      "outputs": [
        {
          "name": "stdout",
          "output_type": "stream",
          "text": [
            "Eres mayor de 18\n"
          ]
        }
      ],
      "source": [
        "edad = 18\n",
        "if edad > 17:\n",
        "  print(\"Eres mayor de 18\")"
      ]
    },
    {
      "cell_type": "code",
      "execution_count": 122,
      "metadata": {
        "colab": {
          "base_uri": "https://localhost:8080/"
        },
        "id": "Bi4zE1ZOKcbN",
        "outputId": "c7aa2e3d-6f65-49b7-cc0d-96f124756f6d"
      },
      "outputs": [
        {
          "name": "stdout",
          "output_type": "stream",
          "text": [
            "Ok Lucas, puedes entrar, eres mayor de edad!\n"
          ]
        }
      ],
      "source": [
        "nombre = \"Lucas\"\n",
        "if edad > 13 :\n",
        "  if nombre == \"Lucas\":\n",
        "    print(\"Ok Lucas, puedes entrar, eres mayor de edad!\")\n",
        "  else :\n",
        "    print(\"Sorry, no puedes entrar, eres menor de edad!\")"
      ]
    },
    {
      "cell_type": "code",
      "execution_count": 123,
      "metadata": {
        "colab": {
          "base_uri": "https://localhost:8080/"
        },
        "id": "MwGBpvcBLMcy",
        "outputId": "2a904d76-2fcb-40d3-d872-c1983c30f4f4"
      },
      "outputs": [
        {
          "name": "stdout",
          "output_type": "stream",
          "text": [
            "Ok Bob, puedes ingresar!\n"
          ]
        }
      ],
      "source": [
        "edad = 21\n",
        "nombre = \"Bob\"\n",
        "if edad >= 18 and nombre == \"Bob\" :\n",
        "  print(\"Ok Bob, puedes ingresar!\")"
      ]
    },
    {
      "cell_type": "code",
      "execution_count": 124,
      "metadata": {
        "colab": {
          "base_uri": "https://localhost:8080/"
        },
        "id": "FNkKrnsDLlJy",
        "outputId": "d475ee75-0f6a-4dd0-f7a6-c0fddf4339b0"
      },
      "outputs": [
        {
          "name": "stdout",
          "output_type": "stream",
          "text": [
            "Ok Bob, puedes ingresar!\n"
          ]
        }
      ],
      "source": [
        "edad = 19\n",
        "nombre = \"Bob\"\n",
        "if (edad >= 18) or (nombre == \"Bob\") :\n",
        "  print(\"Ok Bob, puedes ingresar!\")"
      ]
    },
    {
      "cell_type": "markdown",
      "metadata": {
        "id": "vFaEcLftL6JK"
      },
      "source": [
        "### **6.2 elif**"
      ]
    },
    {
      "cell_type": "code",
      "execution_count": 125,
      "metadata": {
        "colab": {
          "base_uri": "https://localhost:8080/"
        },
        "id": "r9d3VgycLss6",
        "outputId": "7c76f54e-494d-458a-b0b4-b9f91695d662"
      },
      "outputs": [
        {
          "name": "stdout",
          "output_type": "stream",
          "text": [
            "No, es otro dia de la semana\n"
          ]
        }
      ],
      "source": [
        "dia = \"lunes\"\n",
        "if dia == \"martes\":\n",
        "  print(\"Si, es dia lunes\")\n",
        "else :\n",
        "  print(\"No, es otro dia de la semana\")"
      ]
    },
    {
      "cell_type": "code",
      "execution_count": 126,
      "metadata": {
        "colab": {
          "base_uri": "https://localhost:8080/"
        },
        "id": "_yNjfQp9fWrN",
        "outputId": "3498016f-2260-4500-9115-caaf5ae52107"
      },
      "outputs": [
        {
          "name": "stdout",
          "output_type": "stream",
          "text": [
            "Si, es dia lunes\n"
          ]
        }
      ],
      "source": [
        "if dia == \"lunes\":\n",
        "  print(\"Si, es dia lunes\")\n",
        "elif dia == \"martes\":\n",
        "  print(\"Si, es dia martes\")\n",
        "else :\n",
        "  print(\"No, es cualquier otro dia de la semana\")"
      ]
    },
    {
      "cell_type": "markdown",
      "metadata": {
        "id": "-GFpj09rEaAG"
      },
      "source": [
        "## **7. for** 🍿"
      ]
    },
    {
      "cell_type": "code",
      "execution_count": 127,
      "metadata": {
        "colab": {
          "base_uri": "https://localhost:8080/"
        },
        "id": "yN1skpSy3P82",
        "outputId": "1fc01528-0c32-47f0-f0c2-9be72f3a0878"
      },
      "outputs": [
        {
          "name": "stdout",
          "output_type": "stream",
          "text": [
            "1\n",
            "2\n",
            "3\n",
            "4\n",
            "5\n"
          ]
        }
      ],
      "source": [
        "# loop de una lista\n",
        "v = [1,2,3,4,5]\n",
        "for i in v:\n",
        "  print(i)"
      ]
    },
    {
      "cell_type": "code",
      "execution_count": 128,
      "metadata": {
        "colab": {
          "base_uri": "https://localhost:8080/"
        },
        "id": "OhDauOXz3wxe",
        "outputId": "04134627-c7ff-436d-f402-fdf3b0bb9a1a"
      },
      "outputs": [
        {
          "name": "stdout",
          "output_type": "stream",
          "text": [
            "1\n",
            "2\n",
            "3\n",
            "4\n",
            "5\n",
            "6\n"
          ]
        }
      ],
      "source": [
        "# loop de  una tupla\n",
        "t = (1,2,3,4,5,6)\n",
        "for i in t:\n",
        "  print(i)"
      ]
    },
    {
      "cell_type": "code",
      "execution_count": 129,
      "metadata": {
        "colab": {
          "base_uri": "https://localhost:8080/"
        },
        "id": "WPOvdrki4BOg",
        "outputId": "5000c553-e5ad-4b9a-c8f4-cbe7161dfbf5"
      },
      "outputs": [
        {
          "name": "stdout",
          "output_type": "stream",
          "text": [
            "H\n",
            "o\n",
            "l\n",
            "a\n",
            " \n",
            "C\n",
            "l\n",
            "a\n",
            "s\n",
            "e\n"
          ]
        }
      ],
      "source": [
        "# loop de un String\n",
        "s = \"Hola Clase\"\n",
        "for j in s:\n",
        "  print(j)"
      ]
    },
    {
      "cell_type": "code",
      "execution_count": 130,
      "metadata": {
        "colab": {
          "base_uri": "https://localhost:8080/"
        },
        "id": "Q7EKQ2yk41rx",
        "outputId": "dc8a0d01-be2e-4843-8d63-f59ea2ac7958"
      },
      "outputs": [
        {
          "name": "stdout",
          "output_type": "stream",
          "text": [
            "p1\n",
            "p2\n",
            "p3\n"
          ]
        }
      ],
      "source": [
        "# Loop de un Diccionario\n",
        "d = {'p1':'Python','p2':'R','p3':'Matlab'}\n",
        "for items in d:\n",
        "  print(items)"
      ]
    },
    {
      "cell_type": "code",
      "execution_count": 131,
      "metadata": {
        "colab": {
          "base_uri": "https://localhost:8080/"
        },
        "id": "4Ech_TCL5RhM",
        "outputId": "8176b738-cc98-4bac-a2b4-205d3a5ff607"
      },
      "outputs": [
        {
          "name": "stdout",
          "output_type": "stream",
          "text": [
            "p1 Python\n",
            "p2 R\n",
            "p3 Matlab\n"
          ]
        }
      ],
      "source": [
        "# Loop de un Diccionario\n",
        "d = {'p1':'Python','p2':'R','p3':'Matlab'}\n",
        "for k,v in d.items():\n",
        "  print(k,v)"
      ]
    },
    {
      "cell_type": "code",
      "execution_count": 132,
      "metadata": {
        "colab": {
          "base_uri": "https://localhost:8080/"
        },
        "id": "5OxJ8dzH6pZu",
        "outputId": "2961bbff-4bc4-4b93-a77f-e32512a97d02"
      },
      "outputs": [
        {
          "name": "stdout",
          "output_type": "stream",
          "text": [
            "[1, 2, 3]\n",
            "[3, 4, 5]\n",
            "Hola Curso\n"
          ]
        }
      ],
      "source": [
        "# Loop de Listas\n",
        "lst = [[1,2,3], [3,4,5], \"Hola Curso\"]\n",
        "for i in lst:\n",
        "  print(i)"
      ]
    },
    {
      "cell_type": "code",
      "execution_count": 133,
      "metadata": {
        "colab": {
          "base_uri": "https://localhost:8080/"
        },
        "id": "oT6OFCxj4cVz",
        "outputId": "33d244fc-1ab9-400d-8a8a-a92c3149fd2d"
      },
      "outputs": [
        {
          "name": "stdout",
          "output_type": "stream",
          "text": [
            "6\n",
            "7\n",
            "8\n",
            "9\n",
            "6\n",
            "7\n",
            "8\n",
            "9\n",
            "6\n",
            "7\n",
            "8\n",
            "9\n",
            "6\n",
            "7\n",
            "8\n",
            "9\n",
            "6\n",
            "7\n",
            "8\n",
            "9\n"
          ]
        }
      ],
      "source": [
        "# Loops Anidados\n",
        "for i in range(0,5):\n",
        "  for j in range(6,10):\n",
        "    print(j)"
      ]
    },
    {
      "cell_type": "code",
      "execution_count": 134,
      "metadata": {
        "colab": {
          "base_uri": "https://localhost:8080/"
        },
        "id": "Fc7IUiql6nlB",
        "outputId": "46d5658d-b1c3-49fe-8e22-c3157104629f"
      },
      "outputs": [
        {
          "name": "stdout",
          "output_type": "stream",
          "text": [
            "1\n",
            "2\n",
            "3\n",
            "4\n",
            "5\n",
            "6\n"
          ]
        }
      ],
      "source": [
        "# Contando items de una lista\n",
        "lista = [1,2,3,4,5,6]\n",
        "count = 0\n",
        "for item in lista:\n",
        "  count += 1\n",
        "  print(count)"
      ]
    },
    {
      "cell_type": "code",
      "execution_count": 135,
      "metadata": {
        "colab": {
          "base_uri": "https://localhost:8080/"
        },
        "id": "VczOlviz7VrW",
        "outputId": "8a522dd1-adba-464d-d418-0d45d503d5c0"
      },
      "outputs": [
        {
          "name": "stdout",
          "output_type": "stream",
          "text": [
            "6\n"
          ]
        }
      ],
      "source": [
        "# Contando items de una lista (diferencia sutil de la posicion del print)\n",
        "lista = [1,2,3,4,5,6]\n",
        "count = 0\n",
        "for item in lista:\n",
        "  count += 1\n",
        "\n",
        "print(count)"
      ]
    },
    {
      "cell_type": "code",
      "execution_count": 136,
      "metadata": {
        "colab": {
          "base_uri": "https://localhost:8080/"
        },
        "id": "nbU-t9jQ7-yw",
        "outputId": "1a2dae52-a83e-4a22-ddc5-adca9417ffbd"
      },
      "outputs": [
        {
          "name": "stdout",
          "output_type": "stream",
          "text": [
            "Encontre el numero en la lista, y este es:  3\n"
          ]
        }
      ],
      "source": [
        "lista = [1,2,3,4,5]\n",
        "for item in lista:\n",
        "  if item == 3:\n",
        "    print(\"Encontre el numero en la lista, y este es: \", item)"
      ]
    },
    {
      "cell_type": "markdown",
      "metadata": {
        "id": "XQUStJYYEgWQ"
      },
      "source": [
        "## **8. range** 🍹"
      ]
    },
    {
      "cell_type": "code",
      "execution_count": 137,
      "metadata": {
        "colab": {
          "base_uri": "https://localhost:8080/"
        },
        "id": "QV7EeX78Gj2E",
        "outputId": "c3b46464-9fe7-42c1-fa43-e18df8fd920c"
      },
      "outputs": [
        {
          "data": {
            "text/plain": [
              "range"
            ]
          },
          "execution_count": 137,
          "metadata": {},
          "output_type": "execute_result"
        }
      ],
      "source": [
        "type(range(0,3))"
      ]
    },
    {
      "cell_type": "code",
      "execution_count": 138,
      "metadata": {
        "colab": {
          "base_uri": "https://localhost:8080/"
        },
        "id": "samvQx8XGLEn",
        "outputId": "d7901afe-c8fd-4f5b-e64f-d0565db00f17"
      },
      "outputs": [
        {
          "name": "stdout",
          "output_type": "stream",
          "text": [
            "50\n",
            "52\n",
            "54\n",
            "56\n",
            "58\n",
            "60\n",
            "62\n",
            "64\n",
            "66\n",
            "68\n",
            "70\n",
            "72\n",
            "74\n",
            "76\n",
            "78\n",
            "80\n",
            "82\n",
            "84\n",
            "86\n",
            "88\n",
            "90\n",
            "92\n",
            "94\n",
            "96\n",
            "98\n",
            "100\n"
          ]
        }
      ],
      "source": [
        "for i in range(50, 101, 2):\n",
        "    print(i)"
      ]
    },
    {
      "cell_type": "code",
      "execution_count": 139,
      "metadata": {
        "colab": {
          "base_uri": "https://localhost:8080/"
        },
        "id": "0odUlcQKGQvq",
        "outputId": "6765eca0-d825-4ae5-a77d-b761a6ed6f25"
      },
      "outputs": [
        {
          "name": "stdout",
          "output_type": "stream",
          "text": [
            "3\n",
            "4\n",
            "5\n"
          ]
        }
      ],
      "source": [
        "for i in range(3, 6):\n",
        "    print (i)"
      ]
    },
    {
      "cell_type": "code",
      "execution_count": 140,
      "metadata": {
        "colab": {
          "base_uri": "https://localhost:8080/"
        },
        "id": "ulxskuKpGUH1",
        "outputId": "a882a173-fc63-4ef5-95ee-19390b8d60a0"
      },
      "outputs": [
        {
          "name": "stdout",
          "output_type": "stream",
          "text": [
            "0\n",
            "-2\n",
            "-4\n",
            "-6\n",
            "-8\n",
            "-10\n",
            "-12\n",
            "-14\n",
            "-16\n",
            "-18\n"
          ]
        }
      ],
      "source": [
        "for i in range(0, -20, -2):\n",
        "    print(i)"
      ]
    },
    {
      "cell_type": "code",
      "execution_count": 141,
      "metadata": {
        "colab": {
          "base_uri": "https://localhost:8080/"
        },
        "id": "nbe6ma23GXVm",
        "outputId": "0677376a-9415-4a6f-e058-a42cf50dce56"
      },
      "outputs": [
        {
          "name": "stdout",
          "output_type": "stream",
          "text": [
            "Mango\n",
            "Platano\n",
            "Fresas\n",
            "Uvas\n"
          ]
        }
      ],
      "source": [
        "lista = ['Mango', 'Platano', 'Fresas', 'Uvas']\n",
        "lista_largo = len(lista)\n",
        "for i in range(0, lista_largo):\n",
        "    print(lista[i])"
      ]
    },
    {
      "cell_type": "markdown",
      "metadata": {
        "id": "smh3JOCiEc_f"
      },
      "source": [
        "## **9. While** ☕"
      ]
    },
    {
      "cell_type": "code",
      "execution_count": 142,
      "metadata": {
        "colab": {
          "base_uri": "https://localhost:8080/"
        },
        "id": "f8zqwqA78S4z",
        "outputId": "73e75af8-6032-42b8-d452-7923f527b0d6"
      },
      "outputs": [
        {
          "name": "stdout",
          "output_type": "stream",
          "text": [
            "0\n",
            "1\n",
            "2\n",
            "3\n",
            "4\n",
            "5\n",
            "6\n",
            "7\n",
            "8\n",
            "9\n"
          ]
        }
      ],
      "source": [
        "# Usando loop para imprimir valores\n",
        "count = 0\n",
        "while count < 10:\n",
        "  print(count)\n",
        "  count =  count + 1"
      ]
    },
    {
      "cell_type": "code",
      "execution_count": 143,
      "metadata": {
        "colab": {
          "base_uri": "https://localhost:8080/"
        },
        "id": "GJZZjkOX-X0U",
        "outputId": "e059ea7b-168f-4d5a-dfff-a594209cb686"
      },
      "outputs": [
        {
          "name": "stdout",
          "output_type": "stream",
          "text": [
            "0\n",
            "1\n",
            "2\n",
            "3\n"
          ]
        }
      ],
      "source": [
        "# While, if-else, breake y pass\n",
        "contador = 0\n",
        "while contador < 100:\n",
        "    if contador == 4:\n",
        "        break\n",
        "    else:\n",
        "        pass\n",
        "    print(contador)\n",
        "    contador = contador + 1"
      ]
    },
    {
      "cell_type": "code",
      "execution_count": 144,
      "metadata": {
        "colab": {
          "base_uri": "https://localhost:8080/"
        },
        "id": "xAYQ4ZB-FQ6a",
        "outputId": "6584bfc0-1397-4fdd-a4a0-82a0825defa1"
      },
      "outputs": [
        {
          "name": "stdout",
          "output_type": "stream",
          "text": [
            "2 es un numero primo\n",
            "3 es un numero primo\n",
            "5 es un numero primo\n",
            "7 es un numero primo\n",
            "11 es un numero primo\n",
            "13 es un numero primo\n",
            "17 es un numero primo\n",
            "19 es un numero primo\n",
            "23 es un numero primo\n",
            "29 es un numero primo\n"
          ]
        }
      ],
      "source": [
        "# Verificando si un numero en un rango, es primo o no.\n",
        "for i in range(2,30):\n",
        "    j = 2\n",
        "    contador = 0\n",
        "    while j < i:\n",
        "        if i % j == 0:\n",
        "            contador = 1\n",
        "            j = j + 1\n",
        "        else:\n",
        "            j = j + 1\n",
        "\n",
        "    if contador == 0:\n",
        "        print(str(i) + \" es un numero primo\")\n",
        "        contador = 0\n",
        "    else:\n",
        "        contador = 0"
      ]
    },
    {
      "cell_type": "markdown",
      "metadata": {
        "id": "wGXVtnNRN2PX"
      },
      "source": [
        "## **9. Creación de Funciones** 🍩"
      ]
    },
    {
      "cell_type": "code",
      "execution_count": 145,
      "metadata": {
        "id": "OT_e4WyYRP9G"
      },
      "outputs": [],
      "source": [
        "# Funcion retorna un string\n",
        "def Hola():\n",
        "  print(\"Hola Clase\")"
      ]
    },
    {
      "cell_type": "code",
      "execution_count": 146,
      "metadata": {
        "colab": {
          "base_uri": "https://localhost:8080/"
        },
        "id": "56XkQcA6RXyR",
        "outputId": "3b099ec0-7b15-489b-83a1-2de7a172371e"
      },
      "outputs": [
        {
          "name": "stdout",
          "output_type": "stream",
          "text": [
            "Hola Clase\n"
          ]
        }
      ],
      "source": [
        "Hola()"
      ]
    },
    {
      "cell_type": "code",
      "execution_count": 147,
      "metadata": {
        "id": "pTHkc6t4RaXI"
      },
      "outputs": [],
      "source": [
        "# Hola a \"Alguien\"\n",
        "def HolaAlguien(nombre):\n",
        "  print(\"Hola %s\" %(nombre))"
      ]
    },
    {
      "cell_type": "code",
      "execution_count": 148,
      "metadata": {
        "colab": {
          "base_uri": "https://localhost:8080/"
        },
        "id": "oTraINSvRjuO",
        "outputId": "1d9e14d7-95a9-4a81-f46d-ad3a088e98a4"
      },
      "outputs": [
        {
          "name": "stdout",
          "output_type": "stream",
          "text": [
            "Hola Lucas\n"
          ]
        }
      ],
      "source": [
        "HolaAlguien(\"Lucas\")"
      ]
    },
    {
      "cell_type": "code",
      "execution_count": 149,
      "metadata": {
        "id": "D92ASfG1N5KE"
      },
      "outputs": [],
      "source": [
        "# Funcion que crea potencias\n",
        "def potencia(numero):\n",
        "  result = numero**2\n",
        "  return result"
      ]
    },
    {
      "cell_type": "code",
      "execution_count": 150,
      "metadata": {
        "colab": {
          "base_uri": "https://localhost:8080/"
        },
        "id": "OQXE-6X8OAlZ",
        "outputId": "7078b6d5-9c16-4c0f-cba6-73d4581086ab"
      },
      "outputs": [
        {
          "data": {
            "text/plain": [
              "25"
            ]
          },
          "execution_count": 150,
          "metadata": {},
          "output_type": "execute_result"
        }
      ],
      "source": [
        "potencia(5)"
      ]
    },
    {
      "cell_type": "code",
      "execution_count": 151,
      "metadata": {
        "id": "s9C_6wXYODDZ"
      },
      "outputs": [],
      "source": [
        "# Funcion que crea potencias\n",
        "def potencia(numero):\n",
        "  return numero**2"
      ]
    },
    {
      "cell_type": "markdown",
      "metadata": {
        "id": "HFfGDlL2P2ls"
      },
      "source": [
        "En Python, una función Lambda se refiere a una pequeña función anónima. Las llamamos```funciones anónimas``` porque técnicamente carecen de nombre. Al contrario que una función normal, no la definimos con la palabra clave estándar def que utilizamos en Python."
      ]
    },
    {
      "cell_type": "code",
      "execution_count": 152,
      "metadata": {
        "id": "v-kLoIyNOJbZ"
      },
      "outputs": [],
      "source": [
        "# Funcion que crea potencias\n",
        "def potencia(numero): return numero**2"
      ]
    },
    {
      "cell_type": "code",
      "execution_count": 153,
      "metadata": {
        "id": "bTVGbxP-OON9"
      },
      "outputs": [],
      "source": [
        "# Definiendo expresiones lambda\n",
        "potencia = lambda num: num**2"
      ]
    },
    {
      "cell_type": "code",
      "execution_count": 154,
      "metadata": {
        "id": "bcmX4mBDP-xi"
      },
      "outputs": [],
      "source": [
        "# Funcion que calcula promedio\n",
        "def promedio(vector):\n",
        "  n = len(vector)\n",
        "  xbar = sum(x)/n\n",
        "  return xbar"
      ]
    },
    {
      "cell_type": "code",
      "execution_count": 155,
      "metadata": {
        "colab": {
          "base_uri": "https://localhost:8080/"
        },
        "id": "5O2DDa9HQOQB",
        "outputId": "a6dbd7c9-bae9-4110-c578-02cbdf47a6c6"
      },
      "outputs": [
        {
          "data": {
            "text/plain": [
              "4.5"
            ]
          },
          "execution_count": 155,
          "metadata": {},
          "output_type": "execute_result"
        }
      ],
      "source": [
        "x = [1,2,3,4,5,6,7,8]\n",
        "promedio(x)"
      ]
    },
    {
      "cell_type": "code",
      "execution_count": 156,
      "metadata": {
        "colab": {
          "base_uri": "https://localhost:8080/"
        },
        "id": "tEQ3_fLaQ2OU",
        "outputId": "b392f4d7-05b3-49e9-98cb-25171b722649"
      },
      "outputs": [
        {
          "data": {
            "text/plain": [
              "float"
            ]
          },
          "execution_count": 156,
          "metadata": {},
          "output_type": "execute_result"
        }
      ],
      "source": [
        "type(promedio(x))"
      ]
    },
    {
      "cell_type": "code",
      "execution_count": 157,
      "metadata": {
        "id": "5SwsDtRERrM5"
      },
      "outputs": [],
      "source": [
        "# funcion que lee un vector en un loop\n",
        "def lectura_vector():\n",
        "  for i in range(0,5):\n",
        "    print(\"numero \" + str(i))"
      ]
    },
    {
      "cell_type": "code",
      "execution_count": 158,
      "metadata": {
        "colab": {
          "base_uri": "https://localhost:8080/"
        },
        "id": "Hiw0SzpJqcsE",
        "outputId": "420f116e-ed95-4ec3-b5e1-dff489b828b0"
      },
      "outputs": [
        {
          "name": "stdout",
          "output_type": "stream",
          "text": [
            "numero 0\n",
            "numero 1\n",
            "numero 2\n",
            "numero 3\n",
            "numero 4\n"
          ]
        }
      ],
      "source": [
        "lectura_vector()"
      ]
    },
    {
      "cell_type": "code",
      "execution_count": 159,
      "metadata": {
        "id": "5o8N-plrtxHk"
      },
      "outputs": [],
      "source": [
        "# funcion que particiona un string\n",
        "def split_string(text):\n",
        "  return text.split(\" \")"
      ]
    },
    {
      "cell_type": "code",
      "execution_count": 160,
      "metadata": {
        "colab": {
          "base_uri": "https://localhost:8080/"
        },
        "id": "fZTZAQY8t5il",
        "outputId": "d44258a2-f3ef-4741-ae1e-04d888303e89"
      },
      "outputs": [
        {
          "data": {
            "text/plain": [
              "['Hola', 'a', 'todos,', 'como', 'estan']"
            ]
          },
          "execution_count": 160,
          "metadata": {},
          "output_type": "execute_result"
        }
      ],
      "source": [
        "texto = \"Hola a todos, como estan\"\n",
        "split_string(texto)"
      ]
    },
    {
      "cell_type": "markdown",
      "metadata": {
        "id": "W9Vb5xXPR09W"
      },
      "source": [
        "## **10. NumPy** 🍡"
      ]
    },
    {
      "cell_type": "markdown",
      "metadata": {
        "id": "A_znYmisLpx8"
      },
      "source": [
        "**NumPy** es la librería de python especializada en el cálculo numérico y análisis de datos, especialmente para un gran volumen de datos.\n",
        "\n",
        "<tr>\n",
        "<td><img src=\"../figs/numpy_stack.webp\" style=\"width: 1000px;\"/> </td>\n",
        "</tr>\n",
        "\n",
        "\n",
        "\n",
        "Para invocar este módulo, python utiliza un sistema de importación en el cual, se obtiene acceso al código y a las funciones declaradas en él. Por ejemplo, si quiero importar el módulo numpy y utilizar toda la bateria de funciones que tiene éste, lo invoco de la siguiente manera:\n",
        "\n",
        "\n"
      ]
    },
    {
      "cell_type": "code",
      "execution_count": 161,
      "metadata": {
        "id": "YJX4MeMZutAr"
      },
      "outputs": [],
      "source": [
        "import numpy"
      ]
    },
    {
      "cell_type": "markdown",
      "metadata": {
        "id": "-o_fGLplB6J1"
      },
      "source": [
        "Para revisar la versión de numpy que maneja colab, basta con tipear en la linea de comandos:"
      ]
    },
    {
      "cell_type": "code",
      "execution_count": 162,
      "metadata": {
        "colab": {
          "base_uri": "https://localhost:8080/",
          "height": 35
        },
        "id": "DiLKLKRNBpmE",
        "outputId": "3b170a7c-53bf-4661-b218-8f3ca3692373"
      },
      "outputs": [
        {
          "data": {
            "text/plain": [
              "'2.2.5'"
            ]
          },
          "execution_count": 162,
          "metadata": {},
          "output_type": "execute_result"
        }
      ],
      "source": [
        "numpy.version.version"
      ]
    },
    {
      "cell_type": "code",
      "execution_count": 163,
      "metadata": {
        "colab": {
          "base_uri": "https://localhost:8080/"
        },
        "id": "idlJbts8RGjw",
        "outputId": "446364f4-1423-40a5-b26e-2d146269fddd"
      },
      "outputs": [
        {
          "data": {
            "text/plain": [
              "np.float64(5.5)"
            ]
          },
          "execution_count": 163,
          "metadata": {},
          "output_type": "execute_result"
        }
      ],
      "source": [
        "# Dado un vector, obtengo la media de este\n",
        "x = [1,2,3,4,5,6,7,8,9,10]\n",
        "numpy.mean(x)"
      ]
    },
    {
      "cell_type": "markdown",
      "metadata": {
        "id": "xlPE8UswQUp7"
      },
      "source": [
        "Para ver todas las funciones que trae el módulo numpy, utilicemos la función ``dir()`` vista anteriormente."
      ]
    },
    {
      "cell_type": "code",
      "execution_count": 164,
      "metadata": {
        "colab": {
          "base_uri": "https://localhost:8080/"
        },
        "id": "Gd4BIH9bQC6Q",
        "outputId": "c548ca4b-8cb0-40ba-ef14-c4b116dc8b0e"
      },
      "outputs": [
        {
          "data": {
            "text/plain": [
              "['False_',\n",
              " 'ScalarType',\n",
              " 'True_',\n",
              " '_CopyMode',\n",
              " '_NoValue',\n",
              " '__NUMPY_SETUP__',\n",
              " '__all__',\n",
              " '__array_api_version__',\n",
              " '__array_namespace_info__',\n",
              " '__builtins__',\n",
              " '__cached__',\n",
              " '__config__',\n",
              " '__dir__',\n",
              " '__doc__',\n",
              " '__expired_attributes__',\n",
              " '__file__',\n",
              " '__former_attrs__',\n",
              " '__future_scalars__',\n",
              " '__getattr__',\n",
              " '__loader__',\n",
              " '__name__',\n",
              " '__numpy_submodules__',\n",
              " '__package__',\n",
              " '__path__',\n",
              " '__spec__',\n",
              " '__version__',\n",
              " '_array_api_info',\n",
              " '_core',\n",
              " '_distributor_init',\n",
              " '_expired_attrs_2_0',\n",
              " '_globals',\n",
              " '_int_extended_msg',\n",
              " '_mat',\n",
              " '_msg',\n",
              " '_pyinstaller_hooks_dir',\n",
              " '_pytesttester',\n",
              " '_specific_msg',\n",
              " '_type_info',\n",
              " '_typing',\n",
              " '_utils',\n",
              " 'abs',\n",
              " 'absolute',\n",
              " 'acos',\n",
              " 'acosh',\n",
              " 'add',\n",
              " 'all',\n",
              " 'allclose',\n",
              " 'amax',\n",
              " 'amin',\n",
              " 'angle',\n",
              " 'any',\n",
              " 'append',\n",
              " 'apply_along_axis',\n",
              " 'apply_over_axes',\n",
              " 'arange',\n",
              " 'arccos',\n",
              " 'arccosh',\n",
              " 'arcsin',\n",
              " 'arcsinh',\n",
              " 'arctan',\n",
              " 'arctan2',\n",
              " 'arctanh',\n",
              " 'argmax',\n",
              " 'argmin',\n",
              " 'argpartition',\n",
              " 'argsort',\n",
              " 'argwhere',\n",
              " 'around',\n",
              " 'array',\n",
              " 'array2string',\n",
              " 'array_equal',\n",
              " 'array_equiv',\n",
              " 'array_repr',\n",
              " 'array_split',\n",
              " 'array_str',\n",
              " 'asanyarray',\n",
              " 'asarray',\n",
              " 'asarray_chkfinite',\n",
              " 'ascontiguousarray',\n",
              " 'asfortranarray',\n",
              " 'asin',\n",
              " 'asinh',\n",
              " 'asmatrix',\n",
              " 'astype',\n",
              " 'atan',\n",
              " 'atan2',\n",
              " 'atanh',\n",
              " 'atleast_1d',\n",
              " 'atleast_2d',\n",
              " 'atleast_3d',\n",
              " 'average',\n",
              " 'bartlett',\n",
              " 'base_repr',\n",
              " 'binary_repr',\n",
              " 'bincount',\n",
              " 'bitwise_and',\n",
              " 'bitwise_count',\n",
              " 'bitwise_invert',\n",
              " 'bitwise_left_shift',\n",
              " 'bitwise_not',\n",
              " 'bitwise_or',\n",
              " 'bitwise_right_shift',\n",
              " 'bitwise_xor',\n",
              " 'blackman',\n",
              " 'block',\n",
              " 'bmat',\n",
              " 'bool',\n",
              " 'bool_',\n",
              " 'broadcast',\n",
              " 'broadcast_arrays',\n",
              " 'broadcast_shapes',\n",
              " 'broadcast_to',\n",
              " 'busday_count',\n",
              " 'busday_offset',\n",
              " 'busdaycalendar',\n",
              " 'byte',\n",
              " 'bytes_',\n",
              " 'c_',\n",
              " 'can_cast',\n",
              " 'cbrt',\n",
              " 'cdouble',\n",
              " 'ceil',\n",
              " 'char',\n",
              " 'character',\n",
              " 'choose',\n",
              " 'clip',\n",
              " 'clongdouble',\n",
              " 'column_stack',\n",
              " 'common_type',\n",
              " 'complex128',\n",
              " 'complex64',\n",
              " 'complexfloating',\n",
              " 'compress',\n",
              " 'concat',\n",
              " 'concatenate',\n",
              " 'conj',\n",
              " 'conjugate',\n",
              " 'convolve',\n",
              " 'copy',\n",
              " 'copysign',\n",
              " 'copyto',\n",
              " 'core',\n",
              " 'corrcoef',\n",
              " 'correlate',\n",
              " 'cos',\n",
              " 'cosh',\n",
              " 'count_nonzero',\n",
              " 'cov',\n",
              " 'cross',\n",
              " 'csingle',\n",
              " 'ctypeslib',\n",
              " 'cumprod',\n",
              " 'cumsum',\n",
              " 'cumulative_prod',\n",
              " 'cumulative_sum',\n",
              " 'datetime64',\n",
              " 'datetime_as_string',\n",
              " 'datetime_data',\n",
              " 'deg2rad',\n",
              " 'degrees',\n",
              " 'delete',\n",
              " 'diag',\n",
              " 'diag_indices',\n",
              " 'diag_indices_from',\n",
              " 'diagflat',\n",
              " 'diagonal',\n",
              " 'diff',\n",
              " 'digitize',\n",
              " 'divide',\n",
              " 'divmod',\n",
              " 'dot',\n",
              " 'double',\n",
              " 'dsplit',\n",
              " 'dstack',\n",
              " 'dtype',\n",
              " 'dtypes',\n",
              " 'e',\n",
              " 'ediff1d',\n",
              " 'einsum',\n",
              " 'einsum_path',\n",
              " 'emath',\n",
              " 'empty',\n",
              " 'empty_like',\n",
              " 'equal',\n",
              " 'errstate',\n",
              " 'euler_gamma',\n",
              " 'exceptions',\n",
              " 'exp',\n",
              " 'exp2',\n",
              " 'expand_dims',\n",
              " 'expm1',\n",
              " 'extract',\n",
              " 'eye',\n",
              " 'f2py',\n",
              " 'fabs',\n",
              " 'fft',\n",
              " 'fill_diagonal',\n",
              " 'finfo',\n",
              " 'fix',\n",
              " 'flatiter',\n",
              " 'flatnonzero',\n",
              " 'flexible',\n",
              " 'flip',\n",
              " 'fliplr',\n",
              " 'flipud',\n",
              " 'float16',\n",
              " 'float32',\n",
              " 'float64',\n",
              " 'float_power',\n",
              " 'floating',\n",
              " 'floor',\n",
              " 'floor_divide',\n",
              " 'fmax',\n",
              " 'fmin',\n",
              " 'fmod',\n",
              " 'format_float_positional',\n",
              " 'format_float_scientific',\n",
              " 'frexp',\n",
              " 'from_dlpack',\n",
              " 'frombuffer',\n",
              " 'fromfile',\n",
              " 'fromfunction',\n",
              " 'fromiter',\n",
              " 'frompyfunc',\n",
              " 'fromregex',\n",
              " 'fromstring',\n",
              " 'full',\n",
              " 'full_like',\n",
              " 'gcd',\n",
              " 'generic',\n",
              " 'genfromtxt',\n",
              " 'geomspace',\n",
              " 'get_include',\n",
              " 'get_printoptions',\n",
              " 'getbufsize',\n",
              " 'geterr',\n",
              " 'geterrcall',\n",
              " 'gradient',\n",
              " 'greater',\n",
              " 'greater_equal',\n",
              " 'half',\n",
              " 'hamming',\n",
              " 'hanning',\n",
              " 'heaviside',\n",
              " 'histogram',\n",
              " 'histogram2d',\n",
              " 'histogram_bin_edges',\n",
              " 'histogramdd',\n",
              " 'hsplit',\n",
              " 'hstack',\n",
              " 'hypot',\n",
              " 'i0',\n",
              " 'identity',\n",
              " 'iinfo',\n",
              " 'imag',\n",
              " 'in1d',\n",
              " 'index_exp',\n",
              " 'indices',\n",
              " 'inexact',\n",
              " 'inf',\n",
              " 'info',\n",
              " 'inner',\n",
              " 'insert',\n",
              " 'int16',\n",
              " 'int32',\n",
              " 'int64',\n",
              " 'int8',\n",
              " 'int_',\n",
              " 'intc',\n",
              " 'integer',\n",
              " 'interp',\n",
              " 'intersect1d',\n",
              " 'intp',\n",
              " 'invert',\n",
              " 'is_busday',\n",
              " 'isclose',\n",
              " 'iscomplex',\n",
              " 'iscomplexobj',\n",
              " 'isdtype',\n",
              " 'isfinite',\n",
              " 'isfortran',\n",
              " 'isin',\n",
              " 'isinf',\n",
              " 'isnan',\n",
              " 'isnat',\n",
              " 'isneginf',\n",
              " 'isposinf',\n",
              " 'isreal',\n",
              " 'isrealobj',\n",
              " 'isscalar',\n",
              " 'issubdtype',\n",
              " 'iterable',\n",
              " 'ix_',\n",
              " 'kaiser',\n",
              " 'kron',\n",
              " 'lcm',\n",
              " 'ldexp',\n",
              " 'left_shift',\n",
              " 'less',\n",
              " 'less_equal',\n",
              " 'lexsort',\n",
              " 'lib',\n",
              " 'linalg',\n",
              " 'linspace',\n",
              " 'little_endian',\n",
              " 'load',\n",
              " 'loadtxt',\n",
              " 'log',\n",
              " 'log10',\n",
              " 'log1p',\n",
              " 'log2',\n",
              " 'logaddexp',\n",
              " 'logaddexp2',\n",
              " 'logical_and',\n",
              " 'logical_not',\n",
              " 'logical_or',\n",
              " 'logical_xor',\n",
              " 'logspace',\n",
              " 'long',\n",
              " 'longdouble',\n",
              " 'longlong',\n",
              " 'ma',\n",
              " 'mask_indices',\n",
              " 'matmul',\n",
              " 'matrix',\n",
              " 'matrix_transpose',\n",
              " 'matvec',\n",
              " 'max',\n",
              " 'maximum',\n",
              " 'may_share_memory',\n",
              " 'mean',\n",
              " 'median',\n",
              " 'memmap',\n",
              " 'meshgrid',\n",
              " 'mgrid',\n",
              " 'min',\n",
              " 'min_scalar_type',\n",
              " 'minimum',\n",
              " 'mintypecode',\n",
              " 'mod',\n",
              " 'modf',\n",
              " 'moveaxis',\n",
              " 'multiply',\n",
              " 'nan',\n",
              " 'nan_to_num',\n",
              " 'nanargmax',\n",
              " 'nanargmin',\n",
              " 'nancumprod',\n",
              " 'nancumsum',\n",
              " 'nanmax',\n",
              " 'nanmean',\n",
              " 'nanmedian',\n",
              " 'nanmin',\n",
              " 'nanpercentile',\n",
              " 'nanprod',\n",
              " 'nanquantile',\n",
              " 'nanstd',\n",
              " 'nansum',\n",
              " 'nanvar',\n",
              " 'ndarray',\n",
              " 'ndenumerate',\n",
              " 'ndim',\n",
              " 'ndindex',\n",
              " 'nditer',\n",
              " 'negative',\n",
              " 'nested_iters',\n",
              " 'newaxis',\n",
              " 'nextafter',\n",
              " 'nonzero',\n",
              " 'not_equal',\n",
              " 'number',\n",
              " 'object_',\n",
              " 'ogrid',\n",
              " 'ones',\n",
              " 'ones_like',\n",
              " 'outer',\n",
              " 'packbits',\n",
              " 'pad',\n",
              " 'partition',\n",
              " 'percentile',\n",
              " 'permute_dims',\n",
              " 'pi',\n",
              " 'piecewise',\n",
              " 'place',\n",
              " 'poly',\n",
              " 'poly1d',\n",
              " 'polyadd',\n",
              " 'polyder',\n",
              " 'polydiv',\n",
              " 'polyfit',\n",
              " 'polyint',\n",
              " 'polymul',\n",
              " 'polynomial',\n",
              " 'polysub',\n",
              " 'polyval',\n",
              " 'positive',\n",
              " 'pow',\n",
              " 'power',\n",
              " 'printoptions',\n",
              " 'prod',\n",
              " 'promote_types',\n",
              " 'ptp',\n",
              " 'put',\n",
              " 'put_along_axis',\n",
              " 'putmask',\n",
              " 'quantile',\n",
              " 'r_',\n",
              " 'rad2deg',\n",
              " 'radians',\n",
              " 'random',\n",
              " 'ravel',\n",
              " 'ravel_multi_index',\n",
              " 'real',\n",
              " 'real_if_close',\n",
              " 'rec',\n",
              " 'recarray',\n",
              " 'reciprocal',\n",
              " 'record',\n",
              " 'remainder',\n",
              " 'repeat',\n",
              " 'require',\n",
              " 'reshape',\n",
              " 'resize',\n",
              " 'result_type',\n",
              " 'right_shift',\n",
              " 'rint',\n",
              " 'roll',\n",
              " 'rollaxis',\n",
              " 'roots',\n",
              " 'rot90',\n",
              " 'round',\n",
              " 'row_stack',\n",
              " 's_',\n",
              " 'save',\n",
              " 'savetxt',\n",
              " 'savez',\n",
              " 'savez_compressed',\n",
              " 'sctypeDict',\n",
              " 'searchsorted',\n",
              " 'select',\n",
              " 'set_printoptions',\n",
              " 'setbufsize',\n",
              " 'setdiff1d',\n",
              " 'seterr',\n",
              " 'seterrcall',\n",
              " 'setxor1d',\n",
              " 'shape',\n",
              " 'shares_memory',\n",
              " 'short',\n",
              " 'show_config',\n",
              " 'show_runtime',\n",
              " 'sign',\n",
              " 'signbit',\n",
              " 'signedinteger',\n",
              " 'sin',\n",
              " 'sinc',\n",
              " 'single',\n",
              " 'sinh',\n",
              " 'size',\n",
              " 'sort',\n",
              " 'sort_complex',\n",
              " 'spacing',\n",
              " 'split',\n",
              " 'sqrt',\n",
              " 'square',\n",
              " 'squeeze',\n",
              " 'stack',\n",
              " 'std',\n",
              " 'str_',\n",
              " 'strings',\n",
              " 'subtract',\n",
              " 'sum',\n",
              " 'swapaxes',\n",
              " 'take',\n",
              " 'take_along_axis',\n",
              " 'tan',\n",
              " 'tanh',\n",
              " 'tensordot',\n",
              " 'test',\n",
              " 'testing',\n",
              " 'tile',\n",
              " 'timedelta64',\n",
              " 'trace',\n",
              " 'transpose',\n",
              " 'trapezoid',\n",
              " 'trapz',\n",
              " 'tri',\n",
              " 'tril',\n",
              " 'tril_indices',\n",
              " 'tril_indices_from',\n",
              " 'trim_zeros',\n",
              " 'triu',\n",
              " 'triu_indices',\n",
              " 'triu_indices_from',\n",
              " 'true_divide',\n",
              " 'trunc',\n",
              " 'typecodes',\n",
              " 'typename',\n",
              " 'typing',\n",
              " 'ubyte',\n",
              " 'ufunc',\n",
              " 'uint',\n",
              " 'uint16',\n",
              " 'uint32',\n",
              " 'uint64',\n",
              " 'uint8',\n",
              " 'uintc',\n",
              " 'uintp',\n",
              " 'ulong',\n",
              " 'ulonglong',\n",
              " 'union1d',\n",
              " 'unique',\n",
              " 'unique_all',\n",
              " 'unique_counts',\n",
              " 'unique_inverse',\n",
              " 'unique_values',\n",
              " 'unpackbits',\n",
              " 'unravel_index',\n",
              " 'unsignedinteger',\n",
              " 'unstack',\n",
              " 'unwrap',\n",
              " 'ushort',\n",
              " 'vander',\n",
              " 'var',\n",
              " 'vdot',\n",
              " 'vecdot',\n",
              " 'vecmat',\n",
              " 'vectorize',\n",
              " 'void',\n",
              " 'vsplit',\n",
              " 'vstack',\n",
              " 'where',\n",
              " 'zeros',\n",
              " 'zeros_like']"
            ]
          },
          "execution_count": 164,
          "metadata": {},
          "output_type": "execute_result"
        }
      ],
      "source": [
        "dir(numpy)"
      ]
    },
    {
      "cell_type": "code",
      "execution_count": 165,
      "metadata": {
        "colab": {
          "base_uri": "https://localhost:8080/"
        },
        "id": "yChJuS78QOlN",
        "outputId": "0ce4c3de-3e23-40b7-a1ea-ac91882b3739"
      },
      "outputs": [
        {
          "data": {
            "text/plain": [
              "np.float64(5.5)"
            ]
          },
          "execution_count": 165,
          "metadata": {},
          "output_type": "execute_result"
        }
      ],
      "source": [
        "import numpy as np\n",
        "\n",
        "# Dado un vector x , se calcula la media\n",
        "x = [1,2,3,4,5,6,7,8,9,10]\n",
        "np.mean(x)"
      ]
    },
    {
      "cell_type": "markdown",
      "metadata": {
        "id": "lVOb0Zst9eWO"
      },
      "source": [
        "### **11.1. Arrays**"
      ]
    },
    {
      "cell_type": "markdown",
      "metadata": {
        "id": "bS2uIXXO1ucu"
      },
      "source": [
        "Un array o arreglo ``Numpy`` es un colección N-dimensional homogénea de ítems del mismo tipo. El tipo, puede ser cualquier estructura arbitraria de bytes y es especificada usando tipos de datos. Un arreglo contiene:\n",
        "* Valores de un experimento/simulación en intervalos de tiempo discreto.\n",
        "* Señal grabada de un dispositivo de medición, por ejemplo, onda de sonido.\n",
        "* Pixeles de una imagen en escala de grises o en color.\n",
        "* Datos en 3D que miden diferentes posiciones XYZ.\n",
        "\n",
        "```Numpy``` es el encargado de añadir toda la capacidad matemática y vectorial a ```Python``` haciendo posible operar con cualquier dato numérico o array. Incorpora operaciones tan básicas como la suma o la multiplicación u otras mucho más complejas como la transformada de Fourier o el álgebra lineal. Además incorpora herramientas que nos permiten incorporar código fuente de otros lenguajes de programación como ```C/C++``` o ```Fortran``` lo que incrementa notablemente su compatibilidad e implementación."
      ]
    },
    {
      "cell_type": "markdown",
      "metadata": {
        "id": "MH56t7Tw2RcF"
      },
      "source": [
        "Un array es el término que traslada el concepto matemático de vector o matriz a la programación añadiéndole la noción de almacenamiento en memoria. Los arrays disponen en su interior de una serie de elementos dispuestos en filas y/o columnas dependiendo de la dimensión. El desarrollo y la principal finalidad del módulo Numpy es la creación y modificación de arrays multidimensionales.\n",
        "\n",
        "<tr>\n",
        "<td><img src=\"../figs/np_03.png\" align=\"middle\" style=\"width: 1000px;\"/> </td>\n",
        "</tr>\n",
        "\n",
        "Algunas instrucciones utiles son:\n",
        "* **ndarray.ndim** : Proporciona el número de dimensiones de nuestro array.\n",
        "* **ndarray.shape** : Devuelve el tamaño del array en cada dimensión. Para una matriz obtendremos ($n$,$m$).\n",
        "* **ndarray.size** : Es el número total de elementos del array.\n",
        "* **ndarray.dtype** : Es un objeto que describe el tipo de elementos del array.\n",
        "* **ndarray.itemsize**: devuelve el tamaño del array en bytes.\n",
        "* **ndarray.data** : El buffer contiene los elementos actuales del array."
      ]
    },
    {
      "cell_type": "code",
      "execution_count": 166,
      "metadata": {
        "colab": {
          "base_uri": "https://localhost:8080/"
        },
        "id": "oVludE8V21NJ",
        "outputId": "7d0a04f4-78a8-4eae-c842-9e6b5e5f48f2"
      },
      "outputs": [
        {
          "name": "stdout",
          "output_type": "stream",
          "text": [
            "[0 1 2 3 4]\n"
          ]
        }
      ],
      "source": [
        "x = np.array([0,1,2,3,4])\n",
        "print(x)"
      ]
    },
    {
      "cell_type": "code",
      "execution_count": 167,
      "metadata": {
        "colab": {
          "base_uri": "https://localhost:8080/"
        },
        "id": "b_7h661L4QoE",
        "outputId": "fe7b74ee-963b-43bd-946a-fcf294c1259d"
      },
      "outputs": [
        {
          "data": {
            "text/plain": [
              "dtype('int64')"
            ]
          },
          "execution_count": 167,
          "metadata": {},
          "output_type": "execute_result"
        }
      ],
      "source": [
        "# Dimension del array\n",
        "x.ndim # 1\n",
        "# Forma del array\n",
        "x.shape # 5\n",
        "# Taman~o del array\n",
        "x.size  # 5\n",
        "# Tipo del array\n",
        "x.dtype # dtype('int64')"
      ]
    },
    {
      "cell_type": "code",
      "execution_count": 168,
      "metadata": {
        "colab": {
          "base_uri": "https://localhost:8080/"
        },
        "id": "VwG3RgQC4eIJ",
        "outputId": "90817e7b-2cf4-469f-d332-35a8d51b0215"
      },
      "outputs": [
        {
          "data": {
            "text/plain": [
              "dtype('int64')"
            ]
          },
          "execution_count": 168,
          "metadata": {},
          "output_type": "execute_result"
        }
      ],
      "source": [
        "x.dtype"
      ]
    },
    {
      "cell_type": "markdown",
      "metadata": {
        "id": "kr_CuABs4vkk"
      },
      "source": [
        "Como hemos mencionando anteriormente, los arrays son unos de los elementos más utilizados por los programadores bajo cualquier lenguaje. Este gran uso hace que dispongamos de una gran variedad de comandos para la creación de arrays: arrays unidimensionales, multidimensionales, nulos, unitarios, secuenciales, de números aleatorios, etc. Dependiendo de las necesidades de nuestro problema escogeremos la opción más adecuada.\n",
        "\n",
        "Algunas funciones utiles son:\n",
        "* **identity** : Genera una matriz identidad.\n",
        "* **ones** : Genera un array de unos.\n",
        "* **zeros**: Genera un array de ceros.\n",
        "* **empty**: Genera un array vacio o sin entradas\n",
        "* **eye** : Genera un array bidimensional con unos en la diagonal $k$ y ceros en el resto.\n",
        "* **arange** : Genera un array con valores distanciados entre un valor inicial y uno final.\n",
        "* **linspace** : Genera un array con valor inicial, final, y numeros de elementos.\n",
        "* **mesgrid** : Genera una matriz de coordenadas a partir de dos arrays $x$, $y$."
      ]
    },
    {
      "cell_type": "code",
      "execution_count": 169,
      "metadata": {
        "colab": {
          "base_uri": "https://localhost:8080/"
        },
        "id": "OiDoSitz4yTC",
        "outputId": "5eb7a82f-0b5e-43e2-f5c1-b0a88894282c"
      },
      "outputs": [
        {
          "data": {
            "text/plain": [
              "array([[1., 0., 0.],\n",
              "       [0., 1., 0.],\n",
              "       [0., 0., 1.]])"
            ]
          },
          "execution_count": 169,
          "metadata": {},
          "output_type": "execute_result"
        }
      ],
      "source": [
        "# Matriz Identidad\n",
        "np.identity((3))"
      ]
    },
    {
      "cell_type": "code",
      "execution_count": 170,
      "metadata": {
        "colab": {
          "base_uri": "https://localhost:8080/"
        },
        "id": "L1vFPpwHCUu5",
        "outputId": "f3a1fa00-c293-4e6a-e506-360460e6271e"
      },
      "outputs": [
        {
          "data": {
            "text/plain": [
              "array([[1., 0., 0.],\n",
              "       [0., 1., 0.],\n",
              "       [0., 0., 1.]])"
            ]
          },
          "execution_count": 170,
          "metadata": {},
          "output_type": "execute_result"
        }
      ],
      "source": [
        "# Matriz con unos en la diagonal\n",
        "np.eye((3))"
      ]
    },
    {
      "cell_type": "code",
      "execution_count": 171,
      "metadata": {
        "colab": {
          "base_uri": "https://localhost:8080/"
        },
        "id": "9w6Y6oPp5Guk",
        "outputId": "4c1d0d21-e4d6-46bc-e4f2-fa1297b17bef"
      },
      "outputs": [
        {
          "data": {
            "text/plain": [
              "array([[0., 0., 0., 0.],\n",
              "       [0., 0., 0., 0.],\n",
              "       [0., 0., 0., 0.]])"
            ]
          },
          "execution_count": 171,
          "metadata": {},
          "output_type": "execute_result"
        }
      ],
      "source": [
        "# Matriz de Zeros\n",
        "np.zeros((3, 4))"
      ]
    },
    {
      "cell_type": "code",
      "execution_count": 172,
      "metadata": {
        "colab": {
          "base_uri": "https://localhost:8080/"
        },
        "id": "uWGBiDJH5OrO",
        "outputId": "2fe550a7-e5ff-4a3b-a44e-6fac2447e3b5"
      },
      "outputs": [
        {
          "data": {
            "text/plain": [
              "array([[1., 1., 1., 1.],\n",
              "       [1., 1., 1., 1.],\n",
              "       [1., 1., 1., 1.]])"
            ]
          },
          "execution_count": 172,
          "metadata": {},
          "output_type": "execute_result"
        }
      ],
      "source": [
        "# Matriz de Unos\n",
        "np.ones((3,4))"
      ]
    },
    {
      "cell_type": "markdown",
      "metadata": {
        "id": "W07QpZgA5fzM"
      },
      "source": [
        "**¿Cómo accedo a los elementos de una matriz ?**"
      ]
    },
    {
      "cell_type": "markdown",
      "metadata": {
        "id": "2gxoJZic5psn"
      },
      "source": [
        "Considere la siguiente matriz:\n",
        "\n",
        "<tr>\n",
        "<td><img src=\"../figs/np_02.png\" align = \"middle\" style=\"width: 1000px;\"/> </td>\n",
        "</tr>"
      ]
    },
    {
      "cell_type": "code",
      "execution_count": 173,
      "metadata": {
        "id": "Rcdfaq606gwd"
      },
      "outputs": [],
      "source": [
        "a = np.array([[0,1,2,3,4,5],\n",
        "              [10,11,12,13,14,15],\n",
        "              [20,21,22,23,24,25],\n",
        "              [30,31,32,33,34,35],\n",
        "              [40,41,42,43,44,45],\n",
        "              [50,51,52,53,54,55]])"
      ]
    },
    {
      "cell_type": "code",
      "execution_count": null,
      "metadata": {
        "colab": {
          "base_uri": "https://localhost:8080/"
        },
        "id": "ENO4YOGj6or6",
        "outputId": "8b84b939-3eba-4058-f895-575a75c87904"
      },
      "outputs": [
        {
          "data": {
            "text/plain": [
              "array([[20, 22, 24],\n",
              "       [40, 42, 44]])"
            ]
          },
          "execution_count": 173,
          "metadata": {},
          "output_type": "execute_result"
        }
      ],
      "source": [
        "a[0,3:5]\n",
        "a[4:,4:]\n",
        "a[:,2]\n",
        "a[2::2,::2]"
      ]
    },
    {
      "cell_type": "markdown",
      "metadata": {
        "id": "F8BoCPSIb93j"
      },
      "source": [
        "Un tensor es son objetos matemáticos que almacenan valores numéricos y que pueden tener distintas dimensiones. Así, por ejemplo, un tensor de 1D es un vector, de 2D una matriz, de 3D un cubo etc. ... En Python, estos tensores normalmente se almacenan en lo que se conoce como NumPy arrays.\n",
        "\n",
        "<tr>\n",
        "<td><img src=\"../figs/tensor.jpg\" align=\"middle\" style=\"width: 1000px;\"/> </td>\n",
        "</tr>\n",
        "\n",
        "**Observación:** La utilización de tensores tiene sentido cuando se utilizan redes neuronales convolucionales. Herramientas como Pytorch y Tensorflow son las más adecuadas a la hora de implementar arquitecturas de este tipo.\n",
        "\n",
        "<img src=\"../figs/maxpool.webp\" width=1000 height=400 />"
      ]
    },
    {
      "cell_type": "markdown",
      "metadata": {
        "id": "0DL_RWty6_Yp"
      },
      "source": [
        "### **11.2. Funciones para crear arrays**"
      ]
    },
    {
      "cell_type": "markdown",
      "metadata": {
        "id": "rwwzKyDL7ZoU"
      },
      "source": [
        "**Array uniformemente espaciado**"
      ]
    },
    {
      "cell_type": "code",
      "execution_count": 174,
      "metadata": {
        "colab": {
          "base_uri": "https://localhost:8080/"
        },
        "id": "g9frDo9K7FRA",
        "outputId": "d4ee3de4-f3a4-4fed-d8f9-ce0cd662bc39"
      },
      "outputs": [
        {
          "data": {
            "text/plain": [
              "array([0, 1, 2, 3, 4, 5, 6, 7, 8, 9])"
            ]
          },
          "execution_count": 174,
          "metadata": {},
          "output_type": "execute_result"
        }
      ],
      "source": [
        "## Genera un array de 0 ... n-1\n",
        "a = np.arange(10)\n",
        "a"
      ]
    },
    {
      "cell_type": "code",
      "execution_count": 175,
      "metadata": {
        "colab": {
          "base_uri": "https://localhost:8080/"
        },
        "id": "QFgQDMFQ7ISL",
        "outputId": "25180a01-0494-4577-be63-c4dbd87bfbea"
      },
      "outputs": [
        {
          "data": {
            "text/plain": [
              "array([1, 3, 5, 7])"
            ]
          },
          "execution_count": 175,
          "metadata": {},
          "output_type": "execute_result"
        }
      ],
      "source": [
        "## Genera un array de innicio, final, y un paso o delta\n",
        "b = np.arange(1,9,2)\n",
        "b"
      ]
    },
    {
      "cell_type": "markdown",
      "metadata": {
        "id": "2OzgBGWJ7eDo"
      },
      "source": [
        "**Array espaciado por puntos**"
      ]
    },
    {
      "cell_type": "code",
      "execution_count": 176,
      "metadata": {
        "colab": {
          "base_uri": "https://localhost:8080/"
        },
        "id": "YRchrmKi7LT6",
        "outputId": "623b1de3-a9e6-4012-c6df-bceca0f0d47a"
      },
      "outputs": [
        {
          "data": {
            "text/plain": [
              "array([0. , 0.2, 0.4, 0.6, 0.8, 1. ])"
            ]
          },
          "execution_count": 176,
          "metadata": {},
          "output_type": "execute_result"
        }
      ],
      "source": [
        "# Inicio, final, numero de puntos\n",
        "c = np.linspace(0,1,6)\n",
        "c"
      ]
    },
    {
      "cell_type": "code",
      "execution_count": 177,
      "metadata": {
        "colab": {
          "base_uri": "https://localhost:8080/"
        },
        "id": "FokQphh97h5-",
        "outputId": "b93721ba-954f-41de-9dee-beeed4e3ad23"
      },
      "outputs": [
        {
          "data": {
            "text/plain": [
              "array([0. , 0.2, 0.4, 0.6, 0.8])"
            ]
          },
          "execution_count": 177,
          "metadata": {},
          "output_type": "execute_result"
        }
      ],
      "source": [
        "d = np.linspace(0,1,5,endpoint=False)\n",
        "d"
      ]
    },
    {
      "cell_type": "code",
      "execution_count": 178,
      "metadata": {
        "colab": {
          "base_uri": "https://localhost:8080/"
        },
        "id": "O9-bUJOC7lzM",
        "outputId": "ea510b7d-e845-4e48-af83-7b202d0a00ba"
      },
      "outputs": [
        {
          "data": {
            "text/plain": [
              "array([[ 0,  1,  2,  3,  4],\n",
              "       [ 5,  6,  7,  8,  9],\n",
              "       [10, 11, 12, 13, 14]])"
            ]
          },
          "execution_count": 178,
          "metadata": {},
          "output_type": "execute_result"
        }
      ],
      "source": [
        "a = np.arange(15).reshape(3,5)\n",
        "a"
      ]
    },
    {
      "cell_type": "code",
      "execution_count": 179,
      "metadata": {
        "colab": {
          "base_uri": "https://localhost:8080/"
        },
        "id": "D7PMIUww7p8V",
        "outputId": "e4f3189d-0640-4842-eec1-508f9c5d52b4"
      },
      "outputs": [
        {
          "data": {
            "text/plain": [
              "(3, 5)"
            ]
          },
          "execution_count": 179,
          "metadata": {},
          "output_type": "execute_result"
        }
      ],
      "source": [
        "a.shape"
      ]
    },
    {
      "cell_type": "code",
      "execution_count": 180,
      "metadata": {
        "colab": {
          "base_uri": "https://localhost:8080/"
        },
        "id": "yvzG7-Ue7rIu",
        "outputId": "48614666-1682-4089-b5c8-d8e574e299a0"
      },
      "outputs": [
        {
          "data": {
            "text/plain": [
              "2"
            ]
          },
          "execution_count": 180,
          "metadata": {},
          "output_type": "execute_result"
        }
      ],
      "source": [
        "a.ndim"
      ]
    },
    {
      "cell_type": "code",
      "execution_count": 181,
      "metadata": {
        "colab": {
          "base_uri": "https://localhost:8080/"
        },
        "id": "Wm3mho527ucu",
        "outputId": "1c11894a-b517-4b54-fd5a-e32e6cc7624f"
      },
      "outputs": [
        {
          "data": {
            "text/plain": [
              "15"
            ]
          },
          "execution_count": 181,
          "metadata": {},
          "output_type": "execute_result"
        }
      ],
      "source": [
        "a.size"
      ]
    },
    {
      "cell_type": "code",
      "execution_count": 182,
      "metadata": {
        "colab": {
          "base_uri": "https://localhost:8080/"
        },
        "id": "gOHxCGb_7wva",
        "outputId": "5726f921-52c9-4388-87a8-edfb9bc536d8"
      },
      "outputs": [
        {
          "name": "stdout",
          "output_type": "stream",
          "text": [
            "[0 1 2 3 4 5]\n"
          ]
        }
      ],
      "source": [
        "## Array 1D\n",
        "a = np.arange(6)\n",
        "print(a)"
      ]
    },
    {
      "cell_type": "code",
      "execution_count": 183,
      "metadata": {
        "colab": {
          "base_uri": "https://localhost:8080/"
        },
        "id": "AYil0WWG76X6",
        "outputId": "8bca4981-8994-48ea-8d12-dc95affa01ec"
      },
      "outputs": [
        {
          "name": "stdout",
          "output_type": "stream",
          "text": [
            "[[ 0  1  2]\n",
            " [ 3  4  5]\n",
            " [ 6  7  8]\n",
            " [ 9 10 11]]\n"
          ]
        }
      ],
      "source": [
        "## Array 2d\n",
        "b = np.arange(12).reshape(4,3)\n",
        "print(b)"
      ]
    },
    {
      "cell_type": "code",
      "execution_count": 184,
      "metadata": {
        "colab": {
          "base_uri": "https://localhost:8080/"
        },
        "id": "3LqrrjPA8B0Q",
        "outputId": "6a2e4c16-7c3e-41d9-b8dc-44cc5b30a667"
      },
      "outputs": [
        {
          "name": "stdout",
          "output_type": "stream",
          "text": [
            "[[[ 0  1  2  3]\n",
            "  [ 4  5  6  7]\n",
            "  [ 8  9 10 11]]\n",
            "\n",
            " [[12 13 14 15]\n",
            "  [16 17 18 19]\n",
            "  [20 21 22 23]]]\n"
          ]
        }
      ],
      "source": [
        "## Array 3d\n",
        "c = np.arange(24).reshape(2,3,4)\n",
        "print(c)"
      ]
    },
    {
      "cell_type": "markdown",
      "metadata": {
        "id": "V1kX9nDT91sy"
      },
      "source": [
        "**Operaciones Básicas**"
      ]
    },
    {
      "cell_type": "code",
      "execution_count": 185,
      "metadata": {
        "colab": {
          "base_uri": "https://localhost:8080/"
        },
        "id": "EbnKFqkL95J4",
        "outputId": "4cb5623c-6877-435c-fb81-fbf6edb543cb"
      },
      "outputs": [
        {
          "data": {
            "text/plain": [
              "array([1.        , 1.33333333, 1.66666667, 4.        ])"
            ]
          },
          "execution_count": 185,
          "metadata": {},
          "output_type": "execute_result"
        }
      ],
      "source": [
        "a = np.array([1, 2, 3, 6])\n",
        "b = np.linspace(0, 2, 4)\n",
        "c = a - b\n",
        "c"
      ]
    },
    {
      "cell_type": "code",
      "execution_count": 186,
      "metadata": {
        "colab": {
          "base_uri": "https://localhost:8080/"
        },
        "id": "LCLdL1av9-2e",
        "outputId": "20717bcc-8378-4672-c775-1aea3c41b89d"
      },
      "outputs": [
        {
          "data": {
            "text/plain": [
              "array([ 1,  4,  9, 36])"
            ]
          },
          "execution_count": 186,
          "metadata": {},
          "output_type": "execute_result"
        }
      ],
      "source": [
        "a**2"
      ]
    },
    {
      "cell_type": "code",
      "execution_count": 187,
      "metadata": {
        "id": "xeh85ZbR-ApH"
      },
      "outputs": [],
      "source": [
        "a = np.linspace(-np.pi, np.pi, 100)\n",
        "b = np.sin(a)\n",
        "c = np.cos(a)"
      ]
    },
    {
      "cell_type": "code",
      "execution_count": 188,
      "metadata": {
        "colab": {
          "base_uri": "https://localhost:8080/"
        },
        "id": "9hTBhLhSCvyd",
        "outputId": "a8eb2ce5-9f49-4d4e-f62a-51f23e92b16c"
      },
      "outputs": [
        {
          "data": {
            "text/plain": [
              "array([3, 7])"
            ]
          },
          "execution_count": 188,
          "metadata": {},
          "output_type": "execute_result"
        }
      ],
      "source": [
        "x = np.array([[1,2],[3,4]])\n",
        "np.sum(x)           # Calcula la suma de todo los elementos de la matriz x\n",
        "np.sum(x, axis=0)   # Calcula la suma de cada columna\n",
        "np.sum(x, axis=1)   # Calcula la suma de cada fila"
      ]
    },
    {
      "cell_type": "markdown",
      "metadata": {
        "id": "LRJXBNBu9jhy"
      },
      "source": [
        "### **11.3. Algebra Lineal**"
      ]
    },
    {
      "cell_type": "code",
      "execution_count": 189,
      "metadata": {
        "colab": {
          "base_uri": "https://localhost:8080/"
        },
        "id": "iGODTIi7-Iqm",
        "outputId": "ddeabe66-44a2-41c4-af6e-59df98c38d4b"
      },
      "outputs": [
        {
          "data": {
            "text/plain": [
              "array([[1. , 2. , 3. ],\n",
              "       [3. , 4. , 6.7],\n",
              "       [5. , 9. , 5. ]])"
            ]
          },
          "execution_count": 189,
          "metadata": {},
          "output_type": "execute_result"
        }
      ],
      "source": [
        "from numpy.random import rand\n",
        "from numpy.linalg import solve, inv\n",
        "\n",
        "# Crea una matriz\n",
        "a = np.array([[1, 2, 3], [3, 4, 6.7], [5, 9.0, 5]])\n",
        "a"
      ]
    },
    {
      "cell_type": "code",
      "execution_count": 190,
      "metadata": {
        "colab": {
          "base_uri": "https://localhost:8080/"
        },
        "id": "aG-zIWdP-jfG",
        "outputId": "2232f573-f05e-497e-b5ec-15929937186f"
      },
      "outputs": [
        {
          "data": {
            "text/plain": [
              "array([[1. , 3. , 5. ],\n",
              "       [2. , 4. , 9. ],\n",
              "       [3. , 6.7, 5. ]])"
            ]
          },
          "execution_count": 190,
          "metadata": {},
          "output_type": "execute_result"
        }
      ],
      "source": [
        "# Transpone una matriz\n",
        "a.transpose()"
      ]
    },
    {
      "cell_type": "code",
      "execution_count": 191,
      "metadata": {
        "colab": {
          "base_uri": "https://localhost:8080/"
        },
        "id": "KK4rbjt_-o_G",
        "outputId": "64cba72e-0783-49b6-bd63-64de0f96a676"
      },
      "outputs": [
        {
          "data": {
            "text/plain": [
              "array([[-2.27683616,  0.96045198,  0.07909605],\n",
              "       [ 1.04519774, -0.56497175,  0.1299435 ],\n",
              "       [ 0.39548023,  0.05649718, -0.11299435]])"
            ]
          },
          "execution_count": 191,
          "metadata": {},
          "output_type": "execute_result"
        }
      ],
      "source": [
        "# Inversa de la matriz\n",
        "inv(a)"
      ]
    },
    {
      "cell_type": "code",
      "execution_count": 192,
      "metadata": {
        "colab": {
          "base_uri": "https://localhost:8080/"
        },
        "id": "bQqNLidrAWKX",
        "outputId": "aa0e95c8-373f-4296-d6b7-91224d489579"
      },
      "outputs": [
        {
          "data": {
            "text/plain": [
              "array([-4.83050847,  2.13559322,  1.18644068])"
            ]
          },
          "execution_count": 192,
          "metadata": {},
          "output_type": "execute_result"
        }
      ],
      "source": [
        "# Resuelvo Ecuacion\n",
        "a = np.array([[1, 2, 3], [3, 4, 6.7], [5, 9.0, 5]])\n",
        "b = np.array([3, 2, 1])\n",
        "solve(a,b)"
      ]
    },
    {
      "cell_type": "code",
      "execution_count": 193,
      "metadata": {
        "colab": {
          "base_uri": "https://localhost:8080/"
        },
        "id": "Kj69HjKGAj5S",
        "outputId": "c0763166-b93b-4559-99fb-306223062227"
      },
      "outputs": [
        {
          "data": {
            "text/plain": [
              "array([[10.95049864, 11.26913828,  6.51111747],\n",
              "       [ 1.55710799, 18.40437498, 14.04697523],\n",
              "       [13.27399952,  1.49100143,  8.37722465]])"
            ]
          },
          "execution_count": 193,
          "metadata": {},
          "output_type": "execute_result"
        }
      ],
      "source": [
        "# Matriz aleatoria en el intervalo [0, 1] escalado por 20\n",
        "c = rand(3, 3) * 20\n",
        "c"
      ]
    },
    {
      "cell_type": "code",
      "execution_count": 194,
      "metadata": {
        "colab": {
          "base_uri": "https://localhost:8080/"
        },
        "id": "cOpPhg5IBVUD",
        "outputId": "0ed13805-02a7-47e9-833b-ee3e04600333"
      },
      "outputs": [
        {
          "data": {
            "text/plain": [
              "array([[ 53.8867132 ,  52.55089252,  59.7367419 ],\n",
              "       [128.0157247 , 117.41462433, 131.84865853],\n",
              "       [135.13646276, 229.44007334, 200.86448773]])"
            ]
          },
          "execution_count": 194,
          "metadata": {},
          "output_type": "execute_result"
        }
      ],
      "source": [
        "# Multiplacion de Matrices\n",
        "np.dot(a, c)"
      ]
    },
    {
      "cell_type": "code",
      "execution_count": 195,
      "metadata": {
        "colab": {
          "base_uri": "https://localhost:8080/"
        },
        "id": "dzgOIWT8BZ-_",
        "outputId": "7a046d72-4d2b-4cfb-fb2a-21ae90e6d0d6"
      },
      "outputs": [
        {
          "data": {
            "text/plain": [
              "array([[ 53.8867132 ,  52.55089252,  59.7367419 ],\n",
              "       [128.0157247 , 117.41462433, 131.84865853],\n",
              "       [135.13646276, 229.44007334, 200.86448773]])"
            ]
          },
          "execution_count": 195,
          "metadata": {},
          "output_type": "execute_result"
        }
      ],
      "source": [
        "# Multiplicacion de Matrices (versiones de python > 3.5 y numpy 1.10)\n",
        "a @ c"
      ]
    },
    {
      "cell_type": "markdown",
      "metadata": {
        "id": "Jb0wNJCQDbYP"
      },
      "source": [
        "### **11.4 Funciones Estadísticas**\n",
        "\n",
        "<tr>\n",
        "<td><img src=\"../figs/stats.png\" align=\"middle\" style=\"width: 1000px;\"/> </td>\n",
        "</tr>"
      ]
    },
    {
      "cell_type": "markdown",
      "metadata": {
        "id": "oExInkRcGNA_"
      },
      "source": [
        "**Algunas funciones**\n",
        "\n",
        "* **np.amin():** Calcula el valor mínimo de un array.\n",
        "* **np.amax():** Calcula el valor máximo de un array.\n",
        "* **np.mean():** Calcula la media de un conjunto de datos.\n",
        "* **np.median():** Calcula la mediana de un conjunto de datos.\n",
        "* **np.std():** Calcula la desviación estandar\n",
        "* **np.var():** Calcula la varianza\n",
        "* **np.average():** Calcula la media ponderada\n",
        "* **np.percentile:** Determinal el percentil n-ésimo de un conjunto de datos."
      ]
    },
    {
      "cell_type": "code",
      "execution_count": 208,
      "metadata": {
        "colab": {
          "base_uri": "https://localhost:8080/"
        },
        "id": "1eJZlkqGFOQm",
        "outputId": "89c2108a-49cd-44fd-88e3-2741e6a77e36"
      },
      "outputs": [
        {
          "data": {
            "text/plain": [
              "array([[ 1, 23, 78],\n",
              "       [98, 60, 75],\n",
              "       [79, 25, 48]])"
            ]
          },
          "execution_count": 208,
          "metadata": {},
          "output_type": "execute_result"
        }
      ],
      "source": [
        "import numpy as np\n",
        "y = np.array([[1,23,78],[98,60,75],[79,25,48]])\n",
        "y"
      ]
    },
    {
      "cell_type": "code",
      "execution_count": 209,
      "metadata": {
        "colab": {
          "base_uri": "https://localhost:8080/"
        },
        "id": "TPj0WNOwHNy5",
        "outputId": "09289d4c-bc47-4b1f-fc5e-61e4d5124936"
      },
      "outputs": [
        {
          "data": {
            "text/plain": [
              "np.int64(1)"
            ]
          },
          "execution_count": 209,
          "metadata": {},
          "output_type": "execute_result"
        }
      ],
      "source": [
        "# Minimo\n",
        "np.min(y)"
      ]
    },
    {
      "cell_type": "code",
      "execution_count": 210,
      "metadata": {
        "colab": {
          "base_uri": "https://localhost:8080/"
        },
        "id": "PnqUl7I6HRFS",
        "outputId": "a5d32ebe-32ec-4f29-c9a6-3c96d72bc75f"
      },
      "outputs": [
        {
          "data": {
            "text/plain": [
              "np.int64(98)"
            ]
          },
          "execution_count": 210,
          "metadata": {},
          "output_type": "execute_result"
        }
      ],
      "source": [
        "# Maximo\n",
        "np.max(y)"
      ]
    },
    {
      "cell_type": "code",
      "execution_count": 211,
      "metadata": {
        "colab": {
          "base_uri": "https://localhost:8080/"
        },
        "id": "7x26mhChHca8",
        "outputId": "4c6af13e-6be1-4d48-841d-2fea27fc0b24"
      },
      "outputs": [
        {
          "data": {
            "text/plain": [
              "np.float64(54.111111111111114)"
            ]
          },
          "execution_count": 211,
          "metadata": {},
          "output_type": "execute_result"
        }
      ],
      "source": [
        "# Promedio\n",
        "np.mean(y)"
      ]
    },
    {
      "cell_type": "code",
      "execution_count": 212,
      "metadata": {
        "colab": {
          "base_uri": "https://localhost:8080/"
        },
        "id": "4vuid9aqHi4N",
        "outputId": "dfeb046a-8af7-4ebc-d8f8-033c64c964e1"
      },
      "outputs": [
        {
          "data": {
            "text/plain": [
              "np.float64(60.0)"
            ]
          },
          "execution_count": 212,
          "metadata": {},
          "output_type": "execute_result"
        }
      ],
      "source": [
        "# Mediana\n",
        "np.median(y)"
      ]
    },
    {
      "cell_type": "code",
      "execution_count": 213,
      "metadata": {
        "colab": {
          "base_uri": "https://localhost:8080/"
        },
        "id": "uqu7oxxCHmdn",
        "outputId": "e316b9b7-e691-4414-d2ef-505da1354d20"
      },
      "outputs": [
        {
          "data": {
            "text/plain": [
              "np.float64(30.296477405960523)"
            ]
          },
          "execution_count": 213,
          "metadata": {},
          "output_type": "execute_result"
        }
      ],
      "source": [
        "# Desviacion Standar\n",
        "np.std(y)"
      ]
    },
    {
      "cell_type": "code",
      "execution_count": 214,
      "metadata": {
        "colab": {
          "base_uri": "https://localhost:8080/"
        },
        "id": "dLm9FBoDHr4W",
        "outputId": "8429ce88-a945-4a8b-bd4c-8fa9a0fa83c2"
      },
      "outputs": [
        {
          "data": {
            "text/plain": [
              "np.float64(917.8765432098766)"
            ]
          },
          "execution_count": 214,
          "metadata": {},
          "output_type": "execute_result"
        }
      ],
      "source": [
        "# Varianza\n",
        "np.var(y)"
      ]
    },
    {
      "cell_type": "code",
      "execution_count": 215,
      "metadata": {
        "colab": {
          "base_uri": "https://localhost:8080/"
        },
        "id": "VRsGwXJ5H7ed",
        "outputId": "e315ad0e-79b2-408c-a863-c57a9f29dfb0"
      },
      "outputs": [
        {
          "data": {
            "text/plain": [
              "np.float64(5.615384615384615)"
            ]
          },
          "execution_count": 215,
          "metadata": {},
          "output_type": "execute_result"
        }
      ],
      "source": [
        "# Media Ponderada\n",
        "a = np.array([5,6,7])\n",
        "wt = np.array([8,2,3])\n",
        "np.average(a, weights=wt)"
      ]
    },
    {
      "cell_type": "code",
      "execution_count": 216,
      "metadata": {
        "colab": {
          "base_uri": "https://localhost:8080/"
        },
        "id": "1FFCtvCGIJrb",
        "outputId": "fe55ef31-a6c7-4421-bece-3a2ea8c97112"
      },
      "outputs": [
        {
          "data": {
            "text/plain": [
              "np.float64(3.6)"
            ]
          },
          "execution_count": 216,
          "metadata": {},
          "output_type": "execute_result"
        }
      ],
      "source": [
        "# Percentil\n",
        "a = np.array([2,10,20])\n",
        "np.percentile(a,10,0)"
      ]
    },
    {
      "cell_type": "markdown",
      "metadata": {
        "id": "QjE7-Y7gIqOJ"
      },
      "source": [
        "¿Y como obtengo la media geométrica ?\n",
        "\n",
        "$$\\bar{x} = \\left(\\prod_{i=1}^{n} x_{i}\\right)^{1/n}$$"
      ]
    },
    {
      "cell_type": "code",
      "execution_count": 217,
      "metadata": {
        "id": "RN7_7phSIpV_"
      },
      "outputs": [],
      "source": [
        "import numpy as np\n",
        "\n",
        "def geom_media(x):\n",
        "  a = np.array(x)\n",
        "  return a.prod()**(1/len(a))"
      ]
    },
    {
      "cell_type": "code",
      "execution_count": 218,
      "metadata": {
        "colab": {
          "base_uri": "https://localhost:8080/"
        },
        "id": "-QQ2O_hYJJ0X",
        "outputId": "d4088210-1e38-464c-c384-ebb226fbeae8"
      },
      "outputs": [
        {
          "data": {
            "text/plain": [
              "np.float64(46.41588833612778)"
            ]
          },
          "execution_count": 218,
          "metadata": {},
          "output_type": "execute_result"
        }
      ],
      "source": [
        "geom_media([1.0, 0.00001, 10000000000.])"
      ]
    },
    {
      "cell_type": "markdown",
      "metadata": {
        "id": "dq6BXgsZJWeP"
      },
      "source": [
        "Para corroborar el valor, la función de media geométrica no se encuentra en numpy, pero si se encuentra en scipy como ``gmean``"
      ]
    },
    {
      "cell_type": "code",
      "execution_count": 219,
      "metadata": {
        "colab": {
          "base_uri": "https://localhost:8080/"
        },
        "id": "2wrpJYxmJh1G",
        "outputId": "fc8687e3-feb7-45ca-98cf-bff89878f792"
      },
      "outputs": [
        {
          "data": {
            "text/plain": [
              "np.float64(46.415888336127786)"
            ]
          },
          "execution_count": 219,
          "metadata": {},
          "output_type": "execute_result"
        }
      ],
      "source": [
        "from scipy.stats.mstats import gmean\n",
        "gmean([1.0, 0.00001, 10000000000.])"
      ]
    },
    {
      "cell_type": "markdown",
      "metadata": {
        "id": "tVQm_WVsbNM3"
      },
      "source": [
        "\n",
        "\n",
        "---\n",
        "\n"
      ]
    },
    {
      "cell_type": "markdown",
      "metadata": {
        "id": "kHsvsz5WLqyI"
      },
      "source": [
        "**Ejercicio : Mínimos Cuadrados Regularizados**\n",
        "\n",
        "* De acuerdo al siguiente modelo\n",
        "estadistico\n",
        "\n",
        "$$\n",
        "\\begin{equation*}\n",
        "\\begin{aligned}\n",
        "\\epsilon &\\sim \\mathcal{N}(0_p,\\sigma^2{\\bf{I}}_{nn}) \\\\\n",
        "Y &\\sim \\mathcal{N}(X\\beta,\\sigma^2{\\bf{I}}_{nn})\n",
        "\\end{aligned}\n",
        "\\end{equation*}\n",
        "$$\n",
        "\n",
        "Implementar matricialmente el estimador de minimos cuadrados ordinarios (MCO) y regularizados usando funciones de numpy.\n",
        "\n",
        "$$\n",
        "\\begin{equation*}\n",
        "\\begin{aligned}\n",
        "\\widehat{\\beta}_{MCO} &= (X^{t}X)^{-1}X^{t}Y \\\\\n",
        "\\widehat{\\beta}_{RR} &= (X^{t}X + \\rho{\\bf{I}})^{-1}X^{t}Y\n",
        "\\end{aligned}\n",
        "\\end{equation*}\n",
        "$$\n",
        "\n",
        "Donde $\\rho=1$ representa a regularizaciones LASSO y $\\rho=2$ representa a regularizaciones Ridge."
      ]
    },
    {
      "cell_type": "code",
      "execution_count": 225,
      "metadata": {
        "id": "WeIXakcXRkrH"
      },
      "outputs": [],
      "source": [
        "import numpy as np\n",
        "\n",
        "# Parametros\n",
        "mu, sigma, n = 0, 0.5, 10\n",
        "\n",
        "# Vectores aleatorios normales\n",
        "Y = np.random.normal(mu, sigma, n)\n",
        "X = np.random.normal(mu, sigma, n)"
      ]
    },
    {
      "cell_type": "code",
      "execution_count": 226,
      "metadata": {
        "colab": {
          "base_uri": "https://localhost:8080/"
        },
        "id": "DYqT4POFTMJf",
        "outputId": "3729b4e4-ac2c-4325-957d-ea5ae9ccd8e6"
      },
      "outputs": [
        {
          "data": {
            "text/plain": [
              "array([[ 1.        ,  0.51610311],\n",
              "       [ 1.        , -0.55199539],\n",
              "       [ 1.        ,  0.80013642],\n",
              "       [ 1.        ,  0.34570443],\n",
              "       [ 1.        ,  0.59832826],\n",
              "       [ 1.        ,  0.73694195],\n",
              "       [ 1.        , -0.01377749],\n",
              "       [ 1.        , -0.6281286 ],\n",
              "       [ 1.        ,  0.89459912],\n",
              "       [ 1.        ,  0.10819689]])"
            ]
          },
          "execution_count": 226,
          "metadata": {},
          "output_type": "execute_result"
        }
      ],
      "source": [
        "# Genero una nueva matriz X\n",
        "np.column_stack((np.ones(n),X))"
      ]
    },
    {
      "cell_type": "code",
      "execution_count": 227,
      "metadata": {
        "colab": {
          "base_uri": "https://localhost:8080/"
        },
        "id": "0VFo6RP4TcT-",
        "outputId": "8572f37d-5354-45ef-fe88-9728b7102e31"
      },
      "outputs": [
        {
          "data": {
            "text/plain": [
              "array([-0.1495072 , -0.22577843])"
            ]
          },
          "execution_count": 227,
          "metadata": {},
          "output_type": "execute_result"
        }
      ],
      "source": [
        "# Estimador Minimos Cuadradros Ordinarios\n",
        "Xnew = np.column_stack((np.ones(n),X))\n",
        "beta = inv(Xnew.transpose() @ Xnew) @ Xnew.transpose() @ Y\n",
        "beta"
      ]
    },
    {
      "cell_type": "code",
      "execution_count": 228,
      "metadata": {
        "colab": {
          "base_uri": "https://localhost:8080/"
        },
        "id": "NraOJzO4Rtzc",
        "outputId": "a8d22b5d-dc90-4e1f-9342-cf7319c53869"
      },
      "outputs": [
        {
          "data": {
            "text/plain": [
              "array([-0.1495072 , -0.22577843])"
            ]
          },
          "execution_count": 228,
          "metadata": {},
          "output_type": "execute_result"
        }
      ],
      "source": [
        "# Estimador Minimos Cuadradros Regularizados\n",
        "rho  = 0\n",
        "Xnew = np.column_stack((np.ones(n),X))\n",
        "beta = inv(Xnew.transpose()@Xnew + rho*np.identity((Xnew.ndim))) @ Xnew.transpose() @ Y\n",
        "beta"
      ]
    },
    {
      "cell_type": "code",
      "execution_count": 229,
      "metadata": {
        "colab": {
          "base_uri": "https://localhost:8080/"
        },
        "id": "yLdkyknDTacN",
        "outputId": "b2373cfd-b606-42f4-c9bf-6798637291fd"
      },
      "outputs": [
        {
          "name": "stdout",
          "output_type": "stream",
          "text": [
            "                            OLS Regression Results                            \n",
            "==============================================================================\n",
            "Dep. Variable:                      y   R-squared:                       0.051\n",
            "Model:                            OLS   Adj. R-squared:                 -0.068\n",
            "Method:                 Least Squares   F-statistic:                    0.4293\n",
            "Date:                Fri, 09 May 2025   Prob (F-statistic):              0.531\n",
            "Time:                        17:19:55   Log-Likelihood:                -7.2945\n",
            "No. Observations:                  10   AIC:                             18.59\n",
            "Df Residuals:                       8   BIC:                             19.19\n",
            "Df Model:                           1                                         \n",
            "Covariance Type:            nonrobust                                         \n",
            "==============================================================================\n",
            "                 coef    std err          t      P>|t|      [0.025      0.975]\n",
            "------------------------------------------------------------------------------\n",
            "const         -0.1495      0.202     -0.740      0.481      -0.615       0.316\n",
            "x1            -0.2258      0.345     -0.655      0.531      -1.020       0.569\n",
            "==============================================================================\n",
            "Omnibus:                        0.330   Durbin-Watson:                   2.647\n",
            "Prob(Omnibus):                  0.848   Jarque-Bera (JB):                0.445\n",
            "Skew:                           0.208   Prob(JB):                        0.800\n",
            "Kurtosis:                       2.054   Cond. No.                         2.14\n",
            "==============================================================================\n",
            "\n",
            "Notes:\n",
            "[1] Standard Errors assume that the covariance matrix of the errors is correctly specified.\n"
          ]
        }
      ],
      "source": [
        "# Comprobacion con libreria statmodels (tambien se solicita cargar pandas)\n",
        "import pandas as pd\n",
        "import warnings\n",
        "\n",
        "import statsmodels.api as sm\n",
        "warnings.filterwarnings(\"ignore\")\n",
        "\n",
        "Xnew2   = sm.add_constant(X)\n",
        "model   = sm.OLS(Y,Xnew2)\n",
        "results = model.fit()\n",
        "print(results.summary())"
      ]
    }
  ],
  "metadata": {
    "colab": {
      "provenance": [],
      "toc_visible": true
    },
    "kernelspec": {
      "display_name": "env_ds_finance",
      "language": "python",
      "name": "python3"
    },
    "language_info": {
      "codemirror_mode": {
        "name": "ipython",
        "version": 3
      },
      "file_extension": ".py",
      "mimetype": "text/x-python",
      "name": "python",
      "nbconvert_exporter": "python",
      "pygments_lexer": "ipython3",
      "version": "3.10.17"
    }
  },
  "nbformat": 4,
  "nbformat_minor": 0
}
