{
 "cells": [
  {
   "cell_type": "markdown",
   "id": "c205c29e",
   "metadata": {},
   "source": [
    "## **Data Science Aplicado a las Finanzas** 🚀\n",
    "### **Sesión 3:  Análisis Estadístico Aplicado**\n",
    "\n",
    "Andrés C. Medina Sanhueza\n",
    "\n",
    "Senior Datascientist Engineer \n",
    "\n",
    "anmedinas@gmail.com"
   ]
  },
  {
   "cell_type": "markdown",
   "id": "90ae110d",
   "metadata": {},
   "source": [
    "**Tópicos** ✏️\n",
    "1. **Sesión 3**\n",
    "  * Transformación de datos financieros \n",
    "  * Análisis de relaciones entre variables \n",
    "  * Comparación estadística de activos\n",
    "  \n",
    "  ---"
   ]
  }
 ],
 "metadata": {
  "language_info": {
   "name": "python"
  }
 },
 "nbformat": 4,
 "nbformat_minor": 5
}
